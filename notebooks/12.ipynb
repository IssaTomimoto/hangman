{
  "cells": [
    {
      "cell_type": "markdown",
      "source": [
        "# グラフ"
      ],
      "metadata": {
        "id": "Acg3BOo0t1pS"
      },
      "id": "Acg3BOo0t1pS"
    },
    {
      "cell_type": "markdown",
      "source": [],
      "metadata": {
        "id": "uTk4rpaMt1pT"
      },
      "id": "uTk4rpaMt1pT"
    },
    {
      "cell_type": "markdown",
      "source": [
        "## グラフ：問題にチャレンジする前に"
      ],
      "metadata": {
        "id": "ma3EdBrtt1pT"
      },
      "id": "ma3EdBrtt1pT"
    },
    {
      "cell_type": "markdown",
      "source": [
        "\n",
        "Pythonにはnetworkxというグラフのためのライブラリがある。とても強力なライブラリだから，基本的な使い方は知っておくべきなのだが，Aizu Online Judgeではその練習ができない。その分はAtCoderの問題で補うことにする。\n",
        "\n",
        "-   手軽なのがいい人→♥networkxを使う\n",
        "-   教科書どおりがいい人→♦networkxを使わない\n",
        "-   余裕がある人→♥♦\n",
        "\n",
        "この資料で扱う問題で使う，networkxの要素は表のとおり。\n",
        "\n",
        "| 要素                                               | 機能                  |\n",
        "|----------------------------------------------------|-----------------------|\n",
        "| `G = nx.Graph()`                                   | 無向グラフの作成      |\n",
        "| `G = nx.DiGraph()`                                 | 有向グラフの作成      |\n",
        "| `G[u]`                                             | ノード`u`の隣接ノード |\n",
        "| `G.add_nodes_from(...)`                            | ノードのリストの追加  |\n",
        "| `G.add_edges_from(...)`                            | エッジのリストの追加  |\n",
        "| `G.add_edge(u, v)`                                 | エッジの追加          |\n",
        "| `G.degree`                                         | 各ノードの次数        |\n",
        "| `nx.adjacency_matrix(G)`                           | 隣接行列              |\n",
        "| `nx.is_connected(G)`                               | 連結である            |\n",
        "| `nx.dfs_preorder_nodes(G, source)`                 | 深さ優先探索          |\n",
        "| `nx.bfs_edges(G, source)`                          | 幅優先探索            |\n",
        "| `nx.draw(G, with_labels=True)`                     | グラフの描画          |\n",
        "| `nx.single_source_shortest_path_length(G, source)` | 単一始点最短経路長    |\n",
        "| `nx.utils.UnionFind(...)`                          | Union-Find            |"
      ],
      "metadata": {
        "id": "JCThIaR2t1pU"
      },
      "id": "JCThIaR2t1pU"
    },
    {
      "cell_type": "markdown",
      "source": [
        "### 無向グラフ"
      ],
      "metadata": {
        "id": "bvAZNfJft1pU"
      },
      "id": "bvAZNfJft1pU"
    },
    {
      "cell_type": "code",
      "execution_count": null,
      "metadata": {
        "id": "A68Uc6WHt1pU"
      },
      "outputs": [],
      "source": [
        "import networkx as nx\n",
        "\n",
        "G = nx.Graph()\n",
        "G.add_edges_from([(1, 2), (1, 2), (1, 4), (2, 4), (4, 3)])\n",
        "nx.draw(G, with_labels=True, node_color='greenyellow')"
      ],
      "id": "A68Uc6WHt1pU"
    },
    {
      "cell_type": "code",
      "execution_count": null,
      "metadata": {
        "id": "yGeuc9cPt1pV"
      },
      "outputs": [],
      "source": [
        "# 2の隣接ノード\n",
        "print(list(G[2]))\n",
        "\n",
        "# 各ノードの次数\n",
        "print(G.degree)"
      ],
      "id": "yGeuc9cPt1pV"
    },
    {
      "cell_type": "markdown",
      "source": [
        "### 有向グラフ"
      ],
      "metadata": {
        "id": "PMld28iGt1pV"
      },
      "id": "PMld28iGt1pV"
    },
    {
      "cell_type": "code",
      "execution_count": null,
      "metadata": {
        "id": "g58L5N2Et1pW"
      },
      "outputs": [],
      "source": [
        "import networkx as nx\n",
        "\n",
        "G = nx.DiGraph()\n",
        "G.add_edges_from([(1, 2), (1, 2), (1, 4), (2, 4), (4, 3)])\n",
        "nx.draw(G, with_labels=True, node_color='greenyellow')"
      ],
      "id": "g58L5N2Et1pW"
    },
    {
      "cell_type": "markdown",
      "source": [
        "### グラフの描画"
      ],
      "metadata": {
        "id": "g-7QG9_Kt1pW"
      },
      "id": "g-7QG9_Kt1pW"
    },
    {
      "cell_type": "markdown",
      "source": [
        "\n",
        "ファイルからグラフを構築し描画する関数を作っておく。\n",
        "\n",
        "対応するパターン\n",
        "\n",
        "| ファイル名  | 関数             | グラフ | パターン     | 問題                                                                                                                                                                                                                                                          |\n",
        "|---------------|---------------|---------------|---------------|---------------|\n",
        "| input-a.dat | `draw_pattern_a` | 無向   | エッジ/行    | [A61](https://atcoder.jp/contests/tessoku-book/tasks/tessoku_book_bi), [B61](https://atcoder.jp/contests/tessoku-book/tasks/tessoku_book_eh)                                                                                                                  |\n",
        "| input-b.dat | `draw_pattern_b` | 有向   | 隣接リスト   | [ALDS1_11_A](https://onlinejudge.u-aizu.ac.jp/courses/lesson/1/ALDS1/11/ALDS1_11_A), [ALDS1_11_B](https://onlinejudge.u-aizu.ac.jp/courses/lesson/1/ALDS1/11/ALDS1_11_B), [ALDS1_11_C](https://onlinejudge.u-aizu.ac.jp/courses/lesson/1/ALDS1/11/ALDS1_11_C) |\n",
        "| input-c.dat | `draw_pattern_c` | 無向   | エッジの追加 | [A66](https://atcoder.jp/contests/tessoku-book/tasks/tessoku_book_bn)                                                                                                                                                                                         |\n",
        "| input-d.dat | `draw_pattern_d` | 無向   | 連結成分     | [ALDS1_11_D](https://onlinejudge.u-aizu.ac.jp/courses/lesson/1/ALDS1/11/ALDS1_11_D)                                                                                                                                                                           |\n",
        "\n",
        "このコードはグラフの可視化のためのものである。問題を解くだけなら必要ない。"
      ],
      "metadata": {
        "id": "oj1S5O_Pt1pW"
      },
      "id": "oj1S5O_Pt1pW"
    },
    {
      "cell_type": "code",
      "execution_count": null,
      "metadata": {
        "id": "yZSJ1zO1t1pX"
      },
      "outputs": [],
      "source": [
        "import networkx as nx\n",
        "import matplotlib.pyplot as plt\n",
        "\n",
        "def plot(G,pos=None):\n",
        "  plt.figure(figsize=(6, 4))\n",
        "  nx.draw(G, pos, with_labels=True, node_color='greenyellow');\n",
        "  plt.show();\n",
        "\n",
        "def draw_pattern_a():\n",
        "  with open('input-a.dat', 'r') as f:\n",
        "    input = f.readline # 標準入力の場合と合わせるため\n",
        "    n, m = map(int, input().split())\n",
        "    G = nx.Graph()\n",
        "    G.add_nodes_from(range(1, n + 1)) # エッジをもたないノードがあり得るため\n",
        "    for _ in range(m):\n",
        "      u, v = map(int, input().split())\n",
        "      G.add_edge(u, v)\n",
        "    plot(G)\n",
        "\n",
        "def draw_pattern_b():\n",
        "  with open('input-b.dat', 'r') as f:\n",
        "    input = f.readline\n",
        "    n = int(input())\n",
        "    G = nx.DiGraph()\n",
        "    for _ in range(n):\n",
        "      u, k, *x = map(int, input().split())\n",
        "      for v in x: G.add_edge(u, v)\n",
        "    plot(G)\n",
        "\n",
        "def draw_pattern_c():\n",
        "  with open('input-c.dat', 'r') as f:\n",
        "    input = f.readline\n",
        "    n, q = map(int, input().split())\n",
        "    G = nx.Graph()\n",
        "    G.add_nodes_from(range(1, n + 1))\n",
        "    pos = nx.spring_layout(G)\n",
        "    for _ in range(q):\n",
        "      t, u, v = map(int, input().split())\n",
        "      if t == 1:\n",
        "        G.add_edge(u, v)\n",
        "        plot(G, pos)\n",
        "\n",
        "def draw_pattern_d():\n",
        "  with open('input-d.dat', 'r') as f:\n",
        "    input = f.readline\n",
        "    n, m = map(int, input().split())\n",
        "    G = nx.Graph()\n",
        "    G.add_nodes_from(range(n))\n",
        "    for _ in range(m):\n",
        "      u, v = map(int, input().split())\n",
        "      G.add_edge(u, v)\n",
        "    plot(G)"
      ],
      "id": "yZSJ1zO1t1pX"
    },
    {
      "cell_type": "markdown",
      "source": [
        "## グラフの表現"
      ],
      "metadata": {
        "id": "KRiiZ3Kut1pX"
      },
      "id": "KRiiZ3Kut1pX"
    },
    {
      "cell_type": "markdown",
      "source": [],
      "metadata": {
        "id": "QGDEqAbHt1pX"
      },
      "id": "QGDEqAbHt1pX"
    },
    {
      "cell_type": "markdown",
      "source": [
        "### ♥networkxを使う（エッジ→隣接リスト）"
      ],
      "metadata": {
        "id": "SPrkaxnFt1pX"
      },
      "id": "SPrkaxnFt1pX"
    },
    {
      "cell_type": "markdown",
      "source": [
        "\n",
        "♥問題：[A61 - Adjacent Vertices](https://atcoder.jp/contests/tessoku-book/tasks/tessoku_book_bi)"
      ],
      "metadata": {
        "id": "tTAIuq8Qt1pX"
      },
      "id": "tTAIuq8Qt1pX"
    },
    {
      "cell_type": "code",
      "execution_count": null,
      "metadata": {
        "id": "gew0qJ3rt1pX"
      },
      "outputs": [],
      "source": [
        "%%writefile input-a.dat\n",
        "5 4\n",
        "1 2\n",
        "2 3\n",
        "3 4\n",
        "3 5"
      ],
      "id": "gew0qJ3rt1pX"
    },
    {
      "cell_type": "code",
      "execution_count": null,
      "metadata": {
        "id": "EWnjWHZEt1pY"
      },
      "outputs": [],
      "source": [
        "draw_pattern_a()"
      ],
      "id": "EWnjWHZEt1pY"
    },
    {
      "cell_type": "code",
      "execution_count": null,
      "metadata": {
        "id": "EwCHZhk6t1pY"
      },
      "outputs": [],
      "source": [
        "%%writefile test.py\n",
        "import networkx as nx\n",
        "\n",
        "# 無向グラフを作る。\n",
        "n, m = map(int, input().split())\n",
        "G = nx.Graph()\n",
        "G.add_nodes_from(range(1, n + 1)) # エッジを追加するだけでは足りない。\n",
        "for _ in range(m):\n",
        "  u, v = map(int, input().split())\n",
        "  G.add_edge(u, v)\n",
        "\n",
        "# 隣接リストを出力する。\n",
        "for u in range(1, n + 1):\n",
        "  print(f'{u}: {{{\", \".join(map(str, G[u]))}}}')\n"
      ],
      "id": "EwCHZhk6t1pY"
    },
    {
      "cell_type": "code",
      "execution_count": null,
      "metadata": {
        "id": "2gxE4v4tt1pY"
      },
      "outputs": [],
      "source": [
        "!python3 test.py < input-a.dat"
      ],
      "id": "2gxE4v4tt1pY"
    },
    {
      "cell_type": "markdown",
      "source": [
        "問題：[B61 - Influencer](https://atcoder.jp/contests/tessoku-book/tasks/tessoku_book_eh)\n",
        "\n",
        "A61と同じデータを使う。グラフの構築方法は同じ。`G.degree`で次数を取得し，最大のものを出力する。\n",
        "\n",
        "準備`(数0, 数1)`のリストから，数1が最大のものを取得する方法を確認する。数1を取り出す関数「`lambda x: x[1]`」を`max`に渡せばよい。"
      ],
      "metadata": {
        "id": "TumfUltot1pY"
      },
      "id": "TumfUltot1pY"
    },
    {
      "cell_type": "code",
      "execution_count": null,
      "metadata": {
        "id": "9HqUlaRWt1pY"
      },
      "outputs": [],
      "source": [
        "data = [(1, 2), (2, 5), (3, 3), (4, 0)]\n",
        "max(data, key = lambda x: x[1])"
      ],
      "id": "9HqUlaRWt1pY"
    },
    {
      "cell_type": "markdown",
      "source": [
        "この方法を使って，`(ノード, 次数)`のリストから次数が最大のノードを取得する。"
      ],
      "metadata": {
        "id": "1fCAcQDot1pY"
      },
      "id": "1fCAcQDot1pY"
    },
    {
      "cell_type": "code",
      "execution_count": null,
      "metadata": {
        "id": "vxwRfFOzt1pZ"
      },
      "outputs": [],
      "source": [
        "%%writefile test.py\n",
        "# 出力以外はA61と同じ\n",
        "\n",
        "# 結果の出力\n",
        "print(max(G.degree, key=lambda x: x[1])[0])"
      ],
      "id": "vxwRfFOzt1pZ"
    },
    {
      "cell_type": "code",
      "execution_count": null,
      "metadata": {
        "id": "11ZVpOf2t1pZ"
      },
      "outputs": [],
      "source": [
        "!python3 test.py < input-a.dat"
      ],
      "id": "11ZVpOf2t1pZ"
    },
    {
      "cell_type": "markdown",
      "source": [
        "### ♦networkxを使わない（隣接リスト→隣接行列）"
      ],
      "metadata": {
        "id": "3q7saET0t1pZ"
      },
      "id": "3q7saET0t1pZ"
    },
    {
      "cell_type": "markdown",
      "source": [
        "\n",
        "♦問題：[ALDS1_11_A](https://onlinejudge.u-aizu.ac.jp/courses/lesson/1/ALDS1/11/ALDS1_11_A) (Graph)"
      ],
      "metadata": {
        "id": "Nr7TIl7pt1pZ"
      },
      "id": "Nr7TIl7pt1pZ"
    },
    {
      "cell_type": "code",
      "execution_count": null,
      "metadata": {
        "id": "DB01lCput1pZ"
      },
      "outputs": [],
      "source": [
        "%%writefile input-b.dat\n",
        "4\n",
        "1 2 2 4\n",
        "2 1 4\n",
        "3 0\n",
        "4 1 3"
      ],
      "id": "DB01lCput1pZ"
    },
    {
      "cell_type": "code",
      "execution_count": null,
      "metadata": {
        "id": "0VlCtJ6zt1pZ"
      },
      "outputs": [],
      "source": [
        "draw_pattern_b()"
      ],
      "id": "0VlCtJ6zt1pZ"
    },
    {
      "cell_type": "code",
      "execution_count": null,
      "metadata": {
        "id": "vYkq9lDBt1pZ"
      },
      "outputs": [],
      "source": [
        "%%writefile test.py\n",
        "n = int(input())\n",
        "adj_matrix = [[0] * n for _ in range(n)]\n",
        "\n",
        "# データを読んで，隣接行列を更新する。\n",
        "\n",
        "for row in adj_matrix: print(*row)"
      ],
      "id": "vYkq9lDBt1pZ"
    },
    {
      "cell_type": "code",
      "execution_count": null,
      "metadata": {
        "id": "Qmc20ovtt1pa"
      },
      "outputs": [],
      "source": [
        "!python3 test.py < input-b.dat"
      ],
      "id": "Qmc20ovtt1pa"
    },
    {
      "cell_type": "markdown",
      "source": [
        "## 深さ優先探索"
      ],
      "metadata": {
        "id": "hQVZiqwat1pa"
      },
      "id": "hQVZiqwat1pa"
    },
    {
      "cell_type": "markdown",
      "source": [
        "\n",
        "アルゴリズム図鑑\n",
        "\n",
        "ライブラリの使い方を確認する。"
      ],
      "metadata": {
        "id": "m6cTnpWQt1pa"
      },
      "id": "m6cTnpWQt1pa"
    },
    {
      "cell_type": "code",
      "execution_count": null,
      "metadata": {
        "id": "MaR-7vgtt1pa"
      },
      "outputs": [],
      "source": [
        "import networkx as nx\n",
        "\n",
        "G = nx.Graph()\n",
        "G.add_edges_from([\n",
        "    ('A', 'B'), ('A', 'C'),\n",
        "    ('B', 'E'), ('B', 'F'), ('C', 'H'),\n",
        "    ('E', 'K'), ('X', 'Z')])\n",
        "nx.draw(G, with_labels=True, node_color='greenyellow')"
      ],
      "id": "MaR-7vgtt1pa"
    },
    {
      "cell_type": "markdown",
      "source": [
        "深さ優先探索（その1）"
      ],
      "metadata": {
        "id": "DxdOhQNht1pa"
      },
      "id": "DxdOhQNht1pa"
    },
    {
      "cell_type": "code",
      "execution_count": null,
      "metadata": {
        "id": "2oS-xN_Pt1pa"
      },
      "outputs": [],
      "source": [
        "list(nx.dfs_edges(G, source='A'))"
      ],
      "id": "2oS-xN_Pt1pa"
    },
    {
      "cell_type": "markdown",
      "source": [
        "深さ優先探索（その2）"
      ],
      "metadata": {
        "id": "r98Exgsgt1pa"
      },
      "id": "r98Exgsgt1pa"
    },
    {
      "cell_type": "code",
      "execution_count": null,
      "metadata": {
        "id": "UGaEAmM9t1pa"
      },
      "outputs": [],
      "source": [
        "list(nx.dfs_preorder_nodes(G, source='A'))"
      ],
      "id": "UGaEAmM9t1pa"
    },
    {
      "cell_type": "markdown",
      "source": [
        "### ♥networkxを使う"
      ],
      "metadata": {
        "id": "eCcjhgzLt1pa"
      },
      "id": "eCcjhgzLt1pa"
    },
    {
      "cell_type": "markdown",
      "source": [
        "\n",
        "♥問題：[A62 - Depth First Search](https://atcoder.jp/contests/tessoku-book/tasks/math_and_algorithm_am)"
      ],
      "metadata": {
        "id": "RfVDuwOMt1pg"
      },
      "id": "RfVDuwOMt1pg"
    },
    {
      "cell_type": "code",
      "execution_count": null,
      "metadata": {
        "id": "fjxqz_8Gt1pg"
      },
      "outputs": [],
      "source": [
        "%%writefile input-a.dat\n",
        "6 6\n",
        "1 4\n",
        "2 3\n",
        "3 4\n",
        "5 6\n",
        "1 2\n",
        "2 4"
      ],
      "id": "fjxqz_8Gt1pg"
    },
    {
      "cell_type": "code",
      "execution_count": null,
      "metadata": {
        "id": "9et7HrWZt1pg"
      },
      "outputs": [],
      "source": [
        "draw_pattern_a()"
      ],
      "id": "9et7HrWZt1pg"
    },
    {
      "cell_type": "markdown",
      "source": [
        "#### 方法1（連結かどうかを調べる）"
      ],
      "metadata": {
        "id": "qXxC8p4Dt1pg"
      },
      "id": "qXxC8p4Dt1pg"
    },
    {
      "cell_type": "markdown",
      "source": [
        "\n",
        "グラフが連結かどうかを`nx.is_connected`で調べる。"
      ],
      "metadata": {
        "id": "2isA_Xf4t1pg"
      },
      "id": "2isA_Xf4t1pg"
    },
    {
      "cell_type": "code",
      "execution_count": null,
      "metadata": {
        "id": "uA_RZJy3t1pg"
      },
      "outputs": [],
      "source": [
        "%%writefile test.py\n",
        "import networkx as nx\n",
        "\n",
        "# 無向グラフを作る。\n",
        "n, m = map(int, input().split())\n",
        "G = nx.Graph()\n",
        "G.add_nodes_from(range(1, n + 1))\n",
        "for _ in range(m):\n",
        "  u, v = map(int, input().split())\n",
        "  G.add_edge(u, v)\n",
        "\n",
        "if nx.is_connected(G): print(\"The graph is connected.\")\n",
        "else: print(\"The graph is not connected.\")"
      ],
      "id": "uA_RZJy3t1pg"
    },
    {
      "cell_type": "code",
      "execution_count": null,
      "metadata": {
        "id": "0_VRu8Ijt1pg"
      },
      "outputs": [],
      "source": [
        "!python3 test.py < input-a.dat"
      ],
      "id": "0_VRu8Ijt1pg"
    },
    {
      "cell_type": "markdown",
      "source": [
        "#### 方法2（深さ優先探索）"
      ],
      "metadata": {
        "id": "BRJRH2NGt1pg"
      },
      "id": "BRJRH2NGt1pg"
    },
    {
      "cell_type": "markdown",
      "source": [
        "\n",
        "深さ優先探索を`nx.dfs_preorder_nodes`で行い，全ノードを訪問できるかどうかを調べる。"
      ],
      "metadata": {
        "id": "gUQknBE8t1pg"
      },
      "id": "gUQknBE8t1pg"
    },
    {
      "cell_type": "code",
      "execution_count": null,
      "metadata": {
        "id": "mqwNtmHmt1ph"
      },
      "outputs": [],
      "source": [
        "%%writefile test.py\n",
        "import networkx as nx\n",
        "\n",
        "# 無向グラフを作る。\n",
        "n, m = map(int, input().split())\n",
        "G = nx.Graph()\n",
        "G.add_nodes_from(range(1, n + 1))\n",
        "for _ in range(m):\n",
        "  u, v = map(int, input().split())\n",
        "  G.add_edge(u, v)\n",
        "\n",
        "result = list(nx.dfs_preorder_nodes(G, source=1))\n",
        "if len(result) == n: print(\"The graph is connected.\")\n",
        "else: print(\"The graph is not connected.\")"
      ],
      "id": "mqwNtmHmt1ph"
    },
    {
      "cell_type": "code",
      "execution_count": null,
      "metadata": {
        "id": "DyOAQ1aYt1ph"
      },
      "outputs": [],
      "source": [
        "!python3 test.py < input-a.dat"
      ],
      "id": "DyOAQ1aYt1ph"
    },
    {
      "cell_type": "markdown",
      "source": [
        "### ♦networkxを使わない"
      ],
      "metadata": {
        "id": "oZ7vilxdt1ph"
      },
      "id": "oZ7vilxdt1ph"
    },
    {
      "cell_type": "markdown",
      "source": [
        "\n",
        "♦問題：[ALDS1_11_B](https://onlinejudge.u-aizu.ac.jp/courses/lesson/1/ALDS1/11/ALDS1_11_B) (Depth First Search)"
      ],
      "metadata": {
        "id": "NfWXd4h9t1ph"
      },
      "id": "NfWXd4h9t1ph"
    },
    {
      "cell_type": "code",
      "execution_count": null,
      "metadata": {
        "id": "VJ-ECANkt1ph"
      },
      "outputs": [],
      "source": [
        "%%writefile input-b.dat\n",
        "6\n",
        "1 2 2 3\n",
        "2 2 3 4\n",
        "3 1 5\n",
        "4 1 6\n",
        "5 1 6\n",
        "6 0"
      ],
      "id": "VJ-ECANkt1ph"
    },
    {
      "cell_type": "code",
      "execution_count": null,
      "metadata": {
        "id": "7lh_bFxst1ph"
      },
      "outputs": [],
      "source": [
        "draw_pattern_b()"
      ],
      "id": "7lh_bFxst1ph"
    },
    {
      "cell_type": "markdown",
      "source": [
        "この可視化結果を見ながら，紙とペンで出力を再現してみよう。\n",
        "\n",
        "ここでは，スタックを使う実装は割愛し，再帰を使う実装のみを示す。また，教科書では隣接行列を使っているが，ここでは隣接リストを使う（入力が隣接リストだから，それをそのまま使うのが簡単。計算量は $O(|V|^2)$ ではなく $O(|V|+|E|)$ となる。$|E|$ が大きくなれば同じこと）。"
      ],
      "metadata": {
        "id": "MBWcroxQt1ph"
      },
      "id": "MBWcroxQt1ph"
    },
    {
      "cell_type": "code",
      "execution_count": null,
      "metadata": {
        "id": "pKeD5HXMt1ph"
      },
      "outputs": [],
      "source": [
        "%%writefile test.py\n",
        "n = int(input())\n",
        "adj_list = [None] + [[] for _ in range(n)] # 隣接リスト\n",
        "\n",
        "# 隣接リストを完成させる。\n",
        "for _ in range(n):\n",
        "  u, k, *v = map(int, input().split())\n",
        "  adj_list[u] = v\n",
        "\n",
        "# 深さ優先探索の定義\n",
        "def dfs(u, t):\n",
        "  # 未発見の場合\n",
        "    # 発見時刻を記録し，時刻を進める。\n",
        "    # 再帰\n",
        "    # 完了時刻を記録し，時刻を進める。\n",
        "  return t # 時刻を返す。\n",
        "\n",
        "# 深さ優先探索の実行（連結でない場合を考慮する）\n",
        "d = [None] + [0] * n # 発見時刻\n",
        "f = [None] + [0] * n # 完了時刻\n",
        "t = 1 # 時刻\n",
        "for u in range(1, n + 1): t = dfs(u, t)\n",
        "\n",
        "# 結果の表示\n",
        "for u in range(1, n + 1): print(u, d[u], f[u])"
      ],
      "id": "pKeD5HXMt1ph"
    },
    {
      "cell_type": "code",
      "execution_count": null,
      "metadata": {
        "id": "HBeE3cY_t1ph"
      },
      "outputs": [],
      "source": [
        "!python3 test.py < input-b.dat"
      ],
      "id": "HBeE3cY_t1ph"
    },
    {
      "cell_type": "markdown",
      "source": [
        "## 幅優先探索"
      ],
      "metadata": {
        "id": "FNd7nbrVt1ph"
      },
      "id": "FNd7nbrVt1ph"
    },
    {
      "cell_type": "markdown",
      "source": [
        "\n",
        "アルゴリズム図鑑\n",
        "\n",
        "ライブラリの使い方を確認する。"
      ],
      "metadata": {
        "id": "i5zkh7eXt1pi"
      },
      "id": "i5zkh7eXt1pi"
    },
    {
      "cell_type": "code",
      "execution_count": null,
      "metadata": {
        "id": "KiXzWKqAt1pi"
      },
      "outputs": [],
      "source": [
        "import networkx as nx\n",
        "\n",
        "G = nx.Graph()\n",
        "G.add_edges_from([\n",
        "    ('A', 'B'), ('A', 'C'),\n",
        "    ('B', 'E'), ('B', 'F'), ('C', 'H'),\n",
        "    ('E', 'K'), ('X', 'Z')])\n",
        "nx.draw(G, with_labels=True, node_color='greenyellow')"
      ],
      "id": "KiXzWKqAt1pi"
    },
    {
      "cell_type": "markdown",
      "source": [
        "幅優先探索"
      ],
      "metadata": {
        "id": "4foE04MBt1pi"
      },
      "id": "4foE04MBt1pi"
    },
    {
      "cell_type": "code",
      "execution_count": null,
      "metadata": {
        "id": "c_Do3Xdzt1pi"
      },
      "outputs": [],
      "source": [
        "list(nx.bfs_edges(G, 'A'))"
      ],
      "id": "c_Do3Xdzt1pi"
    },
    {
      "cell_type": "markdown",
      "source": [
        "幅優先探索を応用して最短経路長を求める。"
      ],
      "metadata": {
        "id": "7E9Jccdit1pi"
      },
      "id": "7E9Jccdit1pi"
    },
    {
      "cell_type": "code",
      "execution_count": null,
      "metadata": {
        "id": "jChoXu-Et1pi"
      },
      "outputs": [],
      "source": [
        "nx.single_source_shortest_path_length(G, 'A')"
      ],
      "id": "jChoXu-Et1pi"
    },
    {
      "cell_type": "markdown",
      "source": [
        "### ♥networkxを使う"
      ],
      "metadata": {
        "id": "zSmzGDQFt1pi"
      },
      "id": "zSmzGDQFt1pi"
    },
    {
      "cell_type": "markdown",
      "source": [
        "\n",
        "♥問題：[A63 - Shortest Path 1](https://atcoder.jp/contests/tessoku-book/tasks/math_and_algorithm_an)"
      ],
      "metadata": {
        "id": "hd5G8X2Lt1pi"
      },
      "id": "hd5G8X2Lt1pi"
    },
    {
      "cell_type": "code",
      "execution_count": null,
      "metadata": {
        "id": "Xke3RY-nt1pi"
      },
      "outputs": [],
      "source": [
        "%%writefile input-a.dat\n",
        "6 6\n",
        "1 4\n",
        "2 3\n",
        "3 4\n",
        "5 6\n",
        "1 2\n",
        "2 4"
      ],
      "id": "Xke3RY-nt1pi"
    },
    {
      "cell_type": "code",
      "execution_count": null,
      "metadata": {
        "id": "3leM7u3pt1pi"
      },
      "outputs": [],
      "source": [
        "draw_pattern_a()"
      ],
      "id": "3leM7u3pt1pi"
    },
    {
      "cell_type": "markdown",
      "source": [
        "#### 方法1（最短経路）"
      ],
      "metadata": {
        "id": "gmUaSaJyt1pj"
      },
      "id": "gmUaSaJyt1pj"
    },
    {
      "cell_type": "markdown",
      "source": [
        "\n",
        "指定したノードからの，グラフの全てのノードへの最短経路長を`nx.single_source_shortest_path_length`で求める。"
      ],
      "metadata": {
        "id": "iW5yrnyBt1pj"
      },
      "id": "iW5yrnyBt1pj"
    },
    {
      "cell_type": "code",
      "execution_count": null,
      "metadata": {
        "id": "Fmi5Op-Yt1pj"
      },
      "outputs": [],
      "source": [
        "%%writefile test.py\n",
        "import networkx as nx\n",
        "\n",
        "# 無向グラフを作る。\n",
        "n, m = map(int, input().split())\n",
        "G = nx.Graph()\n",
        "G.add_nodes_from(range(1, n + 1))\n",
        "for _ in range(m):\n",
        "  u, v = map(int, input().split())\n",
        "  G.add_edge(u, v)\n",
        "\n",
        "result = nx.single_source_shortest_path_length(G, 1) # 最短経路長\n",
        "\n",
        "for u in range(1, n + 1):\n",
        "  if u in result: print(result[u])\n",
        "  else: print(-1)"
      ],
      "id": "Fmi5Op-Yt1pj"
    },
    {
      "cell_type": "code",
      "execution_count": null,
      "metadata": {
        "id": "armOv6cYt1pj"
      },
      "outputs": [],
      "source": [
        "!python3 test.py < input-a.dat"
      ],
      "id": "armOv6cYt1pj"
    },
    {
      "cell_type": "markdown",
      "source": [
        "#### 方法2（幅優先探索）"
      ],
      "metadata": {
        "id": "jsqx60Dbt1pj"
      },
      "id": "jsqx60Dbt1pj"
    },
    {
      "cell_type": "markdown",
      "source": [
        "\n",
        "幅優先探索のためのエッジを`nx.bfs_edges`で取得し，それを使って最短経路長を求める。"
      ],
      "metadata": {
        "id": "Mf3UnfWft1pj"
      },
      "id": "Mf3UnfWft1pj"
    },
    {
      "cell_type": "code",
      "execution_count": null,
      "metadata": {
        "id": "rheIk9UDt1pj"
      },
      "outputs": [],
      "source": [
        "%%writefile test.py\n",
        "import networkx as nx\n",
        "\n",
        "# 無向グラフを作る。\n",
        "n, m = map(int, input().split())\n",
        "G = nx.Graph()\n",
        "G.add_nodes_from(range(1, n + 1))\n",
        "for _ in range(m):\n",
        "  u, v = map(int, input().split())\n",
        "  G.add_edge(u, v)\n",
        "\n",
        "d = [None] + [-1] * n # 距離を記録するリスト（到達できないノードは-1）\n",
        "d[1] = 0\n",
        "\n",
        "for parent, child in nx.bfs_edges(G, 1): # 幅優先探索\n",
        "  d[child] = d[parent] + 1\n",
        "\n",
        "for u in range(1, n + 1): print(d[u])"
      ],
      "id": "rheIk9UDt1pj"
    },
    {
      "cell_type": "code",
      "execution_count": null,
      "metadata": {
        "id": "wjulCS6Ut1pj"
      },
      "outputs": [],
      "source": [
        "!python3 test.py < input-a.dat"
      ],
      "id": "wjulCS6Ut1pj"
    },
    {
      "cell_type": "markdown",
      "source": [
        "### ♦networkxを使わない"
      ],
      "metadata": {
        "id": "Cc5Au9XGt1pj"
      },
      "id": "Cc5Au9XGt1pj"
    },
    {
      "cell_type": "markdown",
      "source": [
        "\n",
        "♦問題：[ALDS1_11_C](https://onlinejudge.u-aizu.ac.jp/courses/lesson/1/ALDS1/11/ALDS1_11_C) (Breadth First Search)"
      ],
      "metadata": {
        "id": "a3PbE5wTt1pj"
      },
      "id": "a3PbE5wTt1pj"
    },
    {
      "cell_type": "code",
      "execution_count": null,
      "metadata": {
        "id": "fvSBUtmWt1pj"
      },
      "outputs": [],
      "source": [
        "%%writefile input-b.dat\n",
        "4\n",
        "1 2 2 4\n",
        "2 1 4\n",
        "3 0\n",
        "4 1 3"
      ],
      "id": "fvSBUtmWt1pj"
    },
    {
      "cell_type": "code",
      "execution_count": null,
      "metadata": {
        "id": "YlZAmBBLt1pj"
      },
      "outputs": [],
      "source": [
        "draw_pattern_b()"
      ],
      "id": "YlZAmBBLt1pj"
    },
    {
      "cell_type": "code",
      "execution_count": 1,
      "metadata": {
        "id": "Otbl0xu7t1pk",
        "outputId": "b4d99ce7-b702-463c-b369-a953f8f98c9c",
        "colab": {
          "base_uri": "https://localhost:8080/"
        }
      },
      "outputs": [
        {
          "output_type": "stream",
          "name": "stdout",
          "text": [
            "Writing test.py\n"
          ]
        }
      ],
      "source": [
        "%%writefile test.py\n",
        "n = int(input())\n",
        "adj_list = [None] + [[] for _ in range(n)] # 隣接リスト\n",
        "\n",
        "# 隣接リストを完成させる。\n",
        "for _ in range(n):\n",
        "  u, k, *v = map(int, input().split())\n",
        "  adj_list[u] = v\n",
        "\n",
        "from collections import deque\n",
        "\n",
        "d = [None] + [-1] * n # 距離を記録するリスト（到達できないノードは-1）\n",
        "d[1] = 0\n",
        "\n",
        "# 幅優先探索\n",
        "queue = deque([1])\n",
        "while queue:# キューにノード1を入れる。\n",
        "  u =queue.popleft()# キューが空でない間は繰り返す。\n",
        "  for v in adj list[u]:\n",
        "    if d[v] == -1:\n",
        "      d[v] = d[u] + 1\n",
        "      queue.append(v)\n",
        "\n",
        "for u in range(1, n + 1): print(u, d[u])"
      ],
      "id": "Otbl0xu7t1pk"
    },
    {
      "cell_type": "code",
      "execution_count": null,
      "metadata": {
        "id": "KP9mGZr9t1pk"
      },
      "outputs": [],
      "source": [
        "!python3 test.py < input-b.dat"
      ],
      "id": "KP9mGZr9t1pk"
    },
    {
      "cell_type": "markdown",
      "source": [
        "## ♠連結成分"
      ],
      "metadata": {
        "id": "ZUxhnM7wt1pk"
      },
      "id": "ZUxhnM7wt1pk"
    },
    {
      "cell_type": "markdown",
      "source": [],
      "metadata": {
        "id": "-42ZMBIct1pk"
      },
      "id": "-42ZMBIct1pk"
    },
    {
      "cell_type": "markdown",
      "source": [
        "### ♥networkxを使う"
      ],
      "metadata": {
        "id": "L7wDwh6ot1pk"
      },
      "id": "L7wDwh6ot1pk"
    },
    {
      "cell_type": "markdown",
      "source": [
        "\n",
        "♠♥問題：[A66 - Connect Query](https://atcoder.jp/contests/tessoku-book/tasks/tessoku_book_bn)"
      ],
      "metadata": {
        "id": "thwPBF-zt1pk"
      },
      "id": "thwPBF-zt1pk"
    },
    {
      "cell_type": "code",
      "execution_count": null,
      "metadata": {
        "id": "zDWUB9OJt1pk"
      },
      "outputs": [],
      "source": [
        "%%writefile input-c.dat\n",
        "3 4\n",
        "1 1 2\n",
        "2 1 3\n",
        "1 2 3\n",
        "2 2 3"
      ],
      "id": "zDWUB9OJt1pk"
    },
    {
      "cell_type": "code",
      "execution_count": null,
      "metadata": {
        "id": "2g7Iz3Krt1pk"
      },
      "outputs": [],
      "source": [
        "draw_pattern_c()"
      ],
      "id": "2g7Iz3Krt1pk"
    },
    {
      "cell_type": "markdown",
      "source": [
        "Union-Find（森を使って連結成分を管理する方法）を使う。"
      ],
      "metadata": {
        "id": "Krqnj2LPt1pk"
      },
      "id": "Krqnj2LPt1pk"
    },
    {
      "cell_type": "code",
      "execution_count": null,
      "metadata": {
        "id": "sJBBsrdzt1pk"
      },
      "outputs": [],
      "source": [
        "%%writefile test.py\n",
        "import networkx as nx\n",
        "\n",
        "n, q = map(int, input().split())\n",
        "uf = nx.utils.UnionFind(range(1, n + 1))\n",
        "\n",
        "for _ in range(q):\n",
        "  t, u, v = map(int, input().split())\n",
        "  if t == 1: uf.union(u, v)\n",
        "  elif uf[u] == uf[v]: print('Yes')\n",
        "  else: print('No')"
      ],
      "id": "sJBBsrdzt1pk"
    },
    {
      "cell_type": "code",
      "execution_count": null,
      "metadata": {
        "id": "VxYU0cmIt1pk"
      },
      "outputs": [],
      "source": [
        "!python3 test.py < input-c.dat"
      ],
      "id": "VxYU0cmIt1pk"
    },
    {
      "cell_type": "markdown",
      "source": [
        "### ♦networkxを使わない"
      ],
      "metadata": {
        "id": "JgufOsUwt1pk"
      },
      "id": "JgufOsUwt1pk"
    },
    {
      "cell_type": "markdown",
      "source": [
        "\n",
        "♠♦問題：[ALDS1_11_D](https://onlinejudge.u-aizu.ac.jp/courses/lesson/1/ALDS1/11/ALDS1_11_D) (Connected Components)"
      ],
      "metadata": {
        "id": "3guEwbB4t1pl"
      },
      "id": "3guEwbB4t1pl"
    },
    {
      "cell_type": "code",
      "execution_count": null,
      "metadata": {
        "id": "nb9tLAHbt1pl"
      },
      "outputs": [],
      "source": [
        "%%writefile input-d.dat\n",
        "10 9\n",
        "0 1\n",
        "0 2\n",
        "3 4\n",
        "5 7\n",
        "5 6\n",
        "6 7\n",
        "6 8\n",
        "7 8\n",
        "8 9\n",
        "3\n",
        "0 1\n",
        "5 9\n",
        "1 3"
      ],
      "id": "nb9tLAHbt1pl"
    },
    {
      "cell_type": "code",
      "execution_count": null,
      "metadata": {
        "id": "r1HSTLyet1pl"
      },
      "outputs": [],
      "source": [
        "draw_pattern_d()"
      ],
      "id": "r1HSTLyet1pl"
    },
    {
      "cell_type": "code",
      "execution_count": null,
      "metadata": {
        "id": "GOgyPWi6t1pl"
      },
      "outputs": [],
      "source": [
        "%%writefile test.py\n",
        "import sys\n",
        "sys.setrecursionlimit(110000) # 再帰の回数の上限を増やしておく。\n",
        "\n",
        "# グラフの構築\n",
        "n, m = map(int, input().split())\n",
        "adj_list = [[] for _ in range(n)]\n",
        "\n",
        "for _ in range(m):\n",
        "  u, v = map(int, input().split())\n",
        "  adj_list[u].append(v)\n",
        "  adj_list[v].append(u) # 反対も必要\n",
        "\n",
        "# 深さ優先探索で到達できるノードのcolorをidにする関数\n",
        "def dfs(a, id):\n",
        "  # 未探索（colorがNone）なら\n",
        "    # 色をつけて\n",
        "    # 再帰的に探索する。\n",
        "\n",
        "# 色分け\n",
        "color = [None] * n\n",
        "id = 0\n",
        "# 全てのノードに対して\n",
        "  # DFSで色を付ける。\n",
        "  # 色を変える。\n",
        "\n",
        "# 質問の処理\n",
        "q = int(input())\n",
        "for _ in range(q):\n",
        "  a, b = map(int, input().split())\n",
        "  if color[a] == color[b]: print('yes')\n",
        "  else: print('no')"
      ],
      "id": "GOgyPWi6t1pl"
    },
    {
      "cell_type": "code",
      "execution_count": null,
      "metadata": {
        "id": "492hLvQBt1pl"
      },
      "outputs": [],
      "source": [
        "!python3 test.py < input-d.dat"
      ],
      "id": "492hLvQBt1pl"
    },
    {
      "cell_type": "markdown",
      "source": [
        "## 宿題"
      ],
      "metadata": {
        "id": "xTZrT-20t1pl"
      },
      "id": "xTZrT-20t1pl"
    },
    {
      "cell_type": "markdown",
      "source": [
        "\n",
        "networkxの使い方を学びたい（手軽）。\n",
        "\n",
        "-   ♥[A61 - Adjacent Vertices](https://atcoder.jp/contests/tessoku-book/tasks/tessoku_book_bi)\n",
        "-   ♠♥[B61 - Influencer](https://atcoder.jp/contests/tessoku-book/tasks/tessoku_book_eh)\n",
        "-   ♥[A62 - Depth First Search](https://atcoder.jp/contests/tessoku-book/tasks/math_and_algorithm_am)\n",
        "-   ♥[A63 - Shortest Path 1](https://atcoder.jp/contests/tessoku-book/tasks/math_and_algorithm_an)\n",
        "-   ♠♥[A66 - Connect Query](https://atcoder.jp/contests/tessoku-book/tasks/tessoku_book_bn)\n",
        "\n",
        "アルゴリズムを自分で実装したい。\n",
        "\n",
        "-   ♦[ALDS1_11_A](https://onlinejudge.u-aizu.ac.jp/courses/lesson/1/ALDS1/11/ALDS1_11_A) (Graph)\n",
        "-   ♦[ALDS1_11_B](https://onlinejudge.u-aizu.ac.jp/courses/lesson/1/ALDS1/11/ALDS1_11_B) (Depth First Search)\n",
        "-   ♦[ALDS1_11_C](https://onlinejudge.u-aizu.ac.jp/courses/lesson/1/ALDS1/11/ALDS1_11_C) (Breadth First Search)\n",
        "-   ♠♦[ALDS1_11_D](https://onlinejudge.u-aizu.ac.jp/courses/lesson/1/ALDS1/11/ALDS1_11_D) (Connected Components)\n",
        "\n",
        "以上"
      ],
      "metadata": {
        "id": "icBYhCWAt1pl"
      },
      "id": "icBYhCWAt1pl"
    }
  ],
  "nbformat": 4,
  "nbformat_minor": 5,
  "metadata": {
    "colab": {
      "provenance": []
    },
    "language_info": {
      "name": "python"
    },
    "kernelspec": {
      "name": "python3",
      "display_name": "Python 3"
    }
  }
}