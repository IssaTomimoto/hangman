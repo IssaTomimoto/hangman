{
  "cells": [
    {
      "cell_type": "markdown",
      "source": [
        "# 4 データ構造"
      ],
      "metadata": {
        "id": "ot2nCDNIBbsd"
      },
      "id": "ot2nCDNIBbsd"
    },
    {
      "cell_type": "markdown",
      "source": [
        "\n",
        "教科書では，ライブラリを使わずに解決した後で，4.3節でライブラリを使って解決している。\n",
        "\n",
        "ここでは，まずライブラリを使って解決し，その後でライブラリを使わずにデータ構造を実装して解決する。"
      ],
      "metadata": {
        "id": "Yw-Ta8jEBbse"
      },
      "id": "Yw-Ta8jEBbse"
    },
    {
      "cell_type": "markdown",
      "source": [
        "## 4.1 データ構造とは：問題にチャレンジする前に"
      ],
      "metadata": {
        "id": "msQL1A7QBbsf"
      },
      "id": "msQL1A7QBbsf"
    },
    {
      "cell_type": "markdown",
      "source": [],
      "metadata": {
        "id": "2yn3eh0LBbsf"
      },
      "id": "2yn3eh0LBbsf"
    },
    {
      "cell_type": "markdown",
      "source": [
        "## 4.2 スタック"
      ],
      "metadata": {
        "id": "15FOXj7aBbsg"
      },
      "id": "15FOXj7aBbsg"
    },
    {
      "cell_type": "markdown",
      "source": [
        "\n",
        "アルゴリズム図鑑，『独学プログラマー』の第21章\n",
        "\n",
        "後入れ先出し（Last In First Out，LIFO）のデータ構造である。\n",
        "\n",
        "問題：[A51](https://atcoder.jp/contests/tessoku-book/tasks/tessoku_book_ay) (Stack)\n",
        "\n",
        "入力データを作る。"
      ],
      "metadata": {
        "id": "m2p-TU-lBbsg"
      },
      "id": "m2p-TU-lBbsg"
    },
    {
      "cell_type": "code",
      "execution_count": 2,
      "metadata": {
        "id": "pO8PMUwUBbsg",
        "outputId": "1666a7fa-f06f-4186-be1d-39fc7305fef4",
        "colab": {
          "base_uri": "https://localhost:8080/"
        }
      },
      "outputs": [
        {
          "output_type": "stream",
          "name": "stdout",
          "text": [
            "Overwriting input.dat\n"
          ]
        }
      ],
      "source": [
        "%%writefile input.dat\n",
        "5\n",
        "1 futuremap\n",
        "1 howtospeak\n",
        "2\n",
        "3\n",
        "2"
      ],
      "id": "pO8PMUwUBbsg"
    },
    {
      "cell_type": "markdown",
      "source": [
        "出力データを作る。"
      ],
      "metadata": {
        "id": "2Uf3IfC9Bbsh"
      },
      "id": "2Uf3IfC9Bbsh"
    },
    {
      "cell_type": "code",
      "execution_count": 3,
      "metadata": {
        "id": "vsjsQ7KmBbsh",
        "outputId": "39bc638d-edb4-42cf-a725-d86acbfa2a76",
        "colab": {
          "base_uri": "https://localhost:8080/"
        }
      },
      "outputs": [
        {
          "output_type": "stream",
          "name": "stdout",
          "text": [
            "Writing answer.dat\n"
          ]
        }
      ],
      "source": [
        "%%writefile answer.dat\n",
        "howtospeak\n",
        "futuremap"
      ],
      "id": "vsjsQ7KmBbsh"
    },
    {
      "cell_type": "markdown",
      "source": [
        "### ライブラリを使う場合"
      ],
      "metadata": {
        "id": "E2SBSgcVBbsh"
      },
      "id": "E2SBSgcVBbsh"
    },
    {
      "cell_type": "markdown",
      "source": [
        "\n",
        "`collections.deque`を使う。次のようなメソッドがある。\n",
        "\n",
        "| 一般的な呼び方 | `A = deque()` | メモ                   |\n",
        "|----------------|---------------|------------------------|\n",
        "| `push(x)`      | `A.append(x)` | 要素の追加             |\n",
        "| `pop()`        | `A.pop()`     | 最後尾要素の削除と取得 |\n",
        "| `top()`        | `A[-1]`       | 最後尾要素の取得       |\n",
        "\n",
        "コードを書く。"
      ],
      "metadata": {
        "id": "Cvf6sjDkBbsi"
      },
      "id": "Cvf6sjDkBbsi"
    },
    {
      "cell_type": "code",
      "execution_count": 4,
      "metadata": {
        "id": "tt3CnmAQBbsi",
        "outputId": "d4b461b6-a54e-455c-8e30-0aa7e6b70917",
        "colab": {
          "base_uri": "https://localhost:8080/"
        }
      },
      "outputs": [
        {
          "output_type": "stream",
          "name": "stdout",
          "text": [
            "Writing test.py\n"
          ]
        }
      ],
      "source": [
        "%%writefile test.py\n",
        "n = int(input())\n",
        "from collections import deque\n",
        "\n",
        "stack = deque()\n",
        "\n",
        "stack.append(\"futurework\")\n",
        "stack.append(\"howtospeak\")\n",
        "print(stack[-1])\n",
        "stack.pop()\n",
        "print(stack[-1])\n",
        "# 後は自分で書く。"
      ],
      "id": "tt3CnmAQBbsi"
    },
    {
      "cell_type": "code",
      "source": [
        "def main():\n",
        "    import sys\n",
        "    input = sys.stdin.readline\n",
        "\n",
        "    Q = int(input())\n",
        "    stack = []\n",
        "    output = []\n",
        "\n",
        "    for _ in range(Q):\n",
        "        query = input().strip().split()\n",
        "        if query[0] == \"1\":\n",
        "            stack.append(query[1])\n",
        "        elif query[0] == \"2\":\n",
        "            output.append(stack[-1])\n",
        "        elif query[0] == \"3\":\n",
        "            stack.pop()\n",
        "\n",
        "    print(\"\\n\".join(output))\n",
        "\n",
        "if __name__ == \"__main__\":\n",
        "    main()\n"
      ],
      "metadata": {
        "id": "xCU5w8iQFIir"
      },
      "id": "xCU5w8iQFIir",
      "execution_count": null,
      "outputs": []
    },
    {
      "cell_type": "markdown",
      "source": [
        "実行する。"
      ],
      "metadata": {
        "id": "rPkzP8LVBbsi"
      },
      "id": "rPkzP8LVBbsi"
    },
    {
      "cell_type": "code",
      "execution_count": 5,
      "metadata": {
        "id": "iVbaCNYZBbsi",
        "outputId": "be088def-4afc-4cc6-8348-c8b94dcdd3b3",
        "colab": {
          "base_uri": "https://localhost:8080/"
        }
      },
      "outputs": [
        {
          "output_type": "stream",
          "name": "stdout",
          "text": [
            "howtospeak\n",
            "futurework\n"
          ]
        }
      ],
      "source": [
        "!python3 test.py < input.dat"
      ],
      "id": "iVbaCNYZBbsi"
    },
    {
      "cell_type": "markdown",
      "source": [
        "出力例と比較する。"
      ],
      "metadata": {
        "id": "t2U0B7caBbsi"
      },
      "id": "t2U0B7caBbsi"
    },
    {
      "cell_type": "code",
      "execution_count": 6,
      "metadata": {
        "id": "-4z7x7MdBbsi",
        "outputId": "7192e5fd-4e7a-47c6-b413-df3d94635693",
        "colab": {
          "base_uri": "https://localhost:8080/"
        }
      },
      "outputs": [
        {
          "output_type": "stream",
          "name": "stdout",
          "text": [
            "2c2\n",
            "< futurework\n",
            "---\n",
            "> futuremap\n"
          ]
        }
      ],
      "source": [
        "!python3 test.py < input.dat > output.dat\n",
        "!diff output.dat answer.dat"
      ],
      "id": "-4z7x7MdBbsi"
    },
    {
      "cell_type": "markdown",
      "source": [
        "問題がなければ提出する。"
      ],
      "metadata": {
        "id": "ZMBjpRqdBbsj"
      },
      "id": "ZMBjpRqdBbsj"
    },
    {
      "cell_type": "markdown",
      "source": [
        "### ライブラリを使わない場合"
      ],
      "metadata": {
        "id": "nxt88PH3Bbsj"
      },
      "id": "nxt88PH3Bbsj"
    },
    {
      "cell_type": "markdown",
      "source": [
        "\n",
        "教科書p.86「ポイント」を意識して，クラス`Stack`を実装する。ライブラリを使う場合のコードへの変更が最小限になるようにしよう。`stack = deque()`としていたなら，次の変更が必要だろう。\n",
        "\n",
        "-   `Stack`の定義を追加する。\n",
        "-   `stack = deque()`を`stack = Stack()`に変える。\n",
        "-   `stack[-1]`を`stack.top()`に変える。\n",
        "\n",
        "> PythonでクラスStackを作る。データはリストで管理する。公開メソッドはappend，pop，topだけ。topは最後尾要素の取得（削除しない）\n",
        "\n",
        "生成されるコードの例を示す。"
      ],
      "metadata": {
        "id": "xD5u4_tNBbsj"
      },
      "id": "xD5u4_tNBbsj"
    },
    {
      "cell_type": "code",
      "execution_count": 10,
      "metadata": {
        "id": "DML4aCbXBbsj",
        "outputId": "476b57f4-feab-4950-f4b8-ace3ca6c2fe4",
        "colab": {
          "base_uri": "https://localhost:8080/"
        }
      },
      "outputs": [
        {
          "output_type": "stream",
          "name": "stdout",
          "text": [
            "Overwriting Stack.py\n"
          ]
        }
      ],
      "source": [
        "%%writefile Stack.py\n",
        "class Stack:\n",
        "  def __init__(self):\n",
        "    self._data = []\n",
        "\n",
        "  def append(self, value):\n",
        "    self._data.append(value)\n",
        "\n",
        "  def pop(self):\n",
        "    return self._data.pop()\n",
        "\n",
        "  def top(self):\n",
        "    return self._data[-1]"
      ],
      "id": "DML4aCbXBbsj"
    },
    {
      "cell_type": "markdown",
      "source": [
        "ここでもう一度提出する。\n",
        "\n",
        "♠次の問題も，二つの方法（ライブラリを使う方法と使わない方法）で解いてみよう。\n",
        "\n",
        "問題：[ALDS1_3_A](https://onlinejudge.u-aizu.ac.jp/courses/lesson/1/ALDS1/3/ALDS1_3_A) (Stack)\n",
        "\n",
        "参考：[電気通信大学の2025年度入試問題から，大問3 - 数式を処理するプログラムを作る](https://note.com/ipsj/n/n4aed36c58756)"
      ],
      "metadata": {
        "id": "ovPvKqvaBbsk"
      },
      "id": "ovPvKqvaBbsk"
    },
    {
      "cell_type": "markdown",
      "source": [
        "## 4.3 キュー"
      ],
      "metadata": {
        "id": "s7MUF3g2Bbsk"
      },
      "id": "s7MUF3g2Bbsk"
    },
    {
      "cell_type": "markdown",
      "source": [
        "\n",
        "アルゴリズム図鑑，『独学プログラマー』の第21章\n",
        "\n",
        "先入れ先出し（First In First Out，FIFO）のデータ構造である。\n",
        "\n",
        "問題：[A52](https://atcoder.jp/contests/tessoku-book/tasks/tessoku_book_az) (Queue)\n",
        "\n",
        "入力データを作る。"
      ],
      "metadata": {
        "id": "Xw81z7QCBbsk"
      },
      "id": "Xw81z7QCBbsk"
    },
    {
      "cell_type": "code",
      "execution_count": 11,
      "metadata": {
        "id": "wViYB0N_Bbsk",
        "outputId": "7070d505-813f-4764-ec29-8c2dbe633ffc",
        "colab": {
          "base_uri": "https://localhost:8080/"
        }
      },
      "outputs": [
        {
          "output_type": "stream",
          "name": "stdout",
          "text": [
            "Overwriting input.dat\n"
          ]
        }
      ],
      "source": [
        "%%writefile input.dat\n",
        "ここにデータを貼り付ける。"
      ],
      "id": "wViYB0N_Bbsk"
    },
    {
      "cell_type": "markdown",
      "source": [
        "出力データを作る。"
      ],
      "metadata": {
        "id": "Gpa_OY2gBbsl"
      },
      "id": "Gpa_OY2gBbsl"
    },
    {
      "cell_type": "code",
      "execution_count": 12,
      "metadata": {
        "id": "k2H94-BOBbsl",
        "outputId": "803d723e-fe07-4b13-949e-0a77c32f931c",
        "colab": {
          "base_uri": "https://localhost:8080/"
        }
      },
      "outputs": [
        {
          "output_type": "stream",
          "name": "stdout",
          "text": [
            "Overwriting answer.dat\n"
          ]
        }
      ],
      "source": [
        "%%writefile answer.dat\n",
        "ここにデータを貼り付ける。"
      ],
      "id": "k2H94-BOBbsl"
    },
    {
      "cell_type": "markdown",
      "source": [
        "### ライブラリを使う場合"
      ],
      "metadata": {
        "id": "VhVOwYtfBbsl"
      },
      "id": "VhVOwYtfBbsl"
    },
    {
      "cell_type": "markdown",
      "source": [
        "\n",
        "`collections.deque`を使う。次のようなメソッドがある。\n",
        "\n",
        "| 一般的な呼び方 | `A = deque()` | メモ                            |\n",
        "|----------------|---------------|---------------------------------|\n",
        "| `isEmpty()`    | `A`           | 空かどうかを`if A:`で判定する。 |\n",
        "| `enqueue(x)`   | `A.append(x)` | 先頭要素の追加                  |\n",
        "| `dequeue()`    | `A.popleft()` | 先頭要素の削除と取得            |\n",
        "| `front()`      | `A[0]`        | 先頭要素の取得                  |\n",
        "\n",
        "コードを書く。"
      ],
      "metadata": {
        "id": "ED70jWePBbsl"
      },
      "id": "ED70jWePBbsl"
    },
    {
      "cell_type": "code",
      "execution_count": 14,
      "metadata": {
        "id": "4RX2m4lhBbsl",
        "outputId": "810c683e-dc86-4f0b-b595-d2fa4cadd140",
        "colab": {
          "base_uri": "https://localhost:8080/"
        }
      },
      "outputs": [
        {
          "output_type": "stream",
          "name": "stdout",
          "text": [
            "Overwriting test.py\n"
          ]
        }
      ],
      "source": [
        "%%writefile test.py\n",
        "from collections import deque\n",
        "\n",
        "n = int(input())\n",
        "\n",
        "for _ in range(n):\n",
        "  tmp = input().split()\n",
        "  if tmp[0] == \"1\": queue.append(tmp[1])\n",
        "  elif tmp[0] == \"2\": print(queue[0])\n",
        "  elif tmp[0] == \"3\": queue.popleft()\n",
        ""
      ],
      "id": "4RX2m4lhBbsl"
    },
    {
      "cell_type": "markdown",
      "source": [
        "実行する。"
      ],
      "metadata": {
        "id": "gHGRlqu1Bbsl"
      },
      "id": "gHGRlqu1Bbsl"
    },
    {
      "cell_type": "code",
      "execution_count": 15,
      "metadata": {
        "id": "m8zC2BiqBbsl",
        "outputId": "7df2bdc1-8911-4188-b301-aeaf1871a6b2",
        "colab": {
          "base_uri": "https://localhost:8080/"
        }
      },
      "outputs": [
        {
          "output_type": "stream",
          "name": "stdout",
          "text": [
            "Traceback (most recent call last):\n",
            "  File \"/content/test.py\", line 3, in <module>\n",
            "    n = int(input())\n",
            "        ^^^^^^^^^^^^\n",
            "ValueError: invalid literal for int() with base 10: 'ここにデータを貼り付ける。'\n"
          ]
        }
      ],
      "source": [
        "!python3 test.py < input.dat"
      ],
      "id": "m8zC2BiqBbsl"
    },
    {
      "cell_type": "markdown",
      "source": [
        "出力例と比較する。"
      ],
      "metadata": {
        "id": "PoazF6uLBbsm"
      },
      "id": "PoazF6uLBbsm"
    },
    {
      "cell_type": "code",
      "execution_count": 16,
      "metadata": {
        "id": "tUVppa60Bbsm",
        "outputId": "71d69a39-a26b-4f44-f3a9-060f4b5e6df5",
        "colab": {
          "base_uri": "https://localhost:8080/"
        }
      },
      "outputs": [
        {
          "output_type": "stream",
          "name": "stdout",
          "text": [
            "Traceback (most recent call last):\n",
            "  File \"/content/test.py\", line 3, in <module>\n",
            "    n = int(input())\n",
            "        ^^^^^^^^^^^^\n",
            "ValueError: invalid literal for int() with base 10: 'ここにデータを貼り付ける。'\n",
            "0a1\n",
            "> ここにデータを貼り付ける。\n"
          ]
        }
      ],
      "source": [
        "!python3 test.py < input.dat > output.dat\n",
        "!diff output.dat answer.dat"
      ],
      "id": "tUVppa60Bbsm"
    },
    {
      "cell_type": "markdown",
      "source": [
        "問題がなければ提出する。"
      ],
      "metadata": {
        "id": "BevVEqWrBbsm"
      },
      "id": "BevVEqWrBbsm"
    },
    {
      "cell_type": "markdown",
      "source": [
        "### ライブラリを使わない場合"
      ],
      "metadata": {
        "id": "2gNB8Y0jBbsm"
      },
      "id": "2gNB8Y0jBbsm"
    },
    {
      "cell_type": "markdown",
      "source": [
        "\n",
        "クラス`Queue`を実装する。ここでは，教科書4.3節に合わせてリングバッファを使用する。ライブラリを使う場合のコードへの変更が最小限になるようにしよう。`queue = deque()`としていたなら，次の変更が必要だろう。\n",
        "\n",
        "-   `Queue`の定義を追加する。\n",
        "-   `queue = deque()`を`queue = Queue()`に変える。\n",
        "-   `queue[0]`を`queue.front()`に変える。\n",
        "\n",
        "> PythonでクラスQueueを作る。データはリングバッファで管理する。リングバッファの実体はリストで，最大サイズは100000。公開メソッドはisEmpty, append, popleft, frontだけ。frontは先頭要素の取得（削除しない）\n",
        "\n",
        "生成されるコードを修正した例を示す。"
      ],
      "metadata": {
        "id": "6mQ1SpCHBbsm"
      },
      "id": "6mQ1SpCHBbsm"
    },
    {
      "cell_type": "code",
      "execution_count": null,
      "metadata": {
        "id": "X-1Oz-x0Bbsm"
      },
      "outputs": [],
      "source": [
        "%%writefile Queue.py\n",
        "class Queue:\n",
        "  def __init__(self):\n",
        "    self.size = 100000\n",
        "    self.buffer = [None] * self.size\n",
        "    self.head = 0\n",
        "    self.tail = 0\n",
        "    self.count = 0\n",
        "\n",
        "  def isEmpty(self):\n",
        "    return self.count == 0\n",
        "\n",
        "  def append(self, value):\n",
        "    if self.count == self.size: raise OverflowError(\"Queue is full\")\n",
        "    self.buffer[self.tail] = value\n",
        "    self.tail = (self.tail + 1) % self.size\n",
        "    self.count += 1\n",
        "\n",
        "  def popleft(self):\n",
        "    if self.isEmpty(): raise IndexError(\"Queue is empty\")\n",
        "    value = self.buffer[self.head]\n",
        "    self.head = (self.head + 1) % self.size\n",
        "    self.count -= 1\n",
        "    return value\n",
        "\n",
        "  def front(self):\n",
        "    if self.isEmpty(): raise IndexError(\"Queue is empty\")\n",
        "    return self.buffer[self.head]"
      ],
      "id": "X-1Oz-x0Bbsm"
    },
    {
      "cell_type": "markdown",
      "source": [
        "♠次の問題も，二つの方法（ライブラリを使う方法と使わない方法）で解いてみよう。\n",
        "\n",
        "問題：[ALDS1_3_B](https://onlinejudge.u-aizu.ac.jp/courses/lesson/1/ALDS1/3/ALDS1_3_B) (Queue)"
      ],
      "metadata": {
        "id": "3xoKazBBBbsm"
      },
      "id": "3xoKazBBBbsm"
    },
    {
      "cell_type": "markdown",
      "source": [
        "## 4.4 連結リスト"
      ],
      "metadata": {
        "id": "_aw1DKKABbsm"
      },
      "id": "_aw1DKKABbsm"
    },
    {
      "cell_type": "markdown",
      "source": [
        "\n",
        "データ構造でいう**リスト**は「Pythonのリスト」ではない。\n",
        "\n",
        "-   リスト\n",
        "    -   一方向リスト（singly-linked list, one-way list）　アルゴリズム図鑑\n",
        "    -   双方向リスト（doubly-linked list, two-way list）\n",
        "\n",
        "問題：[ALDS1_3_C](https://onlinejudge.u-aizu.ac.jp/courses/lesson/1/ALDS1/3/ALDS1_3_C) (Doubly Linked List)\n",
        "\n",
        "次のようにPythonのリストを使うとTLEになることを確認する。\n",
        "\n",
        "``` python\n",
        "n = int(input())\n",
        "A = []\n",
        "\n",
        "for _ in range(n):\n",
        "  tmp = input().split()\n",
        "  if tmp[0].startswith(\"insert\"): A.insert(0, int(tmp[1]))\n",
        "  elif tmp[0].startswith(\"deleteF\"): A.pop(0)\n",
        "  elif tmp[0].startswith(\"deleteL\"): A.pop()\n",
        "  else: # delete\n",
        "    try: A.remove(int(tmp[1]))\n",
        "    except ValueError: pass\n",
        "\n",
        "print(*A)\n",
        "```"
      ],
      "metadata": {
        "id": "dpJ_4DR8Bbsv"
      },
      "id": "dpJ_4DR8Bbsv"
    },
    {
      "cell_type": "markdown",
      "source": [
        "### ライブラリを使う場合"
      ],
      "metadata": {
        "id": "ShK6pThUBbsv"
      },
      "id": "ShK6pThUBbsv"
    },
    {
      "cell_type": "markdown",
      "source": [
        "\n",
        "`collections.deque`を代用する。使用するメソッドは表のとおり。\n",
        "\n",
        "| 教科書         | `A = deque()`     |\n",
        "|----------------|-------------------|\n",
        "| `insert(x)`    | `A.appendleft(x)` |\n",
        "| `deleteKey(x)` | `A.remove(x)`     |\n",
        "| `deleteFirst`  | `A.popleft()`     |\n",
        "| `deleteLast`   | `A.pop()`         |\n",
        "\n",
        "ヒント：`A.remove(x)`は，`x`が`A`に含まれない場合に`ValueError`を発生させる。ここでは，次のようにしてこれを無視する。\n",
        "\n",
        "``` python\n",
        "try: A.remove(x)\n",
        "except ValueError: pass\n",
        "```"
      ],
      "metadata": {
        "id": "tmEPRgRTBbsv"
      },
      "id": "tmEPRgRTBbsv"
    },
    {
      "cell_type": "markdown",
      "source": [
        "### ライブラリを使わない場合"
      ],
      "metadata": {
        "id": "g4M5ggqMBbsw"
      },
      "id": "g4M5ggqMBbsw"
    },
    {
      "cell_type": "markdown",
      "source": [
        "\n",
        "双方向連結リストのクラス`List`を実装する。ライブラリを使う場合のコードへの変更が最小限になるようにしよう。`A = deque()`としていたなら，次の変更が必要だろう。\n",
        "\n",
        "-   `List`の定義を追加する。\n",
        "-   `A = deque()`を`A = List()`に変える。\n",
        "-   `print(*A)`を`A.print()`に変える。\n",
        "\n",
        "> Pythonで双方向連結リストのクラスListを実装する。リストのノードはクラスNodeのインスタンスで，番兵はnilとする。公開メソッドはappendleft，remove，popleft，pop，printだけ。removeは，リストを先頭から走査して，指定した値をもつ要素で最初に見つかるものを削除する。指定した値をもつ要素が存在しない場合はValueErrorを発生させる。popleftとpopではremoveを使えないことに注意する。printはリストの全要素を空白をはさんで連結した文字列を表示する。\n",
        "\n",
        "生成されるコードを修正した例を示す。"
      ],
      "metadata": {
        "id": "TvhH_ba3Bbsw"
      },
      "id": "TvhH_ba3Bbsw"
    },
    {
      "cell_type": "code",
      "execution_count": null,
      "metadata": {
        "id": "fu2o3D3dBbsw"
      },
      "outputs": [],
      "source": [
        "%%writefile List.py\n",
        "class Node:\n",
        "  def __init__(self, value=None):\n",
        "    self.value = value  # ノードの値\n",
        "    self.prev = None  # 前のノードへのポインタ\n",
        "    self.next = None  # 次のノードへのポインタ\n",
        "\n",
        "class List:\n",
        "  def __init__(self):\n",
        "    self.nil = Node()  # 番兵ノード（nil）\n",
        "    self.nil.prev = self.nil  # 番兵の前のノードは自分自身\n",
        "    self.nil.next = self.nil  # 番兵の次のノードは自分自身\n",
        "    self.size = 0  # リストのサイズ\n",
        "\n",
        "  def appendleft(self, value):\n",
        "    \"\"\"リストの先頭に要素を追加\"\"\"\n",
        "    new_node = Node(value)\n",
        "    new_node.next = self.nil.next\n",
        "    new_node.prev = self.nil\n",
        "    self.nil.next.prev = new_node\n",
        "    self.nil.next = new_node\n",
        "    self.size += 1\n",
        "\n",
        "  def remove(self, value):\n",
        "    \"\"\"指定した値を持つ最初のノードを削除\"\"\"\n",
        "    current = self.nil.next\n",
        "    while current != self.nil:\n",
        "      if current.value == value:\n",
        "        current.prev.next = current.next\n",
        "        current.next.prev = current.prev\n",
        "        self.size -= 1\n",
        "        return\n",
        "      current = current.next\n",
        "    raise ValueError(f\"{value} not found in list\")\n",
        "\n",
        "  def popleft(self):\n",
        "    \"\"\"リストの先頭の要素を削除して返す\"\"\"\n",
        "    if self.size == 0:\n",
        "      raise IndexError(\"pop from empty list\")\n",
        "\n",
        "    # 先頭のノードを削除\n",
        "    value = self.nil.next.value\n",
        "    self.nil.next = self.nil.next.next\n",
        "    self.nil.next.prev = self.nil\n",
        "    self.size -= 1\n",
        "\n",
        "    return value\n",
        "\n",
        "  def pop(self):\n",
        "    \"\"\"リストの末尾の要素を削除して返す\"\"\"\n",
        "    if self.size == 0:\n",
        "      raise IndexError(\"pop from empty list\")\n",
        "\n",
        "    # 末尾のノードを削除\n",
        "    value = self.nil.prev.value\n",
        "    self.nil.prev = self.nil.prev.prev\n",
        "    self.nil.prev.next = self.nil\n",
        "    self.size -= 1\n",
        "\n",
        "    return value\n",
        "\n",
        "  def print(self):\n",
        "    \"\"\"リストの全要素を空白を挟んで連結した文字列を表示\"\"\"\n",
        "    current = self.nil.next\n",
        "    values = []\n",
        "    while current != self.nil:\n",
        "      values.append(str(current.value))\n",
        "      current = current.next\n",
        "    print(\" \".join(values))"
      ],
      "id": "fu2o3D3dBbsw"
    },
    {
      "cell_type": "markdown",
      "source": [
        "## 宿題"
      ],
      "metadata": {
        "id": "veRCSewRBbsw"
      },
      "id": "veRCSewRBbsw"
    },
    {
      "cell_type": "markdown",
      "source": [
        "\n",
        "以下の問題をAC（Accepted）にする。Pythonを使うこと。\n",
        "\n",
        "-   [A51](https://atcoder.jp/contests/tessoku-book/tasks/tessoku_book_ay) (Stack)\n",
        "-   ♠[ALDS1_3_A](https://onlinejudge.u-aizu.ac.jp/courses/lesson/1/ALDS1/3/ALDS1_3_A) (Stack)\n",
        "-   [A52](https://atcoder.jp/contests/tessoku-book/tasks/tessoku_book_az) (Queue)\n",
        "-   ♠[ALDS1_3_B](https://onlinejudge.u-aizu.ac.jp/courses/lesson/1/ALDS1/3/ALDS1_3_B) (Queue)\n",
        "-   [ALDS1_3_C](https://onlinejudge.u-aizu.ac.jp/courses/lesson/1/ALDS1/3/ALDS1_3_C) (Doubly Linked List)\n",
        "-   ♠[ALDS1_3_D](https://onlinejudge.u-aizu.ac.jp/courses/lesson/1/ALDS1/3/ALDS1_3_D) (Areas on the Cross-Section Diagram)\n",
        "\n",
        "以上"
      ],
      "metadata": {
        "id": "tQPhuLhnBbsw"
      },
      "id": "tQPhuLhnBbsw"
    }
  ],
  "nbformat": 4,
  "nbformat_minor": 5,
  "metadata": {
    "colab": {
      "provenance": []
    },
    "language_info": {
      "name": "python"
    },
    "kernelspec": {
      "name": "python3",
      "display_name": "Python 3"
    }
  }
}