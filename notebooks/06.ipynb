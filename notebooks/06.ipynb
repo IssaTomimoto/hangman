{
  "cells": [
    {
      "cell_type": "markdown",
      "source": [
        "# 6 再帰・分割統治法"
      ],
      "metadata": {
        "id": "HxGl0dEtoWpD"
      },
      "id": "HxGl0dEtoWpD"
    },
    {
      "cell_type": "markdown",
      "source": [],
      "metadata": {
        "id": "LPDEpV29oWpF"
      },
      "id": "LPDEpV29oWpF"
    },
    {
      "cell_type": "markdown",
      "source": [
        "## 6.1 再帰と分割統治：問題にチャレンジする前に"
      ],
      "metadata": {
        "id": "1abGAEVgoWpF"
      },
      "id": "1abGAEVgoWpF"
    },
    {
      "cell_type": "markdown",
      "source": [],
      "metadata": {
        "id": "pYNkaaq0oWpF"
      },
      "id": "pYNkaaq0oWpF"
    },
    {
      "cell_type": "markdown",
      "source": [
        "### 階乗"
      ],
      "metadata": {
        "id": "wUhYpS9poWpF"
      },
      "id": "wUhYpS9poWpF"
    },
    {
      "cell_type": "markdown",
      "source": [
        "\n",
        "問題：[abc273_a](https://atcoder.jp/contests/abc273/tasks/abc273_a) (A Recursive Function)"
      ],
      "metadata": {
        "id": "NXgka42IoWpF"
      },
      "id": "NXgka42IoWpF"
    },
    {
      "cell_type": "markdown",
      "source": [
        "### 1 2 1 3 1 2 1"
      ],
      "metadata": {
        "id": "gv9DPG32oWpF"
      },
      "id": "gv9DPG32oWpF"
    },
    {
      "cell_type": "markdown",
      "source": [
        "\n",
        "再帰の練習のための問題\n",
        "\n",
        "問題：[abc247_c](https://atcoder.jp/contests/abc247/tasks/abc247_c) (1 2 1 3 1 2 1)"
      ],
      "metadata": {
        "id": "mPDy12WZoWpF"
      },
      "id": "mPDy12WZoWpF"
    },
    {
      "cell_type": "markdown",
      "source": [
        "### 最大公約数（教科書p.441）"
      ],
      "metadata": {
        "id": "zfZI9huooWpG"
      },
      "id": "zfZI9huooWpG"
    },
    {
      "cell_type": "markdown",
      "source": [
        "\n",
        "問題：[ALDS1_1_B](https://onlinejudge.u-aizu.ac.jp/courses/lesson/1/ALDS1/1/ALDS1_1_B) (Greatest Common Divisor)\n",
        "\n",
        "Program 18.5を実装して提出するとTLEになる。"
      ],
      "metadata": {
        "id": "5_Eo0QlxoWpG"
      },
      "id": "5_Eo0QlxoWpG"
    },
    {
      "cell_type": "code",
      "execution_count": null,
      "metadata": {
        "id": "2Io537aboWpG"
      },
      "outputs": [],
      "source": [
        "def gcd(x, y):\n",
        "  n = min(x, y)\n",
        "  for d in range(n, 0, -1):\n",
        "    if x % d == 0 and y % d == 0:\n",
        "      return d\n",
        "\n",
        "x, y = map(int, input().split())\n",
        "print(gcd(x, y))"
      ],
      "id": "2Io537aboWpG"
    },
    {
      "cell_type": "markdown",
      "source": [
        "> ここでEuclidのアルゴリズムを示しておくことは，無意味ではあるまい。（TAOCP 1）\n",
        "\n",
        "アルゴリズム図鑑"
      ],
      "metadata": {
        "id": "-GwNhGehoWpG"
      },
      "id": "-GwNhGehoWpG"
    },
    {
      "cell_type": "markdown",
      "source": [
        "## 6.2 全探索"
      ],
      "metadata": {
        "id": "FTQdFqJ0oWpG"
      },
      "id": "FTQdFqJ0oWpG"
    },
    {
      "cell_type": "markdown",
      "source": [
        "\n",
        "練習：{1, 2, 3}の部分集合を全て列挙する。"
      ],
      "metadata": {
        "id": "_eiITs_yoWpH"
      },
      "id": "_eiITs_yoWpH"
    },
    {
      "cell_type": "code",
      "execution_count": 1,
      "metadata": {
        "id": "sMK6YsOzoWpH",
        "outputId": "d04584cc-f89c-4300-e8d9-ff7867a02749",
        "colab": {
          "base_uri": "https://localhost:8080/"
        }
      },
      "outputs": [
        {
          "output_type": "stream",
          "name": "stdout",
          "text": [
            "[1, 2, 3]\n",
            "[1, 2]\n",
            "[1, 3]\n",
            "[1]\n",
            "[2, 3]\n",
            "[2]\n",
            "[3]\n",
            "[]\n"
          ]
        }
      ],
      "source": [
        "A = [1, 2, 3]\n",
        "\n",
        "def subset(A, s):\n",
        "  if len(A) == 0: #終わり方をきめる\n",
        "    print(s)      #残りがなければ、できたものを表字する\n",
        "  else:\n",
        "    subset(A[1:], s + [A[0]])#残り、先頭を使う場合\n",
        "    subset(A[1:], s)         #残り、先頭を使わない場合\n",
        "\n",
        "subset(A, [])"
      ],
      "id": "sMK6YsOzoWpH"
    },
    {
      "cell_type": "markdown",
      "source": [
        "問題：[ALDS1_5_A](https://onlinejudge.u-aizu.ac.jp/courses/lesson/1/ALDS1/5/ALDS1_5_A) (Exhaustive Search)\n",
        "\n",
        "まずは，Program 6.4をPythonで実装して，次のコードで動作を確認する。"
      ],
      "metadata": {
        "id": "6RuLw-xxoWpH"
      },
      "id": "6RuLw-xxoWpH"
    },
    {
      "cell_type": "code",
      "execution_count": 9,
      "metadata": {
        "id": "YICM0BSuoWpH",
        "outputId": "6e207c2f-699f-4d47-d71d-163314290565",
        "colab": {
          "base_uri": "https://localhost:8080/"
        }
      },
      "outputs": [
        {
          "output_type": "stream",
          "name": "stdout",
          "text": [
            "Overwriting test.py\n"
          ]
        }
      ],
      "source": [
        "%%writefile test.py\n",
        "# ここでsolve(i, m)を定義する。\n",
        "def solve(i,m):#i:調べている変数の番号、m:和\n",
        "  if m == 0: return True #作れた！\n",
        "  if i >= n: return False#残りがない\n",
        "  res = solve(i + 1, m) or solve(i + 1, m - A[i])\n",
        "#A[i]を使わない場合と使う場合\n",
        "#どちらかがうまくいけばよいからorを使う。\n",
        "  return res\n",
        "\n",
        "n = int(input())\n",
        "A = list(map(int, input().split()))\n",
        "q = int(input())\n",
        "m = list(map(int, input().split()))\n",
        "\n",
        "for x in m:\n",
        "  if solve(0, x): print(\"yes\")\n",
        "  else:print(\"no\")"
      ],
      "id": "YICM0BSuoWpH"
    },
    {
      "cell_type": "markdown",
      "source": [
        "それができたら，データを読み込んで処理できるようにする。"
      ],
      "metadata": {
        "id": "lQbfw7EboWpH"
      },
      "id": "lQbfw7EboWpH"
    },
    {
      "cell_type": "code",
      "execution_count": 3,
      "metadata": {
        "id": "0o4DB89toWpH",
        "outputId": "fbb5cd6f-c459-488e-e101-4911e31f1885",
        "colab": {
          "base_uri": "https://localhost:8080/"
        }
      },
      "outputs": [
        {
          "output_type": "stream",
          "name": "stdout",
          "text": [
            "Writing input.dat\n"
          ]
        }
      ],
      "source": [
        "%%writefile input.dat\n",
        "5\n",
        "1 5 7 10 21\n",
        "4\n",
        "2 4 17 8"
      ],
      "id": "0o4DB89toWpH"
    },
    {
      "cell_type": "code",
      "execution_count": 4,
      "metadata": {
        "id": "Q3CGivmaoWpH",
        "outputId": "671d9376-62e0-4300-b43f-cc26d5ee6b71",
        "colab": {
          "base_uri": "https://localhost:8080/"
        }
      },
      "outputs": [
        {
          "output_type": "stream",
          "name": "stdout",
          "text": [
            "Writing test.py\n"
          ]
        }
      ],
      "source": [
        "%%writefile test.py\n",
        "n = ...\n",
        "A = ...\n",
        "q = ...\n",
        "m = ...\n",
        "\n",
        "for x in m:\n",
        "..."
      ],
      "id": "Q3CGivmaoWpH"
    },
    {
      "cell_type": "markdown",
      "source": [
        "``` coede\n",
        "!python3 test.py < input.dat\n",
        "```\n",
        "\n",
        "TLEになってしまう場合：\n",
        "\n",
        "-   PyPy3を使う。\n",
        "-   ♠Aの部分集合で作れる数を全て求めて集合にしておいて，mについてのループで探索する。（mの要素ごとに全探索するのは効率が悪い。）"
      ],
      "metadata": {
        "id": "dgwugT5IoWpH"
      },
      "id": "dgwugT5IoWpH"
    },
    {
      "cell_type": "markdown",
      "source": [
        "## ♠6.3 コッホ曲線"
      ],
      "metadata": {
        "id": "kGbkb_zPoWpH"
      },
      "id": "kGbkb_zPoWpH"
    },
    {
      "cell_type": "markdown",
      "source": [
        "\n",
        "♠回転を考えない，シェルピンスキーの三角形の方が，再帰の練習には向いていると思う。\n",
        "\n",
        "> Google Colabで実行できる，シェルピンスキーの三角形をPythonで描くコード。再帰の回数を指定できるようにして\n",
        "\n",
        "（割愛）\n",
        "\n",
        "問題：[ALDS1_5_C](https://onlinejudge.u-aizu.ac.jp/courses/lesson/1/ALDS1/5/ALDS1_5_C) (Koch Curve)\n",
        "\n",
        "おまけ：コッホ曲線の描画\n",
        "\n",
        "正しく動くようになったら，次のように結果をoutput.datに保存して，それを読み込んで可視化する。"
      ],
      "metadata": {
        "id": "-UCBgFxRoWpH"
      },
      "id": "-UCBgFxRoWpH"
    },
    {
      "cell_type": "code",
      "execution_count": null,
      "metadata": {
        "id": "vz1Ro_TloWpH"
      },
      "outputs": [],
      "source": [
        "!python3 test.py < input.dat > output.dat"
      ],
      "id": "vz1Ro_TloWpH"
    },
    {
      "cell_type": "markdown",
      "source": [
        "出力例2で試す。"
      ],
      "metadata": {
        "id": "86O4ceUwoWpH"
      },
      "id": "86O4ceUwoWpH"
    },
    {
      "cell_type": "code",
      "execution_count": null,
      "metadata": {
        "id": "zdNGgbhNoWpI"
      },
      "outputs": [],
      "source": [
        "%%writefile output.dat\n",
        "0.00000000 0.00000000\n",
        "11.11111111 0.00000000\n",
        "16.66666667 9.62250449\n",
        "22.22222222 0.00000000\n",
        "33.33333333 0.00000000\n",
        "38.88888889 9.62250449\n",
        "33.33333333 19.24500897\n",
        "44.44444444 19.24500897\n",
        "50.00000000 28.86751346\n",
        "55.55555556 19.24500897\n",
        "66.66666667 19.24500897\n",
        "61.11111111 9.62250449\n",
        "66.66666667 0.00000000\n",
        "77.77777778 0.00000000\n",
        "83.33333333 9.62250449\n",
        "88.88888889 0.00000000\n",
        "100.00000000 0.00000000"
      ],
      "id": "zdNGgbhNoWpI"
    },
    {
      "cell_type": "markdown",
      "source": [
        "> 1行に1個，点の座標が記録されたファイルoutput.datを読み込んで，点を順番に直線で結んだ結果を描く。\n",
        "\n",
        "生成されるコードの例を示す。"
      ],
      "metadata": {
        "id": "0254fkK9oWpI"
      },
      "id": "0254fkK9oWpI"
    },
    {
      "cell_type": "code",
      "execution_count": null,
      "metadata": {
        "id": "dYPvbakCoWpI"
      },
      "outputs": [],
      "source": [
        "import matplotlib.pyplot as plt\n",
        "\n",
        "# ファイルから座標を読み込む\n",
        "points = []\n",
        "with open(\"output.dat\") as f:\n",
        "  for line in f:\n",
        "    x, y = map(float, line.strip().split())\n",
        "    points.append((x, y))\n",
        "\n",
        "# x座標とy座標に分割\n",
        "xs, ys = zip(*points)\n",
        "\n",
        "# 直線で結ぶ\n",
        "plt.plot(xs, ys, marker='o')  # 点も見えるように marker をつける\n",
        "plt.title(\"Points from output.dat\")\n",
        "plt.xlabel(\"X\")\n",
        "plt.ylabel(\"Y\")\n",
        "plt.grid(True)\n",
        "plt.axis(\"equal\")  # 比率を正確にする\n",
        "plt.show()"
      ],
      "id": "dYPvbakCoWpI"
    },
    {
      "cell_type": "markdown",
      "source": [
        "## 宿題"
      ],
      "metadata": {
        "id": "RFEI7JrDoWpI"
      },
      "id": "RFEI7JrDoWpI"
    },
    {
      "cell_type": "markdown",
      "source": [
        "\n",
        "以下の問題をAC（Accepted）にする。Pythonを使うこと。\n",
        "\n",
        "-   [abc273_a](https://atcoder.jp/contests/abc273/tasks/abc273_a) (A Recursive Function)\n",
        "-   [abc247_c](https://atcoder.jp/contests/abc247/tasks/abc247_c) (1 2 1 3 1 2 1)\n",
        "-   [ALDS1_1_B](https://onlinejudge.u-aizu.ac.jp/courses/lesson/1/ALDS1/1/ALDS1_1_B) (Greatest Common Divisor)\n",
        "-   [ALDS1_5_A](https://onlinejudge.u-aizu.ac.jp/courses/lesson/1/ALDS1/5/ALDS1_5_A) (Exhaustive Search)\n",
        "-   ♠[ALDS1_5_C](https://onlinejudge.u-aizu.ac.jp/courses/lesson/1/ALDS1/5/ALDS1_5_C) (Koch Curve)\n",
        "\n",
        "以上"
      ],
      "metadata": {
        "id": "m_AhXSHPoWpI"
      },
      "id": "m_AhXSHPoWpI"
    }
  ],
  "nbformat": 4,
  "nbformat_minor": 5,
  "metadata": {
    "colab": {
      "provenance": []
    },
    "language_info": {
      "name": "python"
    },
    "kernelspec": {
      "name": "python3",
      "display_name": "Python 3"
    }
  }
}