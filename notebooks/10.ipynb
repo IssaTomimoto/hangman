{
  "cells": [
    {
      "cell_type": "markdown",
      "source": [
        "# ヒープ"
      ],
      "metadata": {
        "id": "1xpB-VR5nYZz"
      },
      "id": "1xpB-VR5nYZz"
    },
    {
      "cell_type": "markdown",
      "source": [],
      "metadata": {
        "id": "EVjivH_anYZ1"
      },
      "id": "EVjivH_anYZ1"
    },
    {
      "cell_type": "markdown",
      "source": [
        "## ヒープ：問題にチャレンジする前に"
      ],
      "metadata": {
        "id": "gje_z7MQnYZ2"
      },
      "id": "gje_z7MQnYZ2"
    },
    {
      "cell_type": "markdown",
      "source": [
        "\n",
        "アルゴリズム図鑑（有料）"
      ],
      "metadata": {
        "id": "XyacNiYonYZ3"
      },
      "id": "XyacNiYonYZ3"
    },
    {
      "cell_type": "markdown",
      "source": [
        "## 完全二分木"
      ],
      "metadata": {
        "id": "WpvuvNElnYZ4"
      },
      "id": "WpvuvNElnYZ4"
    },
    {
      "cell_type": "markdown",
      "source": [
        "\n",
        "問題：[ALDS1_9_A](https://onlinejudge.u-aizu.ac.jp/courses/lesson/1/ALDS1/9/ALDS1_9_A) (Complete Binary Tree)"
      ],
      "metadata": {
        "id": "mSzfSOCVnYZ5"
      },
      "id": "mSzfSOCVnYZ5"
    },
    {
      "cell_type": "code",
      "execution_count": null,
      "metadata": {
        "id": "mTVbjptcnYZ5"
      },
      "outputs": [],
      "source": [
        "%%writefile input.dat\n",
        "5\n",
        "7 8 1 2 3"
      ],
      "id": "mTVbjptcnYZ5"
    },
    {
      "cell_type": "markdown",
      "source": [
        "教科書では，ヒープを1オリジンの配列で表そうとしている。CやC++の配列は0オリジンだから，先頭要素を使わないことで，1オリジンを実現する。ここでもその方法を使う。先頭要素はNoneや空文字列にする。"
      ],
      "metadata": {
        "id": "Sub3pobRnYZ6"
      },
      "id": "Sub3pobRnYZ6"
    },
    {
      "cell_type": "code",
      "execution_count": null,
      "metadata": {
        "id": "Xqh6H30ZnYZ6"
      },
      "outputs": [],
      "source": [
        "%%writefile test.py\n",
        "def parent(i): return i // 2\n",
        "def left(i): return 2 * i\n",
        "def right(i): return 2 * i + 1\n",
        "\n",
        "H = int(input())\n",
        "A = [None] + list(map(int, input().split()))\n",
        "\n",
        "for i in range(1, H + 1):\n",
        "  key = A[i]\n",
        "  print(f'node {i}: {key = }, ', end='')\n",
        "  if parent(i) >= 1: print(f'parent key = {A[parent(i)]},', end=' ')\n",
        "  if left(i) <= H: print(f'left key = {A[left(i)]},', end=' ')\n",
        "  if right(i) <= H: print(f'right key = {A[right(i)]}', end=' ')\n",
        "  print()\n",
        "  # 自分で書く"
      ],
      "id": "Xqh6H30ZnYZ6"
    },
    {
      "cell_type": "code",
      "execution_count": null,
      "metadata": {
        "id": "WrWmh9BXnYZ7"
      },
      "outputs": [],
      "source": [
        "!python3 test.py < input.dat"
      ],
      "id": "WrWmh9BXnYZ7"
    },
    {
      "cell_type": "markdown",
      "source": [
        "## 最大・最小ヒープ"
      ],
      "metadata": {
        "id": "toYLLR-hnYZ7"
      },
      "id": "toYLLR-hnYZ7"
    },
    {
      "cell_type": "markdown",
      "source": [
        "\n",
        "問題：[ALDS1_9_B](https://onlinejudge.u-aizu.ac.jp/courses/lesson/1/ALDS1/9/ALDS1_9_B) (Maxiumum Heap)"
      ],
      "metadata": {
        "id": "hy6-Lr4CnYZ8"
      },
      "id": "hy6-Lr4CnYZ8"
    },
    {
      "cell_type": "code",
      "execution_count": null,
      "metadata": {
        "id": "vs6BzCgBnYZ8"
      },
      "outputs": [],
      "source": [
        "%%writefile input.dat\n",
        "10\n",
        "4 1 3 2 16 9 10 14 8 7"
      ],
      "id": "vs6BzCgBnYZ8"
    },
    {
      "cell_type": "markdown",
      "source": [
        "> Google Colabでクラス図を描くコード<br>（ここにコードを貼り付ける）"
      ],
      "metadata": {
        "id": "M3WKh9ionYZ8"
      },
      "id": "M3WKh9ionYZ8"
    },
    {
      "cell_type": "code",
      "execution_count": null,
      "metadata": {
        "id": "wPrtQS7gnYZ8"
      },
      "outputs": [],
      "source": [
        "from graphviz import Digraph\n",
        "\n",
        "dot = Digraph(format='png')\n",
        "dot.attr('node', shape='record')\n",
        "\n",
        "# Heap クラス\n",
        "dot.node('Heap', '''{ Heap |\n",
        "  - H : int\\\\l\n",
        "  - A : list\\\\l|\n",
        "  + __init__(A, dummy)\\\\l\n",
        "  + maxHeapify(i)\\\\l\n",
        "  + buildMaxHeap()\\\\l\n",
        "}''')\n",
        "\n",
        "# Heap2 クラス\n",
        "dot.node('Heap2', '''{ Heap2 |\n",
        "  + insert(key)\\\\l\n",
        "  + heapIncreaseKey(i, key)\\\\l\n",
        "  + heapExtractMax()\\\\l\n",
        "}''')\n",
        "\n",
        "# 継承関係\n",
        "dot.edge('Heap', 'Heap2', arrowhead='onormal')\n",
        "\n",
        "# 表示\n",
        "dot.render('heap_class_diagram', view=True)\n",
        "dot"
      ],
      "id": "wPrtQS7gnYZ8"
    },
    {
      "cell_type": "markdown",
      "source": [
        "`A`と`H`をグローバル変数にするとプログラム中で一つしかヒープを作れなくてよくない。そこで，ヒープのためのクラスheapを作る。ヒープの実体であるリストを`self.A`とするのは面倒だから，メソッドの最初の方で`A = self.A`とする。"
      ],
      "metadata": {
        "id": "V5hPavcLnYZ8"
      },
      "id": "V5hPavcLnYZ8"
    },
    {
      "cell_type": "code",
      "execution_count": null,
      "metadata": {
        "id": "VroFgB28nYZ9"
      },
      "outputs": [],
      "source": [
        "%%writefile test.py\n",
        "def parent(i): return i // 2\n",
        "def left(i): return 2 * i\n",
        "def right(i): return 2 * i + 1\n",
        "\n",
        "class Heap:\n",
        "  def __init__(self, A, dummy=''):\n",
        "    self.H = len(A)\n",
        "    self.A = [dummy] + A\n",
        "\n",
        "  def maxHeapify(self, i):\n",
        "    # 自分で書く\n",
        "\n",
        "  def buildMaxHeap(self):\n",
        "    for i in range(self.H // 2, 0, -1):\n",
        "      self.maxHeapify(i)\n",
        "\n",
        "H = int(input())\n",
        "A = list(map(int, input().split()))\n",
        "heap = Heap(A)\n",
        "heap.buildMaxHeap()\n",
        "print(*heap.A)"
      ],
      "id": "VroFgB28nYZ9"
    },
    {
      "cell_type": "code",
      "execution_count": null,
      "metadata": {
        "id": "U6ba1JL4nYZ9"
      },
      "outputs": [],
      "source": [
        "!python3 test.py < input.dat"
      ],
      "id": "U6ba1JL4nYZ9"
    },
    {
      "cell_type": "markdown",
      "source": [
        "## 優先度付きキュー"
      ],
      "metadata": {
        "id": "FvWQ7EHxnYZ9"
      },
      "id": "FvWQ7EHxnYZ9"
    },
    {
      "cell_type": "markdown",
      "source": [
        "\n",
        "問題：[ALDS1_9_C](https://onlinejudge.u-aizu.ac.jp/courses/lesson/1/ALDS1/9/ALDS1_9_C) (Priority Queue)"
      ],
      "metadata": {
        "id": "09J-jaG-nYZ9"
      },
      "id": "09J-jaG-nYZ9"
    },
    {
      "cell_type": "code",
      "execution_count": null,
      "metadata": {
        "id": "laPIhex-nYZ9"
      },
      "outputs": [],
      "source": [
        "%%writefile input.dat\n",
        "insert 8\n",
        "insert 2\n",
        "extract\n",
        "insert 10\n",
        "extract\n",
        "insert 11\n",
        "extract\n",
        "extract\n",
        "end"
      ],
      "id": "laPIhex-nYZ9"
    },
    {
      "cell_type": "markdown",
      "source": [
        "### ライブラリを使う場合"
      ],
      "metadata": {
        "id": "ypNZDtEUnYZ9"
      },
      "id": "ypNZDtEUnYZ9"
    },
    {
      "cell_type": "markdown",
      "source": [
        "\n",
        "heapqを使う。ただし，heapqは最小ヒープだから，最大ヒープにするために値に $(-1)$ を掛けて格納する。取り出すときに $(-1)$ を掛けて元に戻す。"
      ],
      "metadata": {
        "id": "xSpky0rOnYZ9"
      },
      "id": "xSpky0rOnYZ9"
    },
    {
      "cell_type": "code",
      "execution_count": null,
      "metadata": {
        "id": "tizia8wQnYZ9"
      },
      "outputs": [],
      "source": [
        "%%writefile test.py\n",
        "import heapq\n",
        "\n",
        "heap = []\n",
        "\n",
        "while True:\n",
        "  com = input().split()\n",
        "  if com[0] == 'insert': heapq.heappush(heap, -int(com[1]))\n",
        "  elif com[0] == 'extract': print(-heapq.heappop(heap))\n",
        "  elif com[0] == 'end': break"
      ],
      "id": "tizia8wQnYZ9"
    },
    {
      "cell_type": "code",
      "execution_count": null,
      "metadata": {
        "id": "DST-2ZXnnYZ-"
      },
      "outputs": [],
      "source": [
        "!python3 test.py < input.dat"
      ],
      "id": "DST-2ZXnnYZ-"
    },
    {
      "cell_type": "markdown",
      "source": [
        "### ライブラリを使わない場合"
      ],
      "metadata": {
        "id": "yME62QZxnYZ-"
      },
      "id": "yME62QZxnYZ-"
    },
    {
      "cell_type": "markdown",
      "source": [
        "\n",
        "先に作ったHeapを継承したHeap2を作り，要素を挿入する`insert`，指定した要素を持ち上げる`heapIncreaseKey`，最大値を取り出す`heapExtractMax`を実装する。"
      ],
      "metadata": {
        "id": "ugV3VbHknYZ-"
      },
      "id": "ugV3VbHknYZ-"
    },
    {
      "cell_type": "code",
      "execution_count": null,
      "metadata": {
        "id": "RZeDP0BUnYZ-"
      },
      "outputs": [],
      "source": [
        "%%writefile test.py\n",
        "def parent(i): return i // 2\n",
        "def left(i): return 2 * i\n",
        "def right(i): return 2 * i + 1\n",
        "\n",
        "# Heapの定義（前問）\n",
        "\n",
        "class Heap2(Heap):\n",
        "  def insert(self, key):\n",
        "    self.H += 1\n",
        "    self.A.append(key)\n",
        "    self.heapIncreaseKey(self.H, key)\n",
        "\n",
        "  def heapIncreaseKey(self, i, key):\n",
        "    A = self.A\n",
        "    # if key < A[i]: return # ここではチェックは不要\n",
        "    A[i] = key\n",
        "    # 自分で書く\n",
        "\n",
        "  def heapExtractMax(self):\n",
        "    # 自分で書く\n",
        "\n",
        "heap = Heap2([])\n",
        "\n",
        "while True:\n",
        "  com = input().split()\n",
        "  if com[0] == 'insert': heap.insert(int(com[1]))\n",
        "  elif com[0] == 'extract': print(heap.heapExtractMax())\n",
        "  elif com[0] == 'end': break"
      ],
      "id": "RZeDP0BUnYZ-"
    },
    {
      "cell_type": "code",
      "execution_count": null,
      "metadata": {
        "id": "3EUCfywPnYZ-"
      },
      "outputs": [],
      "source": [
        "!python3 test.py < input.dat"
      ],
      "id": "3EUCfywPnYZ-"
    },
    {
      "cell_type": "markdown",
      "source": [
        "## おまけ"
      ],
      "metadata": {
        "id": "jWrKJEsYnYZ-"
      },
      "id": "jWrKJEsYnYZ-"
    },
    {
      "cell_type": "markdown",
      "source": [],
      "metadata": {
        "id": "z6gLcJwfnYZ-"
      },
      "id": "z6gLcJwfnYZ-"
    },
    {
      "cell_type": "markdown",
      "source": [
        "### その1：ヒープソート"
      ],
      "metadata": {
        "id": "S_VLLCsknYZ-"
      },
      "id": "S_VLLCsknYZ-"
    },
    {
      "cell_type": "markdown",
      "source": [
        "\n",
        "アルゴリズム図鑑\n",
        "\n",
        "次のような手順で，ヒープを使って整列する。平均時間計算量は $O(n \\log n)$ ，平均空間計算量は $O(1)$ である。\n",
        "\n",
        "1.  ヒープを作る。\n",
        "2.  ヒープの最大値を取り出して，リストの末尾に置く。\n",
        "3.  ヒープのサイズを1つ小さくして，ヒープを再構築する。\n",
        "4.  ヒープのサイズが1になるまで2と3を繰り返す。"
      ],
      "metadata": {
        "id": "G_54tng5nYZ-"
      },
      "id": "G_54tng5nYZ-"
    },
    {
      "cell_type": "markdown",
      "source": [
        "### その2：伏線回収"
      ],
      "metadata": {
        "id": "6QoGEh8anYZ-"
      },
      "id": "6QoGEh8anYZ-"
    },
    {
      "cell_type": "markdown",
      "source": [
        "\n",
        "いろんなことを学んできた。\n",
        "\n",
        "教科書p.41の問題（Top N）の解法，今なら何個思い付くだろうか。最大ヒープは使えるか。最小ヒープは使えるか。例えば6個思い付くなら，次のようにAIでコードを書いて実験してみよう。参考：https://docs.python.org/ja/3.13/library/heapq.html\n",
        "\n",
        "> 0以上k以下のランダムな整数n個から最も小さいm個を取り出す。次の6個の方法の時間を比較するPythonのコード。<br>① 自分で書く<br>② 自分で書く<br>③ 自分で書く<br>④ 自分で書く<br>⑤ 自分で書く<br>⑥ 自分で書く<br>結果が等しくない場合はエラーメッセージを出して"
      ],
      "metadata": {
        "id": "o9W6pzpQnYZ-"
      },
      "id": "o9W6pzpQnYZ-"
    },
    {
      "cell_type": "markdown",
      "source": [
        "## 宿題"
      ],
      "metadata": {
        "id": "g87sM_pEnYZ_"
      },
      "id": "g87sM_pEnYZ_"
    },
    {
      "cell_type": "markdown",
      "source": [
        "\n",
        "以下の問題をAC（Accepted）にする。Pythonを使うこと。\n",
        "\n",
        "-   [ALDS1_9_A](https://onlinejudge.u-aizu.ac.jp/courses/lesson/1/ALDS1/9/ALDS1_9_A) (Complete Binary Tree)\n",
        "-   [ALDS1_9_B](https://onlinejudge.u-aizu.ac.jp/courses/lesson/1/ALDS1/9/ALDS1_9_B) (Maxiumum Heap)\n",
        "-   [ALDS1_9_C](https://onlinejudge.u-aizu.ac.jp/courses/lesson/1/ALDS1/9/ALDS1_9_C) (Priority Queue)\n",
        "\n",
        "以上"
      ],
      "metadata": {
        "id": "tk_7SMX2nYZ_"
      },
      "id": "tk_7SMX2nYZ_"
    }
  ],
  "nbformat": 4,
  "nbformat_minor": 5,
  "metadata": {
    "colab": {
      "provenance": []
    }
  }
}