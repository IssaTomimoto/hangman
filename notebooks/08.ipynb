{
  "cells": [
    {
      "cell_type": "markdown",
      "source": [
        "# 木"
      ],
      "metadata": {
        "id": "ICeFB6nlqsZx"
      },
      "id": "ICeFB6nlqsZx"
    },
    {
      "cell_type": "markdown",
      "source": [],
      "metadata": {
        "id": "5U-y_xV9qsZz"
      },
      "id": "5U-y_xV9qsZz"
    },
    {
      "cell_type": "markdown",
      "source": [
        "## 木構造：問題にチャレンジする前に"
      ],
      "metadata": {
        "id": "b50o7Hf6qsZz"
      },
      "id": "b50o7Hf6qsZz"
    },
    {
      "cell_type": "markdown",
      "source": [
        "\n",
        "キーワード：根付き木，節点（node），辺（edge），親（parent），子（child），兄弟（sibling），根（root），内部接点（internal node），葉（leaf），次数（degree），深さ（depth），高さ（height）"
      ],
      "metadata": {
        "id": "WCztH_qjqsZz"
      },
      "id": "WCztH_qjqsZz"
    },
    {
      "cell_type": "markdown",
      "source": [
        "### ♠木を扱うライブラリ"
      ],
      "metadata": {
        "id": "Wm2HeT8cqsZ0"
      },
      "id": "Wm2HeT8cqsZ0"
    },
    {
      "cell_type": "markdown",
      "source": [
        "\n",
        "根付き木の表現の問題をnetworkxで解く例を後で示すが，AIZU Online Judgeでは使えないし，そもそも，ここで扱う問題では，あまり御利益がない。\n",
        "\n",
        "|                  | anytree        | networkx                     |\n",
        "|------------------|----------------|------------------------------|\n",
        "| 用途             | 木構造         | グラフ（後の章でも使える。） |\n",
        "| Google Colab     | 要インストール | ○                            |\n",
        "| ノードの種類判別 | ○              | △                            |\n",
        "| 深さ             | ○              | △                            |\n",
        "| 高さ             | ○              | ×                            |\n",
        "| 子の取得         | ○              | ○                            |\n",
        "| 木の巡回         | inorder以外は○ | ×                            |\n",
        "| 可視化           | ○              | ○                            |"
      ],
      "metadata": {
        "id": "pjTuuN5sqsZ0"
      },
      "id": "pjTuuN5sqsZ0"
    },
    {
      "cell_type": "markdown",
      "source": [
        "### プログラミングテクニック"
      ],
      "metadata": {
        "id": "vK0-JXT2qsZ0"
      },
      "id": "vK0-JXT2qsZ0"
    },
    {
      "cell_type": "markdown",
      "source": [
        "\n",
        "printで改行しない。"
      ],
      "metadata": {
        "id": "PXFzbQRxqsZ1"
      },
      "id": "PXFzbQRxqsZ1"
    },
    {
      "cell_type": "code",
      "execution_count": null,
      "metadata": {
        "id": "Ovz9-zkIqsZ1"
      },
      "outputs": [],
      "source": [
        "print(\"foo\", end=\"\")\n",
        "print(\"bar\")"
      ],
      "id": "Ovz9-zkIqsZ1"
    },
    {
      "cell_type": "markdown",
      "source": [
        "入力の，後ろの方をまとめてリストに格納する方法"
      ],
      "metadata": {
        "id": "NV2iR1HtqsZ2"
      },
      "id": "NV2iR1HtqsZ2"
    },
    {
      "cell_type": "code",
      "execution_count": null,
      "metadata": {
        "id": "o3ZRAYr-qsZ2"
      },
      "outputs": [],
      "source": [
        "a, *b = [1, 2, 3, 4]\n",
        "print(a)\n",
        "print(b)"
      ],
      "id": "o3ZRAYr-qsZ2"
    },
    {
      "cell_type": "markdown",
      "source": [
        "文字列表示で便利な機能"
      ],
      "metadata": {
        "id": "hZ6-F0xlqsZ2"
      },
      "id": "hZ6-F0xlqsZ2"
    },
    {
      "cell_type": "code",
      "execution_count": null,
      "metadata": {
        "id": "38AiZ9asqsZ2"
      },
      "outputs": [],
      "source": [
        "foo = 123\n",
        "print(f'foo = {foo}')\n",
        "print(f'{foo = }')"
      ],
      "id": "38AiZ9asqsZ2"
    },
    {
      "cell_type": "markdown",
      "source": [
        "Noneと空のリストの検査\n",
        "\n",
        "| チェック内容           | 安全な書き方        | 危険な書き方 |\n",
        "|------------------------|---------------------|--------------|\n",
        "| `a` が `None` か       | `if a is None:`     | `if not a:`  |\n",
        "| `a` が `None` でないか | `if a is not None:` | `if a:`      |\n",
        "| リスト`a`が空か        | `if len(a) == 0:`   | `if not a:`  |\n",
        "| リスト`a`が空でないか  | `if len(a) > 0:`    | `if a:`      |"
      ],
      "metadata": {
        "id": "qAU4kjFvqsZ3"
      },
      "id": "qAU4kjFvqsZ3"
    },
    {
      "cell_type": "markdown",
      "source": [
        "## 根付き木の表現"
      ],
      "metadata": {
        "id": "PtOCxvqfqsZ3"
      },
      "id": "PtOCxvqfqsZ3"
    },
    {
      "cell_type": "markdown",
      "source": [
        "\n",
        "問題：[ALDS 1_7_A](https://onlinejudge.u-aizu.ac.jp/courses/lesson/1/ALDS1/7/ALDS1_7_A) (Rooted Trees)"
      ],
      "metadata": {
        "id": "wtjKJU1zqsZ3"
      },
      "id": "wtjKJU1zqsZ3"
    },
    {
      "cell_type": "code",
      "execution_count": 1,
      "metadata": {
        "id": "LOnGos6KqsZ3",
        "outputId": "b958c577-0c12-41fc-c09a-f0fbde4239df",
        "colab": {
          "base_uri": "https://localhost:8080/"
        }
      },
      "outputs": [
        {
          "output_type": "stream",
          "name": "stdout",
          "text": [
            "Writing input1.dat\n"
          ]
        }
      ],
      "source": [
        "%%writefile input1.dat\n",
        "13\n",
        "0 3 1 4 10\n",
        "1 2 2 3\n",
        "2 0\n",
        "3 0\n",
        "4 3 5 6 7\n",
        "5 0\n",
        "6 0\n",
        "7 2 8 9\n",
        "8 0\n",
        "9 0\n",
        "10 2 11 12\n",
        "11 0\n",
        "12 0"
      ],
      "id": "LOnGos6KqsZ3"
    },
    {
      "cell_type": "markdown",
      "source": [
        "### ♠networkxを使った解法"
      ],
      "metadata": {
        "id": "uS-7ZCGNqsZ3"
      },
      "id": "uS-7ZCGNqsZ3"
    },
    {
      "cell_type": "code",
      "execution_count": 2,
      "metadata": {
        "id": "O4V9eL4OqsZ3",
        "outputId": "ef7698bd-b7aa-478a-a318-5597163a2ab0",
        "colab": {
          "base_uri": "https://localhost:8080/",
          "height": 603
        }
      },
      "outputs": [
        {
          "output_type": "stream",
          "name": "stdout",
          "text": [
            "node 0: parent = -1, depth = 0, root, [1, 4, 10]\n",
            "node 1: parent = 0, depth = 1, internal, [2, 3]\n",
            "node 2: parent = 1, depth = 2, leaf, []\n",
            "node 3: parent = 1, depth = 2, leaf, []\n",
            "node 4: parent = 0, depth = 1, internal, [5, 6, 7]\n",
            "node 5: parent = 4, depth = 2, leaf, []\n",
            "node 6: parent = 4, depth = 2, leaf, []\n",
            "node 7: parent = 4, depth = 2, internal, [8, 9]\n",
            "node 8: parent = 7, depth = 3, leaf, []\n",
            "node 9: parent = 7, depth = 3, leaf, []\n",
            "node 10: parent = 0, depth = 1, internal, [11, 12]\n",
            "node 11: parent = 10, depth = 2, leaf, []\n",
            "node 12: parent = 10, depth = 2, leaf, []\n"
          ]
        },
        {
          "output_type": "execute_result",
          "data": {
            "image/svg+xml": "<?xml version=\"1.0\" encoding=\"UTF-8\" standalone=\"no\"?>\n<!DOCTYPE svg PUBLIC \"-//W3C//DTD SVG 1.1//EN\"\n \"http://www.w3.org/Graphics/SVG/1.1/DTD/svg11.dtd\">\n<!-- Generated by graphviz version 2.43.0 (0)\n -->\n<!-- Title: %3 Pages: 1 -->\n<svg width=\"494pt\" height=\"260pt\"\n viewBox=\"0.00 0.00 494.00 260.00\" xmlns=\"http://www.w3.org/2000/svg\" xmlns:xlink=\"http://www.w3.org/1999/xlink\">\n<g id=\"graph0\" class=\"graph\" transform=\"scale(1 1) rotate(0) translate(4 256)\">\n<title>%3</title>\n<polygon fill=\"white\" stroke=\"transparent\" points=\"-4,4 -4,-256 490,-256 490,4 -4,4\"/>\n<!-- 0 -->\n<g id=\"node1\" class=\"node\">\n<title>0</title>\n<ellipse fill=\"none\" stroke=\"black\" cx=\"243\" cy=\"-234\" rx=\"27\" ry=\"18\"/>\n<text text-anchor=\"middle\" x=\"243\" y=\"-230.3\" font-family=\"Times,serif\" font-size=\"14.00\">0</text>\n</g>\n<!-- 1 -->\n<g id=\"node2\" class=\"node\">\n<title>1</title>\n<ellipse fill=\"none\" stroke=\"black\" cx=\"99\" cy=\"-162\" rx=\"27\" ry=\"18\"/>\n<text text-anchor=\"middle\" x=\"99\" y=\"-158.3\" font-family=\"Times,serif\" font-size=\"14.00\">1</text>\n</g>\n<!-- 0&#45;&gt;1 -->\n<g id=\"edge1\" class=\"edge\">\n<title>0&#45;&gt;1</title>\n<path fill=\"none\" stroke=\"black\" d=\"M221.75,-222.67C197.4,-210.83 157.28,-191.33 129.57,-177.86\"/>\n<polygon fill=\"black\" stroke=\"black\" points=\"130.86,-174.6 120.33,-173.37 127.8,-180.89 130.86,-174.6\"/>\n</g>\n<!-- 4 -->\n<g id=\"node3\" class=\"node\">\n<title>4</title>\n<ellipse fill=\"none\" stroke=\"black\" cx=\"243\" cy=\"-162\" rx=\"27\" ry=\"18\"/>\n<text text-anchor=\"middle\" x=\"243\" y=\"-158.3\" font-family=\"Times,serif\" font-size=\"14.00\">4</text>\n</g>\n<!-- 0&#45;&gt;4 -->\n<g id=\"edge2\" class=\"edge\">\n<title>0&#45;&gt;4</title>\n<path fill=\"none\" stroke=\"black\" d=\"M243,-215.7C243,-207.98 243,-198.71 243,-190.11\"/>\n<polygon fill=\"black\" stroke=\"black\" points=\"246.5,-190.1 243,-180.1 239.5,-190.1 246.5,-190.1\"/>\n</g>\n<!-- 10 -->\n<g id=\"node4\" class=\"node\">\n<title>10</title>\n<ellipse fill=\"none\" stroke=\"black\" cx=\"387\" cy=\"-162\" rx=\"27\" ry=\"18\"/>\n<text text-anchor=\"middle\" x=\"387\" y=\"-158.3\" font-family=\"Times,serif\" font-size=\"14.00\">10</text>\n</g>\n<!-- 0&#45;&gt;10 -->\n<g id=\"edge3\" class=\"edge\">\n<title>0&#45;&gt;10</title>\n<path fill=\"none\" stroke=\"black\" d=\"M264.25,-222.67C288.6,-210.83 328.72,-191.33 356.43,-177.86\"/>\n<polygon fill=\"black\" stroke=\"black\" points=\"358.2,-180.89 365.67,-173.37 355.14,-174.6 358.2,-180.89\"/>\n</g>\n<!-- 2 -->\n<g id=\"node5\" class=\"node\">\n<title>2</title>\n<ellipse fill=\"none\" stroke=\"black\" cx=\"27\" cy=\"-90\" rx=\"27\" ry=\"18\"/>\n<text text-anchor=\"middle\" x=\"27\" y=\"-86.3\" font-family=\"Times,serif\" font-size=\"14.00\">2</text>\n</g>\n<!-- 1&#45;&gt;2 -->\n<g id=\"edge4\" class=\"edge\">\n<title>1&#45;&gt;2</title>\n<path fill=\"none\" stroke=\"black\" d=\"M84.43,-146.83C74.25,-136.94 60.48,-123.55 48.97,-112.36\"/>\n<polygon fill=\"black\" stroke=\"black\" points=\"51.41,-109.85 41.8,-105.38 46.53,-114.87 51.41,-109.85\"/>\n</g>\n<!-- 3 -->\n<g id=\"node6\" class=\"node\">\n<title>3</title>\n<ellipse fill=\"none\" stroke=\"black\" cx=\"99\" cy=\"-90\" rx=\"27\" ry=\"18\"/>\n<text text-anchor=\"middle\" x=\"99\" y=\"-86.3\" font-family=\"Times,serif\" font-size=\"14.00\">3</text>\n</g>\n<!-- 1&#45;&gt;3 -->\n<g id=\"edge5\" class=\"edge\">\n<title>1&#45;&gt;3</title>\n<path fill=\"none\" stroke=\"black\" d=\"M99,-143.7C99,-135.98 99,-126.71 99,-118.11\"/>\n<polygon fill=\"black\" stroke=\"black\" points=\"102.5,-118.1 99,-108.1 95.5,-118.1 102.5,-118.1\"/>\n</g>\n<!-- 5 -->\n<g id=\"node7\" class=\"node\">\n<title>5</title>\n<ellipse fill=\"none\" stroke=\"black\" cx=\"171\" cy=\"-90\" rx=\"27\" ry=\"18\"/>\n<text text-anchor=\"middle\" x=\"171\" y=\"-86.3\" font-family=\"Times,serif\" font-size=\"14.00\">5</text>\n</g>\n<!-- 4&#45;&gt;5 -->\n<g id=\"edge6\" class=\"edge\">\n<title>4&#45;&gt;5</title>\n<path fill=\"none\" stroke=\"black\" d=\"M228.43,-146.83C218.25,-136.94 204.48,-123.55 192.97,-112.36\"/>\n<polygon fill=\"black\" stroke=\"black\" points=\"195.41,-109.85 185.8,-105.38 190.53,-114.87 195.41,-109.85\"/>\n</g>\n<!-- 6 -->\n<g id=\"node8\" class=\"node\">\n<title>6</title>\n<ellipse fill=\"none\" stroke=\"black\" cx=\"243\" cy=\"-90\" rx=\"27\" ry=\"18\"/>\n<text text-anchor=\"middle\" x=\"243\" y=\"-86.3\" font-family=\"Times,serif\" font-size=\"14.00\">6</text>\n</g>\n<!-- 4&#45;&gt;6 -->\n<g id=\"edge7\" class=\"edge\">\n<title>4&#45;&gt;6</title>\n<path fill=\"none\" stroke=\"black\" d=\"M243,-143.7C243,-135.98 243,-126.71 243,-118.11\"/>\n<polygon fill=\"black\" stroke=\"black\" points=\"246.5,-118.1 243,-108.1 239.5,-118.1 246.5,-118.1\"/>\n</g>\n<!-- 7 -->\n<g id=\"node9\" class=\"node\">\n<title>7</title>\n<ellipse fill=\"none\" stroke=\"black\" cx=\"315\" cy=\"-90\" rx=\"27\" ry=\"18\"/>\n<text text-anchor=\"middle\" x=\"315\" y=\"-86.3\" font-family=\"Times,serif\" font-size=\"14.00\">7</text>\n</g>\n<!-- 4&#45;&gt;7 -->\n<g id=\"edge8\" class=\"edge\">\n<title>4&#45;&gt;7</title>\n<path fill=\"none\" stroke=\"black\" d=\"M257.57,-146.83C267.75,-136.94 281.52,-123.55 293.03,-112.36\"/>\n<polygon fill=\"black\" stroke=\"black\" points=\"295.47,-114.87 300.2,-105.38 290.59,-109.85 295.47,-114.87\"/>\n</g>\n<!-- 11 -->\n<g id=\"node10\" class=\"node\">\n<title>11</title>\n<ellipse fill=\"none\" stroke=\"black\" cx=\"387\" cy=\"-90\" rx=\"27\" ry=\"18\"/>\n<text text-anchor=\"middle\" x=\"387\" y=\"-86.3\" font-family=\"Times,serif\" font-size=\"14.00\">11</text>\n</g>\n<!-- 10&#45;&gt;11 -->\n<g id=\"edge9\" class=\"edge\">\n<title>10&#45;&gt;11</title>\n<path fill=\"none\" stroke=\"black\" d=\"M387,-143.7C387,-135.98 387,-126.71 387,-118.11\"/>\n<polygon fill=\"black\" stroke=\"black\" points=\"390.5,-118.1 387,-108.1 383.5,-118.1 390.5,-118.1\"/>\n</g>\n<!-- 12 -->\n<g id=\"node11\" class=\"node\">\n<title>12</title>\n<ellipse fill=\"none\" stroke=\"black\" cx=\"459\" cy=\"-90\" rx=\"27\" ry=\"18\"/>\n<text text-anchor=\"middle\" x=\"459\" y=\"-86.3\" font-family=\"Times,serif\" font-size=\"14.00\">12</text>\n</g>\n<!-- 10&#45;&gt;12 -->\n<g id=\"edge10\" class=\"edge\">\n<title>10&#45;&gt;12</title>\n<path fill=\"none\" stroke=\"black\" d=\"M401.57,-146.83C411.75,-136.94 425.52,-123.55 437.03,-112.36\"/>\n<polygon fill=\"black\" stroke=\"black\" points=\"439.47,-114.87 444.2,-105.38 434.59,-109.85 439.47,-114.87\"/>\n</g>\n<!-- 8 -->\n<g id=\"node12\" class=\"node\">\n<title>8</title>\n<ellipse fill=\"none\" stroke=\"black\" cx=\"279\" cy=\"-18\" rx=\"27\" ry=\"18\"/>\n<text text-anchor=\"middle\" x=\"279\" y=\"-14.3\" font-family=\"Times,serif\" font-size=\"14.00\">8</text>\n</g>\n<!-- 7&#45;&gt;8 -->\n<g id=\"edge11\" class=\"edge\">\n<title>7&#45;&gt;8</title>\n<path fill=\"none\" stroke=\"black\" d=\"M306.65,-72.76C302.29,-64.28 296.85,-53.71 291.96,-44.2\"/>\n<polygon fill=\"black\" stroke=\"black\" points=\"294.99,-42.44 287.3,-35.15 288.77,-45.64 294.99,-42.44\"/>\n</g>\n<!-- 9 -->\n<g id=\"node13\" class=\"node\">\n<title>9</title>\n<ellipse fill=\"none\" stroke=\"black\" cx=\"351\" cy=\"-18\" rx=\"27\" ry=\"18\"/>\n<text text-anchor=\"middle\" x=\"351\" y=\"-14.3\" font-family=\"Times,serif\" font-size=\"14.00\">9</text>\n</g>\n<!-- 7&#45;&gt;9 -->\n<g id=\"edge12\" class=\"edge\">\n<title>7&#45;&gt;9</title>\n<path fill=\"none\" stroke=\"black\" d=\"M323.35,-72.76C327.71,-64.28 333.15,-53.71 338.04,-44.2\"/>\n<polygon fill=\"black\" stroke=\"black\" points=\"341.23,-45.64 342.7,-35.15 335.01,-42.44 341.23,-45.64\"/>\n</g>\n</g>\n</svg>\n",
            "text/plain": [
              "<graphviz.graphs.Digraph at 0x7b6c890df0d0>"
            ]
          },
          "metadata": {},
          "execution_count": 2
        }
      ],
      "source": [
        "import networkx as nx\n",
        "\n",
        "with open('input1.dat') as f: lines = f.readlines()\n",
        "\n",
        "G = nx.DiGraph()\n",
        "\n",
        "n = int(lines[0])\n",
        "for line in lines[1:]:\n",
        "  parent, _, *children = list(map(int, line.split()))\n",
        "  for child in children: G.add_edge(parent, child)\n",
        "  # ここで親子関係や子のリストを記憶すれば話は簡単だが，ここでは汎用的な方法を示す。\n",
        "\n",
        "def node_type(G, node):\n",
        "  if G.in_degree(node) == 0: return \"root\"    # 入次数が0なら根\n",
        "  elif G.out_degree(node) == 0: return \"leaf\" # 出次数が0なら葉\n",
        "  return \"internal\"                           # 他は内部節点\n",
        "\n",
        "# 入次数が0のものが根（根付き木では1個しかない）\n",
        "root = [node for node, degree in G.in_degree() if degree == 0][0]\n",
        "\n",
        "# 根からの距離が深さ\n",
        "depths = nx.single_source_shortest_path_length(G, root)\n",
        "\n",
        "# 全てのノードについて，親を探す\n",
        "parents = {root: -1} # 根の親はない\n",
        "for u, v in nx.bfs_edges(G, root): parents[v] = u\n",
        "\n",
        "for i in range(n):\n",
        "  parent = parents[i]\n",
        "  depth = depths[i]\n",
        "  nodetype = node_type(G, i)\n",
        "  children = sorted(G.successors(i)) # 入力から明らかだが，ここでは改めて求める。\n",
        "  print(f'node {i}: {parent = }, {depth = }, {nodetype}, {children}')\n",
        "\n",
        "# おまけ（可視化）\n",
        "import graphviz\n",
        "dot = graphviz.Digraph()\n",
        "dot.edges((str(u), str(v)) for u, v in G.edges)\n",
        "dot"
      ],
      "id": "O4V9eL4OqsZ3"
    },
    {
      "cell_type": "markdown",
      "source": [
        "anytreeのコードは，このコードをAIで翻訳すれば得られるだろう。"
      ],
      "metadata": {
        "id": "nPLusX8qqsZ3"
      },
      "id": "nPLusX8qqsZ3"
    },
    {
      "cell_type": "markdown",
      "source": [
        "### 自分で実装する"
      ],
      "metadata": {
        "id": "uifazyJMqsZ3"
      },
      "id": "uifazyJMqsZ3"
    },
    {
      "cell_type": "markdown",
      "source": [
        "\n",
        "教科書では**左子右兄弟表現**を使っているが，ここでは最低限の実装で済ませる（教科書も，左子右兄弟表現はこの問題でしか使っていない）。\n",
        "\n",
        "ここで理解したいこと：\n",
        "\n",
        "-   ノードをクラスで表現する。\n",
        "-   木の操作（ここでは深さの計算）には再帰が向いている。\n",
        "-   木を管理する変数をグローバル変数にするか，引数で渡すか（Program 8.2，8.3，8.4を参照）。"
      ],
      "metadata": {
        "id": "T6C9XJuUqsZ3"
      },
      "id": "T6C9XJuUqsZ3"
    },
    {
      "cell_type": "code",
      "execution_count": 3,
      "metadata": {
        "id": "tBB2D2ELqsZ3",
        "outputId": "11c54903-4057-4092-e961-6bcfdbd38d85",
        "colab": {
          "base_uri": "https://localhost:8080/"
        }
      },
      "outputs": [
        {
          "output_type": "stream",
          "name": "stdout",
          "text": [
            "Writing test.py\n"
          ]
        }
      ],
      "source": [
        "%%writefile test.py\n",
        "class Node:\n",
        "  def __init__(self, key):\n",
        "    self.key = key\n",
        "    self.parent = None\n",
        "    self.children = []\n",
        "\n",
        "  def getDepth(self):\n",
        "    if self.parent is None: return 0  #親がないなら深さ０\n",
        "    return self.parent.getDepth() + 1 #親の深さ＋１\n",
        "\n",
        "  def getNodetype(self):\n",
        "    if self.parent is None: return \"root\" #親がないならroot\n",
        "    if len(self.children) > 0: return \"internal node\" #子がいたらinternal node\n",
        "    return \"leaf\" #いずれでもなければleaf\n",
        "\n",
        "  def __str__(self):# printで呼ばれたとき何を返すのか\n",
        "    parent = self.parent.key if self.parent is not None else -1\n",
        "    depth = self.getDepth()\n",
        "    return f'node {self.key}: {parent = }, {depth = }, {self.getNodetype()}, {self.children}'\n",
        "\n",
        "# 入力\n",
        "n = int(input())\n",
        "T = [Node(k) for k in range(n)] # ノードのリストを木とみなす。\n",
        "\n",
        "for _ in range(n):\n",
        "  k, _, *children = map(int, input().split())#データを読みこむ\n",
        "  node = T[k]             #ノードを取り出す\n",
        "  node.children = children#子を記憶する\n",
        "  for c in children: T[c].parent = node#親を記録する\n",
        "\n",
        "for node in T: print(node)"
      ],
      "id": "tBB2D2ELqsZ3"
    },
    {
      "cell_type": "code",
      "execution_count": null,
      "metadata": {
        "id": "tMNJnLm_qsZ3"
      },
      "outputs": [],
      "source": [
        "!python3 test.py < input1.dat"
      ],
      "id": "tMNJnLm_qsZ3"
    },
    {
      "cell_type": "markdown",
      "source": [
        "うまく行ったら提出する。"
      ],
      "metadata": {
        "id": "TDUYEIqGqsZ3"
      },
      "id": "TDUYEIqGqsZ3"
    },
    {
      "cell_type": "markdown",
      "source": [
        "## 二分木の表現"
      ],
      "metadata": {
        "id": "0AQOU0hHqsZ3"
      },
      "id": "0AQOU0hHqsZ3"
    },
    {
      "cell_type": "markdown",
      "source": [
        "\n",
        "問題：[ALDS 1_7_B](https://onlinejudge.u-aizu.ac.jp/courses/lesson/1/ALDS1/7/ALDS1_7_B) (Binary Tree)\n",
        "\n",
        "ここで理解したいこと：\n",
        "\n",
        "-   二分木のノードの実装\n",
        "-   （再帰）兄弟を求めるときは，自分が左の子なのか右の子なのかを知る必要がある。\n",
        "-   （再帰）ノードの高さは，左の子の高さと右の子の高さの最大値に1を足すことで求められる。"
      ],
      "metadata": {
        "id": "B5aOda8cqsZ3"
      },
      "id": "B5aOda8cqsZ3"
    },
    {
      "cell_type": "code",
      "execution_count": null,
      "metadata": {
        "id": "MtxQqdqYqsZ4"
      },
      "outputs": [],
      "source": [
        "%%writefile input2.dat\n",
        "9\n",
        "0 1 4\n",
        "1 2 3\n",
        "2 -1 -1\n",
        "3 -1 -1\n",
        "4 5 8\n",
        "5 6 7\n",
        "6 -1 -1\n",
        "7 -1 -1\n",
        "8 -1 -1"
      ],
      "id": "MtxQqdqYqsZ4"
    },
    {
      "cell_type": "code",
      "execution_count": null,
      "metadata": {
        "id": "xSyt7VXMqsZ4"
      },
      "outputs": [],
      "source": [
        "%%writefile test.py\n",
        "class Node:\n",
        "  def __init__(self, key):\n",
        "    self.key = key\n",
        "    self.parent = None\n",
        "    self.left = None\n",
        "    self.right = None\n",
        "\n",
        "  def getDepth(self):\n",
        "    if self.parent is None: return 0\n",
        "    return self.parent.getDepth() + 1\n",
        "\n",
        "  def getNodetype(self):\n",
        "    if self.parent is None: return \"root\"\n",
        "    if self.left is not None or self.right is not None: return \"internal node\"\n",
        "    return \"leaf\"\n",
        "\n",
        "  def getSibling(self):\n",
        "    if self.parent is None: return None\n",
        "    # 自分で書く。\n",
        "\n",
        "  def getDegree(self):\n",
        "    degree = 0\n",
        "    if self.left: degree += 1\n",
        "    if self.right: degree += 1\n",
        "    return degree\n",
        "\n",
        "  def getHeight(self):\n",
        "    # 自分で書く。\n",
        "    if self.left is not None: return self.left.getHeight() + 1\n",
        "    if self.right is not None: return self.right.getHeight() + 1\n",
        "    return 0\n",
        "\n",
        "  def __str__(self):\n",
        "    parent = self.parent.key if self.parent is not None else -1\n",
        "    sibling = self.getSibling().key if self.getSibling() is not None else -1\n",
        "    degree = self.getDegree()\n",
        "    depth = self.getDepth()\n",
        "    height = self.getHeight()\n",
        "    return f'node {self.key}: {parent = }, {sibling = }, {degree = }, {depth = }, {height = }, {self.getNodetype()}'\n",
        "\n",
        "n = int(input())\n",
        "T = [Node(k) for k in range(n)] # ノードをリストを木とみなす。\n",
        "\n",
        "for _ in range(n):\n",
        "  k, left, right = map(int, input().split())\n",
        "  node = T[k]\n",
        "  if left != -1: node.left = T[left]\n",
        "  if right != -1: node.right = T[right]\n",
        "  if node.left is not None: node.left.parent = node\n",
        "  if node.right is not None: node.right.parent = node\n",
        "\n",
        "for node in T: print(node)"
      ],
      "id": "xSyt7VXMqsZ4"
    },
    {
      "cell_type": "code",
      "execution_count": null,
      "metadata": {
        "id": "fFTBwARoqsZ4"
      },
      "outputs": [],
      "source": [
        "!python3 test.py < input2.dat"
      ],
      "id": "fFTBwARoqsZ4"
    },
    {
      "cell_type": "markdown",
      "source": [
        "うまく行ったら提出する。"
      ],
      "metadata": {
        "id": "p22BuRJtqsZ4"
      },
      "id": "p22BuRJtqsZ4"
    },
    {
      "cell_type": "markdown",
      "source": [
        "## 木の巡回"
      ],
      "metadata": {
        "id": "Tlu-OiPnqsZ4"
      },
      "id": "Tlu-OiPnqsZ4"
    },
    {
      "cell_type": "markdown",
      "source": [
        "\n",
        "問題：[ALDS 1_7_C](https://onlinejudge.u-aizu.ac.jp/courses/lesson/1/ALDS1/7/ALDS1_7_C) (Tree Walk)\n",
        "\n",
        "ここで理解したいこと：\n",
        "\n",
        "-   木の巡回方法3種類"
      ],
      "metadata": {
        "id": "wcK81QEnqsZ4"
      },
      "id": "wcK81QEnqsZ4"
    },
    {
      "cell_type": "code",
      "execution_count": null,
      "metadata": {
        "id": "PUEIJDWRqsZ4"
      },
      "outputs": [],
      "source": [
        "%%writefile test.py\n",
        "class Node:\n",
        "  def __init__(self, key):\n",
        "    self.key = key\n",
        "    self.parent = None\n",
        "    self.left = None\n",
        "    self.right = None\n",
        "\n",
        "n = int(input())\n",
        "T = [Node(k) for k in range(n)] # ノードをリストを木とみなす。\n",
        "\n",
        "for _ in range(n):\n",
        "  k, left, right = map(int, input().split())\n",
        "  node = T[k]\n",
        "  if left != -1: node.left = T[left]\n",
        "  if right != -1: node.right = T[right]\n",
        "  if node.left is not None: node.left.parent = node\n",
        "  if node.right is not None: node.right.parent = node\n",
        "\n",
        "# ここまでは前と同じ\n",
        "\n",
        "def preParse(u):\n",
        "  if u is None: return\n",
        "  print(f' {u.key}', end='')\n",
        "  preParse(u.left)\n",
        "  preParse(u.right)\n",
        "\n",
        "def inParse(u):\n",
        "  # 自分で書く。\n",
        "\n",
        "def postParse(u):\n",
        "  if u is None: return\n",
        "  postParse(u.left)\n",
        "  postParse(u.right)\n",
        "  print(f' {u.key}', end='')\n",
        "\n",
        "# 親のないノードが根である。\n",
        "root = [node for node in T if node.parent is None][0]\n",
        "\n",
        "print(\"Preorder\")\n",
        "preParse(root)\n",
        "print()\n",
        "\n",
        "print(\"Inorder\")\n",
        "inParse(root)\n",
        "print()\n",
        "\n",
        "print(\"Postorder\")\n",
        "postParse(root)\n",
        "print()"
      ],
      "id": "PUEIJDWRqsZ4"
    },
    {
      "cell_type": "code",
      "execution_count": null,
      "metadata": {
        "id": "Sap0Rd7AqsZ4"
      },
      "outputs": [],
      "source": [
        "!python3 test.py < input2.dat"
      ],
      "id": "Sap0Rd7AqsZ4"
    },
    {
      "cell_type": "markdown",
      "source": [
        "うまく行ったら提出する。"
      ],
      "metadata": {
        "id": "MTD3oQvqqsZ4"
      },
      "id": "MTD3oQvqqsZ4"
    },
    {
      "cell_type": "markdown",
      "source": [
        "## ♠木の巡回の応用：木の復元"
      ],
      "metadata": {
        "id": "_026S3XPqsZ4"
      },
      "id": "_026S3XPqsZ4"
    },
    {
      "cell_type": "markdown",
      "source": [
        "\n",
        "問題：[ALDS 1_7_D](https://onlinejudge.u-aizu.ac.jp/courses/lesson/1/ALDS1/7/ALDS1_7_D) (Reconstruction of a Tree)"
      ],
      "metadata": {
        "id": "TfE4zB_TqsZ4"
      },
      "id": "TfE4zB_TqsZ4"
    },
    {
      "cell_type": "markdown",
      "source": [
        "## 宿題"
      ],
      "metadata": {
        "id": "ymAM59IFqsZ4"
      },
      "id": "ymAM59IFqsZ4"
    },
    {
      "cell_type": "markdown",
      "source": [
        "\n",
        "以下の問題をAC（Accepted）にする。Pythonを使うこと。\n",
        "\n",
        "-   [ALDS 1_7_A](https://onlinejudge.u-aizu.ac.jp/courses/lesson/1/ALDS1/7/ALDS1_7_A) (Rooted Trees)\n",
        "-   [ALDS 1_7_B](https://onlinejudge.u-aizu.ac.jp/courses/lesson/1/ALDS1/7/ALDS1_7_B) (Binary Tree)\n",
        "-   [ALDS 1_7_C](https://onlinejudge.u-aizu.ac.jp/courses/lesson/1/ALDS1/7/ALDS1_7_C) (Tree Walk)\n",
        "-   ♠[ALDS 1_7_D](https://onlinejudge.u-aizu.ac.jp/courses/lesson/1/ALDS1/7/ALDS1_7_D) (Reconstruction of a Tree)\n",
        "\n",
        "以上"
      ],
      "metadata": {
        "id": "GNxuLcOcqsZ8"
      },
      "id": "GNxuLcOcqsZ8"
    }
  ],
  "nbformat": 4,
  "nbformat_minor": 5,
  "metadata": {
    "colab": {
      "provenance": []
    },
    "language_info": {
      "name": "python"
    },
    "kernelspec": {
      "name": "python3",
      "display_name": "Python 3"
    }
  }
}