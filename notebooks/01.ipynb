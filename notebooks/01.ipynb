{
  "cells": [
    {
      "cell_type": "markdown",
      "source": [
        "# 第1回 オンラインジャッジを活用しよう"
      ],
      "metadata": {
        "id": "nFai8hdTwuC8"
      },
      "id": "nFai8hdTwuC8"
    },
    {
      "cell_type": "markdown",
      "source": [],
      "metadata": {
        "id": "gRCG5VYKwuC-"
      },
      "id": "gRCG5VYKwuC-"
    },
    {
      "cell_type": "markdown",
      "source": [
        "## 前提知識"
      ],
      "metadata": {
        "id": "nGnh22KtwuC-"
      },
      "id": "nGnh22KtwuC-"
    },
    {
      "cell_type": "markdown",
      "source": [
        "\n",
        "Pythonの基本\n",
        "\n",
        "-   アルソフ『独学プログラマー』（日経BP, 2018）の第1部と第2部\n",
        "\n",
        "基礎を固めるために，次のサイトの問題を解けるようにしておくとよいだろう。（4月中くらい？）\n",
        "\n",
        "| タイトル                                                                                                    | 確認                                                                 | メモ        |\n",
        "|-------------------------------------------------------------------------------------------------------------|----------------------------------------------------------------------|-------------|\n",
        "| [AIZU ONLINE JUDGEのITP1](https://onlinejudge.u-aizu.ac.jp/courses/lesson/2/ITP1/all)                       | [\\# All](https://onlinejudge.u-aizu.ac.jp/courses/lesson/2/ITP1/all) | ♠トピック11 |\n",
        "| [Python入門 AtCoder Programming Guide for beginners (APG4bPython)](https://atcoder.jp/contests/APG4bPython) | [得点状況](https://atcoder.jp/contests/APG4bPython/score)            |             |"
      ],
      "metadata": {
        "id": "YHkvfQtUwuC_"
      },
      "id": "YHkvfQtUwuC_"
    },
    {
      "cell_type": "markdown",
      "source": [
        "## 受講環境"
      ],
      "metadata": {
        "id": "h_qC9c4awuC_"
      },
      "id": "h_qC9c4awuC_"
    },
    {
      "cell_type": "markdown",
      "source": [
        "\n",
        "-   ウェブブラウザとキーボード\n",
        "-   紙とペン"
      ],
      "metadata": {
        "id": "JiZVlL-DwuC_"
      },
      "id": "JiZVlL-DwuC_"
    },
    {
      "cell_type": "markdown",
      "source": [
        "## 必要なアカウント"
      ],
      "metadata": {
        "id": "RJcT8qx5wuDA"
      },
      "id": "RJcT8qx5wuDA"
    },
    {
      "cell_type": "markdown",
      "source": [
        "\n",
        "-   Google Colab （大学のGmailのアカウント）\n",
        "-   https://onlinejudge.u-aizu.ac.jp\n",
        "-   https://atcoder.jp"
      ],
      "metadata": {
        "id": "1WlNWUcWwuDA"
      },
      "id": "1WlNWUcWwuDA"
    },
    {
      "cell_type": "markdown",
      "source": [
        "## 内容"
      ],
      "metadata": {
        "id": "xMBLtEwVwuDA"
      },
      "id": "xMBLtEwVwuDA"
    },
    {
      "cell_type": "markdown",
      "source": [
        "\n",
        "AIで置き換えやすい順\n",
        "\n",
        "1.  プログラミングテクニック\n",
        "2.  定番のデータ構造とアルゴリズム\n",
        "3.  問題解決能力\n",
        "    1.  現実世界を**観察**する。\n",
        "    2.  解けそうな問題を**発見**する。\n",
        "    3.  コンピュータで解ける形に**整理**する。\n",
        "    4.  **効率**のよいプログラム，あるいは効率のよいプログラムを生成する**プロンプト**を書く。\n",
        "    5.  プログラムの正しさを確認する。\n",
        "    6.  結果について**考察**する。\n",
        "4.  コンピュータについての理解\n",
        "5.  「習得への情熱」\n",
        "\n",
        "やらないこと\n",
        "\n",
        "-   競プロの本番の問題：高校数学に例えれば，解きたいのは教科書の練習問題であって，大学入試問題ではない。\n",
        "-   特定の分野で使われるデータ構造とアルゴリズム（データサイエンス，機械学習，幾何学，数値計算，暗号，パズルなど）"
      ],
      "metadata": {
        "id": "Cuta_wf7wuDA"
      },
      "id": "Cuta_wf7wuDA"
    },
    {
      "cell_type": "markdown",
      "source": [
        "### プログラミング言語"
      ],
      "metadata": {
        "id": "RSHayI_FwuDA"
      },
      "id": "RSHayI_FwuDA"
    },
    {
      "cell_type": "markdown",
      "source": [
        "\n",
        "-   Python\n",
        "-   C言語やC++は？\n",
        "-   アセンブリ言語は？\n",
        "\n",
        "競プロでは，C言語やC++には，パフォーマンス上のメリットがある。\n",
        "\n",
        "独学する場合は，[C++入門 AtCoder Programming Guide for beginners (APG4b)](https://atcoder.jp/contests/APG4b)をやれば十分だが，そこで扱われるのはC++のごく一部であることに注意してほしい。矢吹太朗『C++の教科書』（日経BP, 2017）と比較してみよ。\n",
        "\n",
        "<img src=\"https://ndlsearch.ndl.go.jp/thumbnail/9784822298937.jpg\" width=\"100\"/>"
      ],
      "metadata": {
        "id": "Vp19_Vz2wuDB"
      },
      "id": "Vp19_Vz2wuDB"
    },
    {
      "cell_type": "markdown",
      "source": [
        "### オンラインジャッジ"
      ],
      "metadata": {
        "id": "oTVTuTKwwuDB"
      },
      "id": "oTVTuTKwwuDB"
    },
    {
      "cell_type": "markdown",
      "source": [
        "\n",
        "[APG4bPython EX5](https://atcoder.jp/contests/APG4bPython/tasks/APG4bPython_cr)を例に，講義内で説明する。"
      ],
      "metadata": {
        "id": "fXJz8xmqwuDB"
      },
      "id": "fXJz8xmqwuDB"
    },
    {
      "cell_type": "markdown",
      "source": [
        "#### オンラインジャッジ（や競プロ）で心配なこと"
      ],
      "metadata": {
        "id": "PPZ86ep6wuDB"
      },
      "id": "PPZ86ep6wuDB"
    },
    {
      "cell_type": "markdown",
      "source": [
        "\n",
        "-   明確な問題が提示されるが，現実にはそういうことは稀である。\n",
        "-   オンラインジャッジにパスして満足しがち。\n",
        "    -   真：正しいプログラムはテストにパスする。\n",
        "    -   真：テストにパスしないプログラムは間違っている。\n",
        "    -   偽：テストにパスするプログラムは正しい。\n",
        "    -   偽：間違ったプログラムはテストをパスしない。\n",
        "-   （最善を尽くしても）何時間もかかるような問題の経験を積めない。\n",
        "-   問題に特化したプログラムで満足しがち。（例：データ構造の実体を1個しか作れない。）"
      ],
      "metadata": {
        "id": "f7VrDSO-wuDB"
      },
      "id": "f7VrDSO-wuDB"
    },
    {
      "cell_type": "markdown",
      "source": [
        "### 問題への取り組み方"
      ],
      "metadata": {
        "id": "joqg-YI2wuDC"
      },
      "id": "joqg-YI2wuDC"
    },
    {
      "cell_type": "markdown",
      "source": [
        "\n",
        "自分に向いたものを選ぶ。一つに限定する必要はない。\n",
        "\n",
        "-   ~~問題をそのままAIに与えて解く。~~（効果に疑問あり）\n",
        "-   データ構造やアルゴリズムのライブラリを使う。（最初のゴール）\n",
        "-   データ構造やアルゴリズムのライブラリに頼らずに，それらを自分で作る。\n",
        "-   データ構造やアルゴリズムのライブラリに頼らずに，それらをAIで作る。\n",
        "-   ~~教科書のコード（C言語やC++）をそのまま入力して解く。~~（効果に疑問あり）\n",
        "-   教科書のコードを自分でPythonに翻訳して解く。\n",
        "-   教科書のコードをAIでPythonに翻訳して解く。"
      ],
      "metadata": {
        "id": "X8MXvJrJwuDC"
      },
      "id": "X8MXvJrJwuDC"
    },
    {
      "cell_type": "markdown",
      "source": [
        "## 教科書・参考書"
      ],
      "metadata": {
        "id": "Wk1AQfBzwuDC"
      },
      "id": "Wk1AQfBzwuDC"
    },
    {
      "cell_type": "markdown",
      "source": [
        "\n",
        "英語の教科書は，そのPDFが公開されている場合がある。日本語で読みたい場合は，[PDFMathTranslate](https://github.com/Byaidu/PDFMathTranslate/blob/main/docs/README_ja-JP.md)で翻訳するとよいだろう。"
      ],
      "metadata": {
        "id": "NQyBjHojwuDC"
      },
      "id": "NQyBjHojwuDC"
    },
    {
      "cell_type": "markdown",
      "source": [
        "### 教科書"
      ],
      "metadata": {
        "id": "mClHRe9PwuDC"
      },
      "id": "mClHRe9PwuDC"
    },
    {
      "cell_type": "markdown",
      "source": [
        "\n",
        "<img src=\"https://ndlsearch.ndl.go.jp/thumbnail/9784839952952.jpg\" width=\"100\"/> <strong>\\[渡部15\\]</strong> 渡部有隆『プログラミングコンテスト攻略のためのアルゴリズムとデータ構造』（マイナビ出版, 2015）（C，C++，<a href=\"https://onlinejudge.u-aizu.ac.jp/courses/lesson/1/ALDS1/1\">オンラインジャッジ</a>。「文字列のアルゴリズム」は扱われていない。）\n",
        "\n",
        "-   千葉工大図書館（紙）\n",
        "-   千葉工大図書館（オンライン）　同時アクセス可能1人。60ページまで印刷できる。\n",
        "-   紙（新品あるいは古書）　自分のものになる（後輩にあげられる）。\n",
        "-   電子書籍　読む権利を購入するだけ。\n",
        "-   PDF　Google NotebookLMなどのAIに入力して質問するのに便利（例：「2.2節のAlgorithm 1をPythonで実装して」）\n",
        "\n",
        "メモ\n",
        "\n",
        "-   競プロの本番の問題を扱わないのに競プロの本を使うのは，オンラインジャッジを使いたいからである。\n",
        "-   ♠教科書ではC言語やC++が使われている。それをPythonに翻訳する場合に，変数や関数の名前がPythonの（[PEP 8](https://peps.python.org/pep-0008/)）に反する危険がある。例えば，関数名`insertionSort`は，Pythonでは`insertion_sort`とするのが一般的である。しかし，これはあくまで「規約」であるため，この講義では教科書の名前をそのまま使うことにする。そのほかにも，Pythonの規約に従わないことはあるだろう（インデントとか）。"
      ],
      "metadata": {
        "id": "byTNN-vYwuDC"
      },
      "id": "byTNN-vYwuDC"
    },
    {
      "cell_type": "markdown",
      "source": [
        "### 参考書"
      ],
      "metadata": {
        "id": "6cra7PRGwuDD"
      },
      "id": "6cra7PRGwuDD"
    },
    {
      "cell_type": "markdown",
      "source": [],
      "metadata": {
        "id": "UNx0ubYuwuDD"
      },
      "id": "UNx0ubYuwuDD"
    },
    {
      "cell_type": "markdown",
      "source": [
        "#### 伝統的"
      ],
      "metadata": {
        "id": "vCSZILFpwuDD"
      },
      "id": "vCSZILFpwuDD"
    },
    {
      "cell_type": "markdown",
      "source": [
        "\n",
        "-   <img src=\"https://ndlsearch.ndl.go.jp/thumbnail/9784798172439.jpg\" width=\"100\"/> <strong>\\[石田23\\]</strong> 石田保輝ほか『アルゴリズム図鑑』（翔泳社, 増補改訂版, 2023）　アプリもある（一部有料。AppleとGoogleで価格が異なるかもしれない）。\n",
        "-   <img src=\"https://ndlsearch.ndl.go.jp/thumbnail/9784065128442.jpg\" width=\"100\"/> <strong>\\[大槻20\\]</strong> 大槻兼資『問題解決力を鍛える！アルゴリズムとデータ構造』（講談社, 2020）（C++）　競プロ本番の問題が題材になっている。\n",
        "-   <img src=\"https://images-fe.ssl-images-amazon.com/images/P/4797304952.09.LZZZZZZZ\" width=\"100\"/> <strong>\\[近藤98\\]</strong> 近藤嘉雪『定本Cプログラマのためのアルゴリズムとデータ構造』（ソフトバンク, 1998）　（C言語。「グラフのアルゴリズム」は扱われていない。）\n",
        "-   <img src=\"https://ndlsearch.ndl.go.jp/thumbnail/9784000103435.jpg\" width=\"100\"/> <strong>\\[石畑89\\]</strong> 石畑清『アルゴリズムとデータ構造』（岩波書店, 1989）（Pascal・C・Lisp。\\[近藤98\\]の参考文献）\n",
        "-   <img src=\"https://ndlsearch.ndl.go.jp/thumbnail/9784764906495.jpg\" width=\"100\"/> <strong>\\[コルメン\\]</strong> コルメンほか『アルゴリズムイントロダクション』（近代科学社, 第4版, 2024）（擬似コード。<a href=\"https://mitpress.mit.edu/9780262046305/introduction-to-algorithms/\">サポートサイト</a>にPythonのコード） CLRSと略されるが，この講義ではコルメンということもある。多くのアルゴリズムの教科書の参考文献になっている。\n",
        "-   <strong>\\[クヌース\\]</strong> クヌース『The Art of Computer Programming』（KADOKAWA）（擬似コード）　Knuth（1938-）による教科書。全7巻（12章）の予定で，第4巻（4A，4B，4C）の4Bまで刊行されている。TAOCPと略されるが（[Oは大文字](https://www-cs-faculty.stanford.edu/~knuth/taocp.html)），この講義ではクヌースということもある。ほぼすべてのアルゴリズムの教科書の参考文献になっている。\n",
        "\n",
        "<img src=\"https://images-fe.ssl-images-amazon.com/images/P/4048694022.09.LZZZZZZZ\" width=\"100\"/>\n",
        "<img src=\"https://images-fe.ssl-images-amazon.com/images/P/4756147127.09.LZZZZZZZ\" width=\"100\"/>\n",
        "<img src=\"https://images-fe.ssl-images-amazon.com/images/P/4048694162.09.LZZZZZZZ\" width=\"100\"/>\n",
        "<img src=\"https://images-fe.ssl-images-amazon.com/images/P/4048694316.09.LZZZZZZZ\" width=\"100\"/>\n",
        "<img src=\"https://images-fe.ssl-images-amazon.com/images/P/4048930559.09.LZZZZZZZ\" width=\"100\"/>\n",
        "<img src=\"https://images-fe.ssl-images-amazon.com/images/P/4048931148.09.LZZZZZZZ\" width=\"100\"/>\n",
        "\n",
        "> 私の本のどの5ページを取っても誰かの一生涯分の研究になっているということです。（Peter Seibel『Coders at Work』の第15章「ドナルド・クヌース」）\n",
        "\n",
        "<img src=\"https://ndlsearch.ndl.go.jp/thumbnail/9784274068478.jpg\" width=\"100\"/>"
      ],
      "metadata": {
        "id": "lZbtC4L1wuDD"
      },
      "id": "lZbtC4L1wuDD"
    },
    {
      "cell_type": "markdown",
      "source": [
        "#### 競技プログラミング特化"
      ],
      "metadata": {
        "id": "g6xgRvCYwuDD"
      },
      "id": "g6xgRvCYwuDD"
    },
    {
      "cell_type": "markdown",
      "source": [
        "\n",
        "-   <img src=\"https://ndlsearch.ndl.go.jp/thumbnail/9784839977504.jpg\" width=\"100\"/> <strong>\\[米田22\\]</strong> 米田優峻『競技プログラミングの鉄則』（マイナビ出版, 2022）（<strong><a href=\"https://atcoder.jp/contests/tessoku-book\">オンラインジャッジ</a></strong>，<a href=\"https://github.com/E869120/kyopro-tessoku\">サポートサイト</a>，C++・Python・Java）\n",
        "-   <img src=\"https://ndlsearch.ndl.go.jp/thumbnail/9784839972776.jpg\" width=\"100\"/> <strong>\\[岩下21\\]</strong> 岩下真也ほか『アルゴリズム実技検定公式テキスト　エントリー～中級編』（マイナビ出版, 2021）（<strong>オンラインジャッジ</strong>，<a href=\"https://github.com/tsutaj/pastbook-2-source-code?tab=readme-ov-file\">サポートサイト</a>，Python）"
      ],
      "metadata": {
        "id": "OD5mJHrZwuDD"
      },
      "id": "OD5mJHrZwuDD"
    },
    {
      "cell_type": "markdown",
      "source": [
        "#### その他"
      ],
      "metadata": {
        "id": "oWQg04N0wuDD"
      },
      "id": "oWQg04N0wuDD"
    },
    {
      "cell_type": "markdown",
      "source": [
        "\n",
        "-   <img src=\"https://ndlsearch.ndl.go.jp/thumbnail/9784023323421.jpg\" width=\"100\"/> <strong>\\[井上24\\]</strong> 井上真偽『引きこもり姉ちゃんのアルゴリズム推理』（朝日新聞出版, 2024）\n",
        "-   <img src=\"https://images-fe.ssl-images-amazon.com/images/P/4774196908.09.LZZZZZZZ\" width=\"100\"/> <strong>\\[奥村18\\]</strong> 奥村晴彦『C言語による標準アルゴリズム事典』（技術評論社, 改訂新版, 2018）（C言語）\n",
        "-   <img src=\"https://ndlsearch.ndl.go.jp/thumbnail/9784621309032.jpg\" width=\"100\"/><img src=\"https://ndlsearch.ndl.go.jp/thumbnail/9784621309049.jpg\" width=\"100\"/> <strong>\\[Skiena24\\]</strong> Skiena, S. Steven『アルゴリズム設計マニュアル　上・下』（丸善出版, 2024）（C言語）[サポートサイト](https://www.algorist.com/)\n",
        "-   <img src=\"https://images-fe.ssl-images-amazon.com/images/P/4894712369.09.LZZZZZZZ\" width=\"100\"/> <strong>\\[ベントリー00\\]</strong> ベントリー『珠玉のプログラミング』（桐原書店, 2000）（丸善出版, 2014）（C++）"
      ],
      "metadata": {
        "id": "nQ5ebOU6wuDE"
      },
      "id": "nQ5ebOU6wuDE"
    },
    {
      "cell_type": "markdown",
      "source": [
        "## プログラムの実行"
      ],
      "metadata": {
        "id": "4MKEo4u7wuDE"
      },
      "id": "4MKEo4u7wuDE"
    },
    {
      "cell_type": "markdown",
      "source": [
        "\n",
        "通常，プログラムで使うデータは，プログラム中には書かずに，実行時に入力する。\n",
        "\n",
        "簡単な例として，入力された整数を3倍した結果を出力するプログラムを作って実行する。**入力されるのは文字列だから`int()`で整数に変換する。**"
      ],
      "metadata": {
        "id": "A2M_ylhcwuDE"
      },
      "id": "A2M_ylhcwuDE"
    },
    {
      "cell_type": "code",
      "execution_count": null,
      "metadata": {
        "id": "shMqBbNkwuDE"
      },
      "outputs": [],
      "source": [
        "a = int(input())\n",
        "print(a * 3)"
      ],
      "id": "shMqBbNkwuDE"
    },
    {
      "cell_type": "markdown",
      "source": [
        "Shift+Enterで実行すると入力用のプロンプトが現れるから，そこに整数を入力すると，その3倍が出力される。\n",
        "\n",
        "しかし，この方法は，入力が1回だけの場合にはよいが，何度も入力する場合には面倒である。この問題を解決する方法を二つ紹介する。\n",
        "\n",
        "-   AtCodeerのコードテスト\n",
        "-   Google Colab"
      ],
      "metadata": {
        "id": "eBKHvI3AwuDF"
      },
      "id": "eBKHvI3AwuDF"
    },
    {
      "cell_type": "markdown",
      "source": [
        "### AtCoderのコードテスト"
      ],
      "metadata": {
        "id": "ted1mEIzwuDG"
      },
      "id": "ted1mEIzwuDG"
    },
    {
      "cell_type": "markdown",
      "source": [
        "\n",
        "第1回の講義では試さなくてもよい（AtCoderのアカウントが必要）。\n",
        "\n",
        "[AtCodeerのコードテスト](https://atcoder.jp/contests/APG4bPython/custom_test)は，ブラウザ上でコードとデータを入力するだけで，そのコードにデータを入力して実行できる環境である。手軽だが，入力データが複数あるときは使いにくい。\n",
        "\n",
        "使い方\n",
        "\n",
        "1.  **言語**はPython (CPython 3.XX)，または，Python (PyPy 3.XX)を選ぶ。\n",
        "2.  **ソースコード**にコードを入力する。\n",
        "3.  **標準入力**に入力データを入力する。\n",
        "4.  **実行ボタン**を押す。\n",
        "\n",
        "♠Pythonの標準の実装（CPython）の代わりにPyPyを使うと速くなることがある。ただし，ライブラリが対応しない場合もあるから，この講義ではあまり使わない。"
      ],
      "metadata": {
        "id": "Ueazp0c4wuDG"
      },
      "id": "Ueazp0c4wuDG"
    },
    {
      "cell_type": "markdown",
      "source": [
        "### Google Colab"
      ],
      "metadata": {
        "id": "MX8bKXyOwuDG"
      },
      "id": "MX8bKXyOwuDG"
    },
    {
      "cell_type": "markdown",
      "source": [
        "\n",
        "入力データをテキストファイルに書いておいて，実行時にそのファイルのデータを入力する。\n",
        "\n",
        "まず，上のPythonのコードをファイルcalc.pyに保存する。"
      ],
      "metadata": {
        "id": "LYuDUQT6wuDG"
      },
      "id": "LYuDUQT6wuDG"
    },
    {
      "cell_type": "code",
      "execution_count": null,
      "metadata": {
        "id": "v_QRM756wuDG"
      },
      "outputs": [],
      "source": [
        "%%writefile calc.py\n",
        "a = int(input())\n",
        "print(a * 3)"
      ],
      "id": "v_QRM756wuDG"
    },
    {
      "cell_type": "markdown",
      "source": [
        "次に，入力データをinput.datに保存する。"
      ],
      "metadata": {
        "id": "eEXpIyLewuDH"
      },
      "id": "eEXpIyLewuDH"
    },
    {
      "cell_type": "code",
      "execution_count": null,
      "metadata": {
        "id": "5Lpdl9xYwuDH"
      },
      "outputs": [],
      "source": [
        "%%writefile input.dat\n",
        "100"
      ],
      "id": "5Lpdl9xYwuDH"
    },
    {
      "cell_type": "markdown",
      "source": [
        "calc.pyのコードにinput.datのデータを与えて実行する。"
      ],
      "metadata": {
        "id": "dp6rJugPwuDI"
      },
      "id": "dp6rJugPwuDI"
    },
    {
      "cell_type": "code",
      "execution_count": null,
      "metadata": {
        "id": "3pgfd1CywuDI"
      },
      "outputs": [],
      "source": [
        "!python3 calc.py < input.dat"
      ],
      "id": "3pgfd1CywuDI"
    },
    {
      "cell_type": "markdown",
      "source": [
        "♠PyPyを使う場合は次のとおり。事前に「`!apt-get install -y pypy3`」としてインストールしておく必要がある。"
      ],
      "metadata": {
        "id": "BSat1SglwuDJ"
      },
      "id": "BSat1SglwuDJ"
    },
    {
      "cell_type": "code",
      "execution_count": null,
      "metadata": {
        "id": "rJPMhZeIwuDJ"
      },
      "outputs": [],
      "source": [
        "!pypy3 calc.py < input.dat"
      ],
      "id": "rJPMhZeIwuDJ"
    },
    {
      "cell_type": "markdown",
      "source": [
        "## 頻出パターン"
      ],
      "metadata": {
        "id": "7Ro2msUtwuDJ"
      },
      "id": "7Ro2msUtwuDJ"
    },
    {
      "cell_type": "markdown",
      "source": [],
      "metadata": {
        "id": "9dX5UD_7wuDJ"
      },
      "id": "9dX5UD_7wuDJ"
    },
    {
      "cell_type": "markdown",
      "source": [
        "### Google Colab"
      ],
      "metadata": {
        "id": "afKg8omIwuDJ"
      },
      "id": "afKg8omIwuDJ"
    },
    {
      "cell_type": "markdown",
      "source": [
        "\n",
        "シェルコマンド（先頭に「`!`」）"
      ],
      "metadata": {
        "id": "KLW2I387wuDJ"
      },
      "id": "KLW2I387wuDJ"
    },
    {
      "cell_type": "code",
      "execution_count": null,
      "metadata": {
        "id": "bJy4FRrgwuDJ"
      },
      "outputs": [],
      "source": [
        "!ls"
      ],
      "id": "bJy4FRrgwuDJ"
    },
    {
      "cell_type": "markdown",
      "source": [
        "セルの実行時間を計る。"
      ],
      "metadata": {
        "id": "tQnWf2L2wuDK"
      },
      "id": "tQnWf2L2wuDK"
    },
    {
      "cell_type": "code",
      "execution_count": null,
      "metadata": {
        "id": "FU7_rllZwuDK"
      },
      "outputs": [],
      "source": [
        "%%time\n",
        "# ここにコードを書く。"
      ],
      "id": "FU7_rllZwuDK"
    },
    {
      "cell_type": "markdown",
      "source": [
        "♠[ローカルランタイム](https://research.google.com/colaboratory/local-runtimes.html?hl=ja)を使うには，自分のPCで次を実行する。（実行時間の計測が安定しない場合や，接続が切れるのが嫌な場合に使う。）\n",
        "\n",
        "    docker run --rm -p 127.0.0.1:9000:8080 asia-docker.pkg.dev/colab-images/public/runtime"
      ],
      "metadata": {
        "id": "Ez_2MtwAwuDK"
      },
      "id": "Ez_2MtwAwuDK"
    },
    {
      "cell_type": "markdown",
      "source": [
        "### Python"
      ],
      "metadata": {
        "id": "6tCtZNy2wuDK"
      },
      "id": "6tCtZNy2wuDK"
    },
    {
      "cell_type": "markdown",
      "source": [
        "\n",
        "文字列を空白で分割する。"
      ],
      "metadata": {
        "id": "z2q9VlC_wuDK"
      },
      "id": "z2q9VlC_wuDK"
    },
    {
      "cell_type": "code",
      "execution_count": null,
      "metadata": {
        "id": "AWmWe1EHwuDK"
      },
      "outputs": [],
      "source": [
        "print(\"30 10 40\".split())"
      ],
      "id": "AWmWe1EHwuDK"
    },
    {
      "cell_type": "markdown",
      "source": [
        "数字列を整数に変換する。"
      ],
      "metadata": {
        "id": "5JMXF5AewuDK"
      },
      "id": "5JMXF5AewuDK"
    },
    {
      "cell_type": "code",
      "execution_count": null,
      "metadata": {
        "id": "UgqLCD6fwuDL"
      },
      "outputs": [],
      "source": [
        "print(int(\"123\"))"
      ],
      "id": "UgqLCD6fwuDL"
    },
    {
      "cell_type": "markdown",
      "source": [
        "数字列のリストを整数のリストに変換する。"
      ],
      "metadata": {
        "id": "ZpX-EKW8wuDL"
      },
      "id": "ZpX-EKW8wuDL"
    },
    {
      "cell_type": "code",
      "execution_count": null,
      "metadata": {
        "id": "Ixlfkh5LwuDL"
      },
      "outputs": [],
      "source": [
        "print(list(map(int, \"30 10 40\".split())))"
      ],
      "id": "Ixlfkh5LwuDL"
    },
    {
      "cell_type": "markdown",
      "source": [
        "二つの変数の値を交換する。"
      ],
      "metadata": {
        "id": "oQ8kJ71gwuDL"
      },
      "id": "oQ8kJ71gwuDL"
    },
    {
      "cell_type": "code",
      "execution_count": null,
      "metadata": {
        "id": "J8K7-ZUwwuDL"
      },
      "outputs": [],
      "source": [
        "a, b = 3, 4\n",
        "a, b = b, a\n",
        "print(a, b)"
      ],
      "id": "J8K7-ZUwwuDL"
    },
    {
      "cell_type": "markdown",
      "source": [
        "2～3個の整数の入力を，別々の変数に格納する。"
      ],
      "metadata": {
        "id": "k7wsAqIJwuDL"
      },
      "id": "k7wsAqIJwuDL"
    },
    {
      "cell_type": "code",
      "execution_count": null,
      "metadata": {
        "id": "gjzBmBlkwuDL"
      },
      "outputs": [],
      "source": [
        "a, b = map(int, input().split())\n",
        "print(a, b)"
      ],
      "id": "gjzBmBlkwuDL"
    },
    {
      "cell_type": "code",
      "execution_count": null,
      "metadata": {
        "id": "_k33WWWewuDL"
      },
      "outputs": [],
      "source": [
        "a, b, c = map(int, input().split())\n",
        "print(a, b, c)"
      ],
      "id": "_k33WWWewuDL"
    },
    {
      "cell_type": "markdown",
      "source": [
        "スペース区切りのn個の整数の入力を，リストに格納する。"
      ],
      "metadata": {
        "id": "8cJ7m9B2wuDL"
      },
      "id": "8cJ7m9B2wuDL"
    },
    {
      "cell_type": "code",
      "execution_count": null,
      "metadata": {
        "id": "8rgRg2YywuDL"
      },
      "outputs": [],
      "source": [
        "a = list(map(int, input().split()))\n",
        "print(a)"
      ],
      "id": "8rgRg2YywuDL"
    },
    {
      "cell_type": "markdown",
      "source": [
        "n行でn個の入力を，リストに格納する。"
      ],
      "metadata": {
        "id": "XIcV1EFNwuDL"
      },
      "id": "XIcV1EFNwuDL"
    },
    {
      "cell_type": "code",
      "execution_count": null,
      "metadata": {
        "id": "2XuHtTGSwuDM"
      },
      "outputs": [],
      "source": [
        "import sys\n",
        "a = list(map(int, sys.stdin.read().split()))\n",
        "print(a)"
      ],
      "id": "2XuHtTGSwuDM"
    },
    {
      "cell_type": "markdown",
      "source": [
        "上より遅いが，次のコードの方がわかりやすいかもしれない。"
      ],
      "metadata": {
        "id": "7Jjq8eTIwuDM"
      },
      "id": "7Jjq8eTIwuDM"
    },
    {
      "cell_type": "code",
      "execution_count": null,
      "metadata": {
        "id": "kYx4PWhqwuDM"
      },
      "outputs": [],
      "source": [
        "a = [int(input()) for _ in range(n)]\n",
        "print(a)"
      ],
      "id": "kYx4PWhqwuDM"
    },
    {
      "cell_type": "markdown",
      "source": [
        "2～3個の変数の値を，スペース区切りで出力する。"
      ],
      "metadata": {
        "id": "v1uEZx_2wuDM"
      },
      "id": "v1uEZx_2wuDM"
    },
    {
      "cell_type": "code",
      "execution_count": null,
      "metadata": {
        "id": "eNvdGGM3wuDM"
      },
      "outputs": [],
      "source": [
        "a, b = 3, 4\n",
        "print(a, b)"
      ],
      "id": "eNvdGGM3wuDM"
    },
    {
      "cell_type": "markdown",
      "source": [
        "リストの要素の値を，スペース区切りで出力する。"
      ],
      "metadata": {
        "id": "P7JuSLEywuDM"
      },
      "id": "P7JuSLEywuDM"
    },
    {
      "cell_type": "code",
      "execution_count": null,
      "metadata": {
        "id": "0qFNbBcLwuDM"
      },
      "outputs": [],
      "source": [
        "a = [1, 2, 3]\n",
        "print(*a)\n",
        "print(\" \".join(map(str, a))) # スペース区切り以外にも対応しやすい方法"
      ],
      "id": "0qFNbBcLwuDM"
    },
    {
      "cell_type": "markdown",
      "source": [
        "## 宿題"
      ],
      "metadata": {
        "id": "7k6g4uXEwuDM"
      },
      "id": "7k6g4uXEwuDM"
    },
    {
      "cell_type": "markdown",
      "source": [
        "\n",
        "1.  次のウェブサイトのアカウントを作る（すでにある場合はそれを使ってよい）。\n",
        "    -   https://onlinejudge.u-aizu.ac.jp\n",
        "    -   https://atcoder.jp\n",
        "2.  以下の問題をAC（Accepted）にする。Pythonを使うこと。\n",
        "    -   [ITP1\\_1\\_A](https://onlinejudge.u-aizu.ac.jp/courses/lesson/2/ITP1/1/ITP1_1_A) (Hello World)\n",
        "    -   [APG4bPython A](https://atcoder.jp/contests/APG4bPython/tasks/APG4bPython_a) (Hello World)\n",
        "    -   [ITP1\\_3\\_A](https://onlinejudge.u-aizu.ac.jp/courses/lesson/2/ITP1/3/ITP1_3_A) (Print Many Hello World)\n",
        "    -   [ITP1\\_1\\_B](https://onlinejudge.u-aizu.ac.jp/courses/lesson/2/ITP1/1/ITP1_1_B) (X Cubic)\n",
        "    -   [APG4bPython EX5](https://atcoder.jp/contests/APG4bPython/tasks/APG4bPython_cr) (A+B)\n",
        "    -   [ITP1\\_2\\_A](https://onlinejudge.u-aizu.ac.jp/courses/lesson/2/ITP1/2/ITP1_2_A) (Small, Large, or Equal)\n",
        "    -   [APG4bPython EX8](https://atcoder.jp/contests/APG4bPython/tasks/APG4bPython_co) (n A+B)\n",
        "\n",
        "以上"
      ],
      "metadata": {
        "id": "QLBDcDOCwuDM"
      },
      "id": "QLBDcDOCwuDM"
    }
  ],
  "nbformat": 4,
  "nbformat_minor": 5,
  "metadata": {
    "colab": {
      "provenance": []
    },
    "language_info": {
      "name": "python"
    },
    "kernelspec": {
      "name": "python3",
      "display_name": "Python 3"
    }
  }
}