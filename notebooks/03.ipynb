{
  "cells": [
    {
      "cell_type": "markdown",
      "source": [
        "# 3 初等的整列"
      ],
      "metadata": {
        "id": "wKKae8Wrods1"
      },
      "id": "wKKae8Wrods1"
    },
    {
      "cell_type": "markdown",
      "source": [
        "\n",
        "-   [ITP1_2_C](https://onlinejudge.u-aizu.ac.jp/courses/lesson/2/ITP1/2/ITP1_2_C) (Sorting Three Numbers)\n",
        "\n",
        "下のコードを見る前に，自分で考えてみる。"
      ],
      "metadata": {
        "id": "Kih6LWVEodtI"
      },
      "id": "Kih6LWVEodtI"
    },
    {
      "cell_type": "code",
      "execution_count": 1,
      "metadata": {
        "id": "qjCMdtHKodtK",
        "outputId": "db12460b-9cde-4698-c011-1474c3cfc541",
        "colab": {
          "base_uri": "https://localhost:8080/"
        }
      },
      "outputs": [
        {
          "output_type": "stream",
          "name": "stdout",
          "text": [
            "3 7 4\n",
            "3 4 7\n"
          ]
        }
      ],
      "source": [
        "a, b, c = map(int, input().split())\n",
        "if b < a: a, b = b, a\n",
        "if c < a: a, c = c, a\n",
        "if c < b: b, c = c, b\n",
        "print(a, b, c)"
      ],
      "id": "qjCMdtHKodtK"
    },
    {
      "cell_type": "code",
      "execution_count": 2,
      "metadata": {
        "id": "45lPkGZzodtN",
        "outputId": "08eceb97-d6d1-4b44-d26b-0754f86e8728",
        "colab": {
          "base_uri": "https://localhost:8080/"
        }
      },
      "outputs": [
        {
          "output_type": "stream",
          "name": "stdout",
          "text": [
            "3 1 7\n",
            "1 3 7\n"
          ]
        }
      ],
      "source": [
        "a, b, c = map(int, input().split())\n",
        "if b < a: a, b = b, a\n",
        "if c < b:\n",
        "  if c < a: a, b, c = c, a, b\n",
        "  else: b, c = c, b\n",
        "print(a, b, c)"
      ],
      "id": "45lPkGZzodtN"
    },
    {
      "cell_type": "code",
      "execution_count": null,
      "metadata": {
        "id": "zzqcPmmbodtP"
      },
      "outputs": [],
      "source": [
        "a, b, c = map(int, input().split())\n",
        "if c < b: b, c = c, b\n",
        "if b < a: a, b = b, a\n",
        "if c < b: b, c = c, b\n",
        "print(a, b, c)"
      ],
      "id": "zzqcPmmbodtP"
    },
    {
      "cell_type": "code",
      "execution_count": null,
      "metadata": {
        "id": "8Qz6nzEGodtQ"
      },
      "outputs": [],
      "source": [
        "A = list(map(int, input().split()))\n",
        "minj = 0\n",
        "if A[1] < A[minj]: minj = 1\n",
        "if A[2] < A[minj]: minj = 2\n",
        "A[0], A[minj] = A[minj], A[0]\n",
        "minj = 1\n",
        "if A[2] < A[minj]: minj = 2\n",
        "A[1], A[minj] = A[minj], A[1]\n",
        "print(*A)"
      ],
      "id": "8Qz6nzEGodtQ"
    },
    {
      "cell_type": "markdown",
      "source": [
        "♠39文字以内のコードで解決できるか？"
      ],
      "metadata": {
        "id": "YQr2XYkAodtR"
      },
      "id": "YQr2XYkAodtR"
    },
    {
      "cell_type": "code",
      "source": [
        "a,b,c=sorted(map(int,input().split()));print(a,b,c)\n"
      ],
      "metadata": {
        "id": "8RrQPOoWY8Eu",
        "outputId": "b99066eb-73c8-4996-a62c-6dff204a3dd3",
        "colab": {
          "base_uri": "https://localhost:8080/"
        }
      },
      "id": "8RrQPOoWY8Eu",
      "execution_count": 3,
      "outputs": [
        {
          "output_type": "stream",
          "name": "stdout",
          "text": [
            "9 4 7\n",
            "4 7 9\n"
          ]
        }
      ]
    },
    {
      "cell_type": "markdown",
      "source": [
        "## 3.1 ソート：問題にチャレンジする前に"
      ],
      "metadata": {
        "id": "UP9OI9wZodtT"
      },
      "id": "UP9OI9wZodtT"
    },
    {
      "cell_type": "markdown",
      "source": [
        "\n",
        "ソートについて知っておくべきこと\n",
        "\n",
        "-   ライブラリの使い方（Pythonでは，メソッド`.sort`と関数`sorted`）\n",
        "-   有名なアルゴリズム（簡単なものでは，挿入ソート，バブルソート，選択ソート，シェルソート。第7章に続く）\n",
        "-   有名なアルゴリズムの計算量（最悪の場合，挿入ソート，バブルソート，選択ソートは $O(n^2)$，シェルソートは $O(n^{1.25})$ 程度。第7章に続く）\n",
        "-   安定性（同じ値のデータの順序を保つかどうか）\n",
        "\n",
        "Pythonでのソートの基本"
      ],
      "metadata": {
        "id": "df8QISjFodtV"
      },
      "id": "df8QISjFodtV"
    },
    {
      "cell_type": "code",
      "execution_count": 4,
      "metadata": {
        "id": "arczYyRzodtW",
        "outputId": "b60c5355-0d60-468f-aedb-c939488d3e65",
        "colab": {
          "base_uri": "https://localhost:8080/"
        }
      },
      "outputs": [
        {
          "output_type": "stream",
          "name": "stdout",
          "text": [
            "[1, 1, 2, 3, 3, 4, 5, 5, 6, 9]\n"
          ]
        }
      ],
      "source": [
        "A = [3, 1, 4, 1, 5, 9, 2, 6, 5, 3]\n",
        "A.sort()\n",
        "print(A) # A自体が並べ替えられる"
      ],
      "id": "arczYyRzodtW"
    },
    {
      "cell_type": "code",
      "execution_count": null,
      "metadata": {
        "id": "2aKXnfIAodtX"
      },
      "outputs": [],
      "source": [
        "A = [3, 1, 4, 1, 5, 9, 2, 6, 5, 3]\n",
        "B = sorted(A)\n",
        "print(B)\n",
        "print(A) # Aはそのまま"
      ],
      "id": "2aKXnfIAodtX"
    },
    {
      "cell_type": "markdown",
      "source": [
        "いずれにしても，ソートは簡単に実現できる。ではなぜソートについて学ぶのか。\n",
        "\n",
        "> プログラミングのほぼ**すべて**の重要な側面がソートや探索の文脈中のどこかに現れているはずだ。（TAOCP Vol. 3「序」）"
      ],
      "metadata": {
        "id": "1kkjnNQ_odtY"
      },
      "id": "1kkjnNQ_odtY"
    },
    {
      "cell_type": "markdown",
      "source": [
        "### 安定性"
      ],
      "metadata": {
        "id": "8thVosGNodtY"
      },
      "id": "8thVosGNodtY"
    },
    {
      "cell_type": "markdown",
      "source": [
        "\n",
        "安定なソート。教科書p.52のデータを一部変えて試す。♠表形式のデータは**データフレーム**という形式で扱うことが多いが，ここでは多次元リストで表現する（後期「データサイエンス演習」）。"
      ],
      "metadata": {
        "id": "_mHdRDUcodtZ"
      },
      "id": "_mHdRDUcodtZ"
    },
    {
      "cell_type": "code",
      "execution_count": 5,
      "metadata": {
        "id": "Fix_AxDtodtZ",
        "outputId": "637dea2b-64cb-41cc-d227-ddee291a01f9",
        "colab": {
          "base_uri": "https://localhost:8080/"
        }
      },
      "outputs": [
        {
          "output_type": "execute_result",
          "data": {
            "text/plain": [
              "[['player3', 95, 60],\n",
              " ['player1', 70, 80],\n",
              " ['player2', 90, 80],\n",
              " ['player4', 80, 95]]"
            ]
          },
          "metadata": {},
          "execution_count": 5
        }
      ],
      "source": [
        "data = [[\"player1\", 70, 80],\n",
        "        [\"player2\", 90, 80],\n",
        "        [\"player3\", 95, 60],\n",
        "        [\"player4\", 80, 95]]\n",
        "\n",
        "sorted(data, key=lambda x: x[2])"
      ],
      "id": "Fix_AxDtodtZ"
    },
    {
      "cell_type": "markdown",
      "source": [
        "安定でないソート（3.4節 選択ソート）\n",
        "\n",
        "> データをコピーしてから，第3要素で選択ソートでソートする。<br>\n",
        "> （ここにdataを貼り付ける。）\n",
        "\n",
        "生成されるコードを修正した例を示す。"
      ],
      "metadata": {
        "id": "DjQCYcwgodtb"
      },
      "id": "DjQCYcwgodtb"
    },
    {
      "cell_type": "code",
      "execution_count": 6,
      "metadata": {
        "id": "1mWVdEVBodtb",
        "outputId": "7bbca200-bac0-48fa-c3a2-814bcd1b9c30",
        "colab": {
          "base_uri": "https://localhost:8080/"
        }
      },
      "outputs": [
        {
          "output_type": "stream",
          "name": "stdout",
          "text": [
            "Writing unstable_sort.py\n"
          ]
        }
      ],
      "source": [
        "%%writefile unstable_sort.py\n",
        "data = [[\"player1\", 70, 80],\n",
        "        [\"player2\", 90, 80],\n",
        "        [\"player3\", 95, 60],\n",
        "        [\"player4\", 80, 95]]\n",
        "\n",
        "import copy\n",
        "\n",
        "# データをコピー\n",
        "sorted_data = copy.deepcopy(data)\n",
        "\n",
        "# 選択ソートの実装（第3要素でソート）\n",
        "n = len(sorted_data)\n",
        "for i in range(n - 1):\n",
        "    min_index = i\n",
        "    for j in range(i + 1, n):\n",
        "        if sorted_data[j][2] < sorted_data[min_index][2]:  # 第3要素（インデックス2）で比較\n",
        "            min_index = j\n",
        "    # 最小値の要素を交換\n",
        "    sorted_data[i], sorted_data[min_index] = sorted_data[min_index], sorted_data[i]\n",
        "\n",
        "sorted_data"
      ],
      "id": "1mWVdEVBodtb"
    },
    {
      "cell_type": "markdown",
      "source": [
        "### in-place性"
      ],
      "metadata": {
        "id": "7-slb2SAodtc"
      },
      "id": "7-slb2SAodtc"
    },
    {
      "cell_type": "markdown",
      "source": [
        "\n",
        "元のデータを書き替えるものをin-placeという。\n",
        "\n",
        "-   メソッド`sort`はin-placeである。元のリストを並べ替える。\n",
        "-   関数`sorted`：はin-placeではない。元のリストはそのままで，新しいリストを作る。"
      ],
      "metadata": {
        "id": "IUaLdqu6odtc"
      },
      "id": "IUaLdqu6odtc"
    },
    {
      "cell_type": "code",
      "execution_count": 7,
      "metadata": {
        "id": "C0FiSoZOodtd",
        "outputId": "3e1f4da7-60c9-47fc-d4d1-d507b0e2d0ed",
        "colab": {
          "base_uri": "https://localhost:8080/"
        }
      },
      "outputs": [
        {
          "output_type": "stream",
          "name": "stdout",
          "text": [
            "[1, 1, 2, 3, 3, 4, 5, 5, 6, 9]\n"
          ]
        }
      ],
      "source": [
        "A = [3, 1, 4, 1, 5, 9, 2, 6, 5, 3]\n",
        "A.sort()\n",
        "print(A) # A自体が並べ替えられる"
      ],
      "id": "C0FiSoZOodtd"
    },
    {
      "cell_type": "code",
      "execution_count": 8,
      "metadata": {
        "id": "UXNCPQMUodtg",
        "outputId": "5b55e400-4fe0-4b17-8ac5-350ef952d91e",
        "colab": {
          "base_uri": "https://localhost:8080/"
        }
      },
      "outputs": [
        {
          "output_type": "stream",
          "name": "stdout",
          "text": [
            "[1, 1, 2, 3, 3, 4, 5, 5, 6, 9]\n",
            "[3, 1, 4, 1, 5, 9, 2, 6, 5, 3]\n"
          ]
        }
      ],
      "source": [
        "A = [3, 1, 4, 1, 5, 9, 2, 6, 5, 3]\n",
        "B = sorted(A) # Aを並べ替えて新しいリストBを作る。\n",
        "print(B)\n",
        "print(A) # Aはそのまま"
      ],
      "id": "UXNCPQMUodtg"
    },
    {
      "cell_type": "markdown",
      "source": [
        "## ナイーブなソート"
      ],
      "metadata": {
        "id": "HPsQKyh0odtg"
      },
      "id": "HPsQKyh0odtg"
    },
    {
      "cell_type": "code",
      "execution_count": null,
      "metadata": {
        "id": "WbyiTaWRodth"
      },
      "outputs": [],
      "source": [
        "def simple_sort(A):\n",
        "  n = len(A)\n",
        "  for i in range(n - 1):\n",
        "    for j in range(i + 1, n):\n",
        "      if A[i] > A[j]:\n",
        "        A[i], A[j] = A[j], A[i]"
      ],
      "id": "WbyiTaWRodth"
    },
    {
      "cell_type": "markdown",
      "source": [
        "このアルゴリズムについて，二つの点を考える。\n",
        "\n",
        "-   正当性：アルゴリズムは正しいのか？\n",
        "-   アルゴリズム解析：アルゴリズムは速いのか？"
      ],
      "metadata": {
        "id": "FrpWrVSJodth"
      },
      "id": "FrpWrVSJodth"
    },
    {
      "cell_type": "markdown",
      "source": [
        "### 正当性"
      ],
      "metadata": {
        "id": "JL3vEeegodth"
      },
      "id": "JL3vEeegodth"
    },
    {
      "cell_type": "markdown",
      "source": [
        "\n",
        "アルゴリズムの正しさをどう納得するか。\n",
        "\n",
        "-   テスト（確実ではないが，比較的簡単）\n",
        "-   ♠証明（確実だが，比較的難しい）"
      ],
      "metadata": {
        "id": "g3r7I9ywodti"
      },
      "id": "g3r7I9ywodti"
    },
    {
      "cell_type": "markdown",
      "source": [
        "#### テスト"
      ],
      "metadata": {
        "id": "xTWUPx1modtl"
      },
      "id": "xTWUPx1modtl"
    },
    {
      "cell_type": "markdown",
      "source": [
        "\n",
        "これでソートできることを確認する。"
      ],
      "metadata": {
        "id": "41HecCcSodtl"
      },
      "id": "41HecCcSodtl"
    },
    {
      "cell_type": "code",
      "execution_count": 9,
      "metadata": {
        "id": "9o8Por4Oodtm",
        "outputId": "647f31be-d968-4ea6-d10e-6650ee0b1bbc",
        "colab": {
          "base_uri": "https://localhost:8080/",
          "height": 211
        }
      },
      "outputs": [
        {
          "output_type": "error",
          "ename": "NameError",
          "evalue": "name 'simple_sort' is not defined",
          "traceback": [
            "\u001b[0;31m---------------------------------------------------------------------------\u001b[0m",
            "\u001b[0;31mNameError\u001b[0m                                 Traceback (most recent call last)",
            "\u001b[0;32m<ipython-input-9-1df3acac02c4>\u001b[0m in \u001b[0;36m<cell line: 0>\u001b[0;34m()\u001b[0m\n\u001b[1;32m      1\u001b[0m \u001b[0mA\u001b[0m \u001b[0;34m=\u001b[0m \u001b[0;34m[\u001b[0m\u001b[0;36m10\u001b[0m\u001b[0;34m,\u001b[0m \u001b[0;36m20\u001b[0m\u001b[0;34m,\u001b[0m \u001b[0;36m55\u001b[0m\u001b[0;34m,\u001b[0m \u001b[0;36m4\u001b[0m\u001b[0;34m,\u001b[0m \u001b[0;36m15\u001b[0m\u001b[0;34m,\u001b[0m \u001b[0;36m12\u001b[0m\u001b[0;34m]\u001b[0m\u001b[0;34m\u001b[0m\u001b[0;34m\u001b[0m\u001b[0m\n\u001b[0;32m----> 2\u001b[0;31m \u001b[0msimple_sort\u001b[0m\u001b[0;34m(\u001b[0m\u001b[0mA\u001b[0m\u001b[0;34m)\u001b[0m\u001b[0;34m\u001b[0m\u001b[0;34m\u001b[0m\u001b[0m\n\u001b[0m\u001b[1;32m      3\u001b[0m \u001b[0;34m\u001b[0m\u001b[0m\n\u001b[1;32m      4\u001b[0m \u001b[0;32mfor\u001b[0m \u001b[0mi\u001b[0m \u001b[0;32min\u001b[0m \u001b[0mrange\u001b[0m\u001b[0;34m(\u001b[0m\u001b[0mlen\u001b[0m\u001b[0;34m(\u001b[0m\u001b[0mA\u001b[0m\u001b[0;34m)\u001b[0m \u001b[0;34m-\u001b[0m \u001b[0;36m1\u001b[0m\u001b[0;34m)\u001b[0m\u001b[0;34m:\u001b[0m\u001b[0;34m\u001b[0m\u001b[0;34m\u001b[0m\u001b[0m\n\u001b[1;32m      5\u001b[0m   \u001b[0;32mif\u001b[0m \u001b[0mA\u001b[0m\u001b[0;34m[\u001b[0m\u001b[0mi\u001b[0m\u001b[0;34m]\u001b[0m \u001b[0;34m>\u001b[0m \u001b[0mA\u001b[0m\u001b[0;34m[\u001b[0m\u001b[0mi\u001b[0m \u001b[0;34m+\u001b[0m \u001b[0;36m1\u001b[0m\u001b[0;34m]\u001b[0m\u001b[0;34m:\u001b[0m\u001b[0;34m\u001b[0m\u001b[0;34m\u001b[0m\u001b[0m\n",
            "\u001b[0;31mNameError\u001b[0m: name 'simple_sort' is not defined"
          ]
        }
      ],
      "source": [
        "A = [10, 20, 55, 4, 15, 12]\n",
        "simple_sort(A)\n",
        "\n",
        "for i in range(len(A) - 1):\n",
        "  if A[i] > A[i + 1]:\n",
        "    print(\"Error\")"
      ],
      "id": "9o8Por4Oodtm"
    },
    {
      "cell_type": "markdown",
      "source": [
        "テストにパスしたのは，たまたま正しい結果が出るデータを入力したからかもしれないことに注意。"
      ],
      "metadata": {
        "id": "49o3aTT3odtm"
      },
      "id": "49o3aTT3odtm"
    },
    {
      "cell_type": "markdown",
      "source": [
        "#### ♠証明"
      ],
      "metadata": {
        "id": "Xfg6oMapodtm"
      },
      "id": "Xfg6oMapodtm"
    },
    {
      "cell_type": "markdown",
      "source": [
        "\n",
        "証明方法：ループ不変条件（ループの前後で常に成り立つ条件）を数学的帰納法で証明する。\n",
        "\n",
        "`simple_sort`のループ不変条件：外側の $i$ のループの開始時点で，$A[0]<\\ldots<A[i-1]$，かつ，$A[i-1], \\ldots, A[n-1]$ では $A[i-1]$ が最小である。\n",
        "\n",
        "この条件が常に成立することを数学的帰納法で証明すればよい。\n",
        "\n",
        "AIが証明してくれるかもしれないが，それっぽいでたらめを出してくる危険もある。\n",
        "\n",
        "> このソートの正当性をループ不変条件を設定して証明して<br/>\n",
        "> （ここに関数を貼り付ける。）"
      ],
      "metadata": {
        "id": "RdHeDy4todtm"
      },
      "id": "RdHeDy4todtm"
    },
    {
      "cell_type": "markdown",
      "source": [
        "### アルゴリズム解析"
      ],
      "metadata": {
        "id": "bAhnC_myodtq"
      },
      "id": "bAhnC_myodtq"
    },
    {
      "cell_type": "markdown",
      "source": [
        "\n",
        "アルゴリズムの性能をどう調査するか。\n",
        "\n",
        "-   時間計算量\n",
        "-   空間計算量\n",
        "\n",
        "ここでは時間計算量を調べる。\n",
        "\n",
        "| 行  | 命令                      | コスト | RAMモデルでのおおよその実行回数                       |\n",
        "|------------------|------------------|------------------|------------------|\n",
        "| 1   | `n = len(A)`              | $c_1$  | $1$                                                   |\n",
        "| 2   | `for i in range(n-1):`    | $c_2$  | $n-1$                                                 |\n",
        "| 3   | `for j in range(i, n):`   | $c_3$  | $\\displaystyle\\sum_{i=0}^{n-2}(n-i)=\\frac{(n-1)n}{2}$ |\n",
        "| 4   | `if A[i] > A[j]:`         | $c_4$  | $\\displaystyle\\sum_{i=0}^{n-2}(n-i)=\\frac{(n-1)n}{2}$ |\n",
        "| 5   | `A[i], A[j] = A[j], A[i]` | $c_5$  | $\\displaystyle\\sum_{i=0}^{n-2}t_i$                    |\n",
        "\n",
        "最良（実行時間が最短）なのは，対象のデータが昇順にソートされている場合で，5行目は1回も実行されない。よって，実行時間は $c_1+c_2(n-1)+(c_3+c_4)\\frac{(n-1)n}{2}=O(n^2)$ である。\n",
        "\n",
        "最悪（実行時間が最長）なのは，対象のデータが降順にソートされている場合で，$t_i=n-i$ だから，5行目は $\\sum_{i=0}^{n-2}(n-i)=\\frac{(n-1)n}{2}$ 回実行される。よって，実行時間は $c_1+c_2(n-1)+(c_3+c_4+c_5)\\frac{(n-1)n}{2}=O(n^2)$ である。\n",
        "\n",
        "結局，このナイーブなソートの計算量は $O(n^2)$ である（$\\Theta(n^2)$ でもある）。"
      ],
      "metadata": {
        "id": "UoKa6lxfodtt"
      },
      "id": "UoKa6lxfodtt"
    },
    {
      "cell_type": "markdown",
      "source": [
        "## 3.2 挿入ソート"
      ],
      "metadata": {
        "id": "7OUs-CPRodtt"
      },
      "id": "7OUs-CPRodtt"
    },
    {
      "cell_type": "markdown",
      "source": [
        "\n",
        "\n",
        "*   リスト項目\n",
        "*   リスト項目\n",
        "\n",
        "\n",
        "アルゴリズム図鑑（無料版）\n",
        "\n",
        "問題：[ALDS1_1_A](https://onlinejudge.u-aizu.ac.jp/courses/lesson/1/ALDS1/1/ALDS1_1_A) (Insertion Sort)\n",
        "\n",
        "♠「挿入ソートはある程度整列されたデータに対しては高速に動作する特長を持ちます（教科書p.58）」を確かめる。\n",
        "\n",
        "♠正当性：CLRS 2.1節を参照。\n",
        "\n",
        "時間計算量：最良の場合の時間計算量は $O(n)$，最悪の場合の時間計算量は $O(n^2)$ である（参照：教科書p.58，CLRS 2.2節）。"
      ],
      "metadata": {
        "id": "Fbb_PQZYodtu"
      },
      "id": "Fbb_PQZYodtu"
    },
    {
      "cell_type": "markdown",
      "source": [
        "## 3.3 バブルソート"
      ],
      "metadata": {
        "id": "AP168rA2odtu"
      },
      "id": "AP168rA2odtu"
    },
    {
      "cell_type": "markdown",
      "source": [
        "\n",
        "<iframe width=\"560\" height=\"315\" src=\"https://www.youtube.com/embed/k4RRi_ntQc8?si=1FCkVkdsA6ktzjP8&amp;start=34\" title=\"YouTube video player\" frameborder=\"0\" allow=\"accelerometer; autoplay; clipboard-write; encrypted-media; gyroscope; picture-in-picture; web-share\" referrerpolicy=\"strict-origin-when-cross-origin\" allowfullscreen>\n",
        "</iframe>\n",
        "\n",
        "参照：[Obama on sorting 1M integers: Bubble sort the wrong way to go](https://www.righto.com/2012/11/obama-on-sorting-1m-integers-bubble.html)\n",
        "\n",
        "アルゴリズム図鑑（無料版）\n",
        "\n",
        "問題：[ALDS1_2_A](https://onlinejudge.u-aizu.ac.jp/courses/lesson/1/ALDS1/2/ALDS1_2_A) (Bubble Sort)\n",
        "\n",
        "♠`flag`の効果を調べる。\n",
        "\n",
        "♠7.3節で扱うクイックソートとバブルソートの性能を比較してみよう。クイックソートは速いと言うが，データが少ない場合は，あまり変わらない。\n",
        "\n",
        "> Pythonでバブルソートとクイックソートを実装して性能を比較する。「サイズnのランダムなリストのソートを1000回ずつ実行する」のにかかる時間を計る。nは5, 10, 15, …, 50とする。正しくソートできているかどうかを，sorted()を使って確認するようにして。\n",
        "\n",
        "生成されるコードを修正した例を示す。"
      ],
      "metadata": {
        "id": "nGlmpS26odtv"
      },
      "id": "nGlmpS26odtv"
    },
    {
      "cell_type": "code",
      "execution_count": 10,
      "metadata": {
        "id": "Mm9V-v-aodtv",
        "outputId": "3fadf0d4-4a63-4870-c827-9647676b3df9",
        "colab": {
          "base_uri": "https://localhost:8080/",
          "height": 819
        }
      },
      "outputs": [
        {
          "output_type": "stream",
          "name": "stdout",
          "text": [
            "Measuring for n=5...\n",
            "Measuring for n=10...\n",
            "Measuring for n=15...\n",
            "Measuring for n=20...\n",
            "Measuring for n=25...\n",
            "Measuring for n=30...\n",
            "Measuring for n=35...\n",
            "Measuring for n=40...\n",
            "Measuring for n=45...\n",
            "Measuring for n=50...\n",
            "Measuring for n=55...\n",
            "Measuring for n=60...\n",
            "Measuring for n=65...\n",
            "Measuring for n=70...\n",
            "Measuring for n=75...\n",
            "Measuring for n=80...\n",
            "Measuring for n=85...\n",
            "Measuring for n=90...\n",
            "Measuring for n=95...\n",
            "Measuring for n=100...\n"
          ]
        },
        {
          "output_type": "display_data",
          "data": {
            "text/plain": [
              "<Figure size 640x480 with 1 Axes>"
            ],
            "image/png": "[encoded data removed]"
          },
          "metadata": {}
        }
      ],
      "source": [
        "import time\n",
        "import random\n",
        "import matplotlib.pyplot as plt\n",
        "\n",
        "def bubble_sort(arr):\n",
        "    n = len(arr)\n",
        "    flag = True\n",
        "    while flag:\n",
        "        flag = False\n",
        "        for j in range(n-1, 0, -1):\n",
        "            if arr[j] < arr[j-1]:\n",
        "                arr[j], arr[j-1] = arr[j-1], arr[j]\n",
        "                flag = True\n",
        "    return arr\n",
        "\n",
        "def quick_sort(arr):\n",
        "    if len(arr) <= 1:\n",
        "        return arr\n",
        "    pivot = arr[len(arr) // 2]\n",
        "    left = [x for x in arr if x < pivot]\n",
        "    middle = [x for x in arr if x == pivot]\n",
        "    right = [x for x in arr if x > pivot]\n",
        "    return quick_sort(left) + middle + quick_sort(right)\n",
        "\n",
        "def measure_time(sort_func, n, iterations=1000):\n",
        "    total_time = 0\n",
        "    for _ in range(iterations):\n",
        "        arr = [random.randint(0, 1000) for _ in range(n)]\n",
        "        arr_copy = arr.copy()\n",
        "        start_time = time.time()\n",
        "        arr = sort_func(arr)\n",
        "        if arr != sorted(arr_copy):\n",
        "            raise ValueError(\"Sorting failed\")\n",
        "        total_time += time.time() - start_time\n",
        "    return total_time\n",
        "\n",
        "sizes = list(range(5, 101, 5))\n",
        "algorithm1_times = []\n",
        "algorithm2_times = []\n",
        "\n",
        "for n in sizes:\n",
        "    print(f\"Measuring for n={n}...\")\n",
        "    algorithm1_times.append(measure_time(bubble_sort, n))\n",
        "    algorithm2_times.append(measure_time(quick_sort, n))\n",
        "\n",
        "plt.plot(sizes, algorithm1_times, label='algorithm 1')\n",
        "plt.plot(sizes, algorithm2_times, label='algorithm 2')\n",
        "plt.xlabel('List Size (n)')\n",
        "plt.ylabel('Total Time (seconds)')\n",
        "plt.title('Performance Comparison')\n",
        "plt.legend()\n",
        "plt.show()"
      ],
      "id": "Mm9V-v-aodtv"
    },
    {
      "cell_type": "markdown",
      "source": [
        "## 3.4 選択ソート"
      ],
      "metadata": {
        "id": "HdJy89iPodt9"
      },
      "id": "HdJy89iPodt9"
    },
    {
      "cell_type": "markdown",
      "source": [
        "\n",
        "アルゴリズム図鑑（無料版）\n",
        "\n",
        "教科書p.65の擬似コードは次のように修正してよい。\n",
        "\n",
        "    1 selectionSort(A, N) // N個の要素を含む0-オリジンの配列A\n",
        "    2   for i が 0 から N-2 まで\n",
        "    3     minj = i\n",
        "    4     for j が i+1 から N-1 まで\n",
        "    5       if A[j] < A[minj]\n",
        "    6         minj = j\n",
        "    7     A[i] と A[minj] を交換\n",
        "\n",
        "問題：[ALDS1_2_B](https://onlinejudge.u-aizu.ac.jp/courses/lesson/1/ALDS1/2/ALDS1_2_B) (Selection Sort)\n",
        "\n",
        "♠「flagを用いない単純なバブルソートと選択ソートは，データに依存しない比較演算を行いますが，挿入ソートはデータに依存する挙動をし，高速になる場合があります。（教科書p.68）」\n",
        "\n",
        "正当性と時間計算量：時間計算量は$O(n^2)$（$\\Theta(n^2)$ でもある）。CLRSの練習問題 2.2-2を参照。"
      ],
      "metadata": {
        "id": "XmgQ9idrodt_"
      },
      "id": "XmgQ9idrodt_"
    },
    {
      "cell_type": "markdown",
      "source": [
        "## ♠3.5 安定なソート"
      ],
      "metadata": {
        "id": "wmp51JHGoduA"
      },
      "id": "wmp51JHGoduA"
    },
    {
      "cell_type": "markdown",
      "source": [
        "\n",
        "問題：[ALDS1_2_C](https://onlinejudge.u-aizu.ac.jp/courses/lesson/1/ALDS1/2/ALDS1_2_C) (Stable Sort)\n",
        "\n",
        "valueはrankというのが一般的かもしれないが・・・\n",
        "\n",
        "> suitとvalueを持つクラスCardをPythonで作る。インスタンスは長さ2の文字列で初期化する。1文字目がsuit，2文字目を整数に変換した結果がvalueである。例えばCard(“H4”)は，suitがH，valueが4のインスタンスである。"
      ],
      "metadata": {
        "id": "KYMpXHEmoduA"
      },
      "id": "KYMpXHEmoduA"
    },
    {
      "cell_type": "code",
      "execution_count": null,
      "metadata": {
        "id": "XbG_RFAqoduB"
      },
      "outputs": [],
      "source": [
        "%%writefile card.py\n",
        "class Card:\n",
        "    def __init__(self, s):\n",
        "        self.suit = s[0]\n",
        "        self.value = int(s[1])\n",
        "\n",
        "    def __repr__(self):\n",
        "        return self.suit + str(self.value)"
      ],
      "id": "XbG_RFAqoduB"
    },
    {
      "cell_type": "markdown",
      "source": [
        "## ♠3.6 シェルソート"
      ],
      "metadata": {
        "id": "uKf2dT5UoduB"
      },
      "id": "uKf2dT5UoduB"
    },
    {
      "cell_type": "markdown",
      "source": [
        "\n",
        "Donald L. Shellが1959年に提案したソートアルゴリズムである。\n",
        "\n",
        "問題：[ALDS1_2_D](https://onlinejudge.u-aizu.ac.jp/courses/lesson/1/ALDS1/2/ALDS1_2_D) (Shell Sort)\n",
        "\n",
        "ヒント：教科書p.77のgを使えばよい。TAOCP 5.2.1項によると，$$g_0=1,\\;g_{i+1}=3g_i+1\\;\\text{とし，}g_{t+1}>N\\;\\text{になったら，}g_{t-1}\\;\\text{で終わりにする。}$$gがnより大きくなってもプログラムは動くが，オンラインジャッジは通らない。\n",
        "\n",
        "前に扱った挿入ソート（教科書p.54）と，ここで使う挿入ソート（同p.74）を比較する。\n",
        "\n",
        "    1 insertionSort(A, N) // N個の要素を含む0-オリジンの配列A\n",
        "    2   for i が 1 から N-1 まで\n",
        "    3     v = A[i]\n",
        "    4     j = i - 1\n",
        "    5     while j >= 0 かつ A[j] > v\n",
        "    6       A[j+1] = A[j]\n",
        "    7       j--\n",
        "    8     A[j+1] = v\n",
        "\n",
        "    1 insertionSort(A, n, g)\n",
        "    2     for i = g to n-1\n",
        "    3         v = A[i]\n",
        "    4         j = i - g\n",
        "    5         while j >= 0 && A[j] > v\n",
        "    6             A[j+g] = A[j]\n",
        "    7             j = j - g\n",
        "    8             cnt++\n",
        "    9         A[j+g] = v\n",
        "\n",
        "**練習**：どのような違いがあるか，まとめてみよう。\n",
        "\n",
        "-   `cnt`で値の交換回数を数えている。♠教科書p.74の擬似コードを最小限の変更で実装しようとすると，`cnt`はグローバル変数になる。グローバル変数はあまり使いたくないのだが，ここではそれでよい。\n",
        "-   （自分で考える）\n",
        "\n",
        "♠バブルソートとクイックソートを比べる先の実験と同じようにして，シェルソートとクイックソートを比べてみよう。"
      ],
      "metadata": {
        "id": "9fuB6TgBoduC"
      },
      "id": "9fuB6TgBoduC"
    },
    {
      "cell_type": "markdown",
      "source": [
        "## ♠おまけ"
      ],
      "metadata": {
        "id": "H7LdtPNNoduC"
      },
      "id": "H7LdtPNNoduC"
    },
    {
      "cell_type": "markdown",
      "source": [
        "\n",
        "要素数100くらいで使う場合，次のソートは，挿入ソートより遅いが，バブルソートより速いことを確かめてみよう。\n",
        "\n",
        "    def fung_sort(A):\n",
        "      n = len(A)\n",
        "      for i in range(n):\n",
        "        for j in range(n):\n",
        "          if A[i] < A[j]:\n",
        "            A[i], A[j] = A[j], A[i]\n",
        "\n",
        "出典：[Stanley P. Y. Fung. Is this the simplest (and most surprising) sorting algorithm ever?](https://arxiv.org/abs/2110.01111)\n",
        "\n",
        "参照：https://github.com/E869120/math-algorithm-book/blob/main/editorial/chap3-6/chap3-6.pdf"
      ],
      "metadata": {
        "id": "8zZm_UYAoduD"
      },
      "id": "8zZm_UYAoduD"
    },
    {
      "cell_type": "markdown",
      "source": [
        "## 宿題"
      ],
      "metadata": {
        "id": "LKB6O2b8oduD"
      },
      "id": "LKB6O2b8oduD"
    },
    {
      "cell_type": "markdown",
      "source": [
        "\n",
        "以下の問題をAC（Accepted）にする。Pythonを使うこと。\n",
        "\n",
        "-   [ITP1_2_C](https://onlinejudge.u-aizu.ac.jp/courses/lesson/2/ITP1/2/ITP1_2_C) (Sorting Three Numbers)\n",
        "-   [ALDS1_1_A](https://onlinejudge.u-aizu.ac.jp/courses/lesson/1/ALDS1/1/ALDS1_1_A) (Insertion Sort)\n",
        "-   [ALDS1_2_A](https://onlinejudge.u-aizu.ac.jp/courses/lesson/1/ALDS1/2/ALDS1_2_A) (Bubble Sort)\n",
        "-   [ALDS1_2_B](https://onlinejudge.u-aizu.ac.jp/courses/lesson/1/ALDS1/2/ALDS1_2_B) (Selection Sort)\n",
        "-   ♠[ALDS1_2_C](https://onlinejudge.u-aizu.ac.jp/courses/lesson/1/ALDS1/2/ALDS1_2_C) (Stable Sort)\n",
        "-   ♠[ALDS1_2_D](https://onlinejudge.u-aizu.ac.jp/courses/lesson/1/ALDS1/2/ALDS1_2_D) (Shell Sort)\n",
        "\n",
        "以上"
      ],
      "metadata": {
        "id": "dqiNLs9ioduD"
      },
      "id": "dqiNLs9ioduD"
    }
  ],
  "nbformat": 4,
  "nbformat_minor": 5,
  "metadata": {
    "colab": {
      "provenance": []
    },
    "language_info": {
      "name": "python"
    },
    "kernelspec": {
      "name": "python3",
      "display_name": "Python 3"
    }
  }
}